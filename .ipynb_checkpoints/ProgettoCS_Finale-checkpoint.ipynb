{
 "cells": [
  {
   "cell_type": "markdown",
   "metadata": {},
   "source": [
    "# <span style=\"color:#0f4c75\"> <center> Progetto di Foundations of Computer Science - AA 2019/2020 </center>"
   ]
  },
  {
   "cell_type": "markdown",
   "metadata": {
    "ExecuteTime": {
     "end_time": "2020-06-02T14:46:22.698092Z",
     "start_time": "2020-06-02T14:46:22.693092Z"
    }
   },
   "source": [
    "> <span style=\"color:#0f4c75\">**Studente**:</span> Campironi Matteo\n",
    ">\n",
    "> <span style=\"color:#3282b8\">**Matricola**:</span> 801850\n",
    "\n",
    "> <span style=\"color:#0f4c75\">**Studente**:</span> Di Maggio Serena\n",
    "> \n",
    "> <span style=\"color:#3282b8\">**Matricola**:</span> 821063"
   ]
  },
  {
   "cell_type": "markdown",
   "metadata": {},
   "source": [
    "***"
   ]
  },
  {
   "cell_type": "markdown",
   "metadata": {},
   "source": [
    "### <span style=\"color:#0f4c75\">  Importo le librerie necessarie"
   ]
  },
  {
   "cell_type": "code",
   "execution_count": 1,
   "metadata": {
    "ExecuteTime": {
     "end_time": "2020-06-04T13:36:35.656391Z",
     "start_time": "2020-06-04T13:36:34.964542Z"
    }
   },
   "outputs": [],
   "source": [
    "import pandas as pd\n",
    "import numpy as np\n",
    "import re\n",
    "import autotime\n",
    "import datetime as dt\n",
    "pd.set_option('display.max_columns', None)\n",
    "pd.options.display.float_format = '{:.4f}'.format"
   ]
  },
  {
   "cell_type": "code",
   "execution_count": 2,
   "metadata": {
    "ExecuteTime": {
     "end_time": "2020-06-04T13:36:35.661379Z",
     "start_time": "2020-06-04T13:36:35.657379Z"
    }
   },
   "outputs": [],
   "source": [
    "%load_ext autotime\n",
    "start = dt.datetime.now()"
   ]
  },
  {
   "cell_type": "markdown",
   "metadata": {},
   "source": [
    "### <span style=\"color:#0f4c75\"> Leggo i file CSV"
   ]
  },
  {
   "cell_type": "code",
   "execution_count": 3,
   "metadata": {
    "ExecuteTime": {
     "end_time": "2020-06-04T13:36:39.020091Z",
     "start_time": "2020-06-04T13:36:35.663378Z"
    }
   },
   "outputs": [
    {
     "name": "stdout",
     "output_type": "stream",
     "text": [
      "time: 3.44 s\n"
     ]
    }
   ],
   "source": [
    "df = pd.read_csv(r\"/Users/serenadimaggio/Desktop/progettoCoSc/loans_lenders.csv\")"
   ]
  },
  {
   "cell_type": "code",
   "execution_count": 4,
   "metadata": {
    "ExecuteTime": {
     "end_time": "2020-06-04T13:36:39.037092Z",
     "start_time": "2020-06-04T13:36:39.022091Z"
    }
   },
   "outputs": [
    {
     "data": {
      "text/html": [
       "<div>\n",
       "<style scoped>\n",
       "    .dataframe tbody tr th:only-of-type {\n",
       "        vertical-align: middle;\n",
       "    }\n",
       "\n",
       "    .dataframe tbody tr th {\n",
       "        vertical-align: top;\n",
       "    }\n",
       "\n",
       "    .dataframe thead th {\n",
       "        text-align: right;\n",
       "    }\n",
       "</style>\n",
       "<table border=\"1\" class=\"dataframe\">\n",
       "  <thead>\n",
       "    <tr style=\"text-align: right;\">\n",
       "      <th></th>\n",
       "      <th>loan_id</th>\n",
       "      <th>lenders</th>\n",
       "    </tr>\n",
       "  </thead>\n",
       "  <tbody>\n",
       "    <tr>\n",
       "      <th>0</th>\n",
       "      <td>483693</td>\n",
       "      <td>muc888, sam4326, camaran3922, lachheb1865, reb...</td>\n",
       "    </tr>\n",
       "    <tr>\n",
       "      <th>1</th>\n",
       "      <td>483738</td>\n",
       "      <td>muc888, nora3555, williammanashi, barbara5610,...</td>\n",
       "    </tr>\n",
       "    <tr>\n",
       "      <th>2</th>\n",
       "      <td>485000</td>\n",
       "      <td>muc888, terrystl, richardandsusan8352, sherri4...</td>\n",
       "    </tr>\n",
       "    <tr>\n",
       "      <th>3</th>\n",
       "      <td>486087</td>\n",
       "      <td>muc888, james5068, rudi5955, daniel9859, don92...</td>\n",
       "    </tr>\n",
       "    <tr>\n",
       "      <th>4</th>\n",
       "      <td>534428</td>\n",
       "      <td>muc888, niki3008, teresa9174, mike4896, david7...</td>\n",
       "    </tr>\n",
       "  </tbody>\n",
       "</table>\n",
       "</div>"
      ],
      "text/plain": [
       "   loan_id                                            lenders\n",
       "0   483693  muc888, sam4326, camaran3922, lachheb1865, reb...\n",
       "1   483738  muc888, nora3555, williammanashi, barbara5610,...\n",
       "2   485000  muc888, terrystl, richardandsusan8352, sherri4...\n",
       "3   486087  muc888, james5068, rudi5955, daniel9859, don92...\n",
       "4   534428  muc888, niki3008, teresa9174, mike4896, david7..."
      ]
     },
     "execution_count": 4,
     "metadata": {},
     "output_type": "execute_result"
    },
    {
     "name": "stdout",
     "output_type": "stream",
     "text": [
      "time: 17 ms\n"
     ]
    }
   ],
   "source": [
    "df.head()"
   ]
  },
  {
   "cell_type": "code",
   "execution_count": 5,
   "metadata": {
    "ExecuteTime": {
     "end_time": "2020-06-04T13:37:02.524431Z",
     "start_time": "2020-06-04T13:36:39.038090Z"
    }
   },
   "outputs": [
    {
     "name": "stdout",
     "output_type": "stream",
     "text": [
      "time: 32.6 s\n"
     ]
    }
   ],
   "source": [
    "loans = pd.read_csv(r\"/Users/serenadimaggio/Desktop/progettoCoSc/loans.csv\")"
   ]
  },
  {
   "cell_type": "code",
   "execution_count": 6,
   "metadata": {
    "ExecuteTime": {
     "end_time": "2020-06-04T13:37:02.546443Z",
     "start_time": "2020-06-04T13:37:02.525444Z"
    }
   },
   "outputs": [
    {
     "data": {
      "text/html": [
       "<div>\n",
       "<style scoped>\n",
       "    .dataframe tbody tr th:only-of-type {\n",
       "        vertical-align: middle;\n",
       "    }\n",
       "\n",
       "    .dataframe tbody tr th {\n",
       "        vertical-align: top;\n",
       "    }\n",
       "\n",
       "    .dataframe thead th {\n",
       "        text-align: right;\n",
       "    }\n",
       "</style>\n",
       "<table border=\"1\" class=\"dataframe\">\n",
       "  <thead>\n",
       "    <tr style=\"text-align: right;\">\n",
       "      <th></th>\n",
       "      <th>loan_id</th>\n",
       "      <th>loan_name</th>\n",
       "      <th>original_language</th>\n",
       "      <th>description</th>\n",
       "      <th>description_translated</th>\n",
       "      <th>funded_amount</th>\n",
       "      <th>loan_amount</th>\n",
       "      <th>status</th>\n",
       "      <th>activity_name</th>\n",
       "      <th>sector_name</th>\n",
       "      <th>loan_use</th>\n",
       "      <th>country_code</th>\n",
       "      <th>country_name</th>\n",
       "      <th>town_name</th>\n",
       "      <th>currency_policy</th>\n",
       "      <th>currency_exchange_coverage_rate</th>\n",
       "      <th>currency</th>\n",
       "      <th>partner_id</th>\n",
       "      <th>posted_time</th>\n",
       "      <th>planned_expiration_time</th>\n",
       "      <th>disburse_time</th>\n",
       "      <th>raised_time</th>\n",
       "      <th>lender_term</th>\n",
       "      <th>num_lenders_total</th>\n",
       "      <th>num_journal_entries</th>\n",
       "      <th>num_bulk_entries</th>\n",
       "      <th>tags</th>\n",
       "      <th>borrower_genders</th>\n",
       "      <th>borrower_pictured</th>\n",
       "      <th>repayment_interval</th>\n",
       "      <th>distribution_model</th>\n",
       "    </tr>\n",
       "  </thead>\n",
       "  <tbody>\n",
       "    <tr>\n",
       "      <th>0</th>\n",
       "      <td>657307</td>\n",
       "      <td>Aivy</td>\n",
       "      <td>English</td>\n",
       "      <td>Aivy, 21 years of age, is single and lives in ...</td>\n",
       "      <td>NaN</td>\n",
       "      <td>125.0000</td>\n",
       "      <td>125.0000</td>\n",
       "      <td>funded</td>\n",
       "      <td>General Store</td>\n",
       "      <td>Retail</td>\n",
       "      <td>to buy additional inventories for her sari-sa...</td>\n",
       "      <td>PH</td>\n",
       "      <td>Philippines</td>\n",
       "      <td>Ozamiz - Ozamiz City</td>\n",
       "      <td>shared</td>\n",
       "      <td>0.1000</td>\n",
       "      <td>PHP</td>\n",
       "      <td>126.0000</td>\n",
       "      <td>2014-01-15 02:23:45.000 +0000</td>\n",
       "      <td>2014-02-14 03:30:06.000 +0000</td>\n",
       "      <td>2013-12-22 08:00:00.000 +0000</td>\n",
       "      <td>2014-01-15 04:48:22.000 +0000</td>\n",
       "      <td>7.0000</td>\n",
       "      <td>3</td>\n",
       "      <td>2</td>\n",
       "      <td>1</td>\n",
       "      <td>NaN</td>\n",
       "      <td>female</td>\n",
       "      <td>true</td>\n",
       "      <td>irregular</td>\n",
       "      <td>field_partner</td>\n",
       "    </tr>\n",
       "    <tr>\n",
       "      <th>1</th>\n",
       "      <td>657259</td>\n",
       "      <td>Idalia Marizza</td>\n",
       "      <td>Spanish</td>\n",
       "      <td>Doña Idalia, esta casada, tiene 57 años de eda...</td>\n",
       "      <td>Idalia, 57, is married and lives with her husb...</td>\n",
       "      <td>400.0000</td>\n",
       "      <td>400.0000</td>\n",
       "      <td>funded</td>\n",
       "      <td>Used Clothing</td>\n",
       "      <td>Clothing</td>\n",
       "      <td>To buy American clothing such as blouses, shir...</td>\n",
       "      <td>HN</td>\n",
       "      <td>Honduras</td>\n",
       "      <td>La Lopez, Choloma</td>\n",
       "      <td>shared</td>\n",
       "      <td>0.1000</td>\n",
       "      <td>HNL</td>\n",
       "      <td>201.0000</td>\n",
       "      <td>2014-01-14 20:23:20.000 +0000</td>\n",
       "      <td>2014-03-26 22:25:07.000 +0000</td>\n",
       "      <td>2013-12-20 08:00:00.000 +0000</td>\n",
       "      <td>2014-02-25 06:42:06.000 +0000</td>\n",
       "      <td>8.0000</td>\n",
       "      <td>11</td>\n",
       "      <td>2</td>\n",
       "      <td>1</td>\n",
       "      <td>NaN</td>\n",
       "      <td>female</td>\n",
       "      <td>true</td>\n",
       "      <td>monthly</td>\n",
       "      <td>field_partner</td>\n",
       "    </tr>\n",
       "    <tr>\n",
       "      <th>2</th>\n",
       "      <td>658010</td>\n",
       "      <td>Aasia</td>\n",
       "      <td>English</td>\n",
       "      <td>Aasia is a 45-year-old married lady and she ha...</td>\n",
       "      <td>NaN</td>\n",
       "      <td>400.0000</td>\n",
       "      <td>400.0000</td>\n",
       "      <td>funded</td>\n",
       "      <td>General Store</td>\n",
       "      <td>Retail</td>\n",
       "      <td>to buy stock of rice, sugar and flour</td>\n",
       "      <td>PK</td>\n",
       "      <td>Pakistan</td>\n",
       "      <td>Lala Musa</td>\n",
       "      <td>shared</td>\n",
       "      <td>0.1000</td>\n",
       "      <td>PKR</td>\n",
       "      <td>245.0000</td>\n",
       "      <td>2014-01-16 11:32:58.000 +0000</td>\n",
       "      <td>2014-02-15 21:10:05.000 +0000</td>\n",
       "      <td>2014-01-09 08:00:00.000 +0000</td>\n",
       "      <td>2014-01-24 23:06:18.000 +0000</td>\n",
       "      <td>14.0000</td>\n",
       "      <td>16</td>\n",
       "      <td>2</td>\n",
       "      <td>1</td>\n",
       "      <td>#Woman Owned Biz, #Supporting Family, user_fav...</td>\n",
       "      <td>female</td>\n",
       "      <td>true</td>\n",
       "      <td>monthly</td>\n",
       "      <td>field_partner</td>\n",
       "    </tr>\n",
       "    <tr>\n",
       "      <th>3</th>\n",
       "      <td>659347</td>\n",
       "      <td>Gulmira</td>\n",
       "      <td>Russian</td>\n",
       "      <td>Гулмире 36 лет, замужем, вместе с супругом вос...</td>\n",
       "      <td>Gulmira is 36 years old and married.  She and ...</td>\n",
       "      <td>625.0000</td>\n",
       "      <td>625.0000</td>\n",
       "      <td>funded</td>\n",
       "      <td>Farming</td>\n",
       "      <td>Agriculture</td>\n",
       "      <td>to buy cucumber and tomato seeds, as well as f...</td>\n",
       "      <td>KG</td>\n",
       "      <td>Kyrgyzstan</td>\n",
       "      <td>Aravan village, Osh region</td>\n",
       "      <td>shared</td>\n",
       "      <td>0.1000</td>\n",
       "      <td>KGS</td>\n",
       "      <td>171.0000</td>\n",
       "      <td>2014-01-20 09:59:48.000 +0000</td>\n",
       "      <td>2014-02-21 03:10:02.000 +0000</td>\n",
       "      <td>2014-01-17 08:00:00.000 +0000</td>\n",
       "      <td>2014-01-22 05:29:28.000 +0000</td>\n",
       "      <td>14.0000</td>\n",
       "      <td>21</td>\n",
       "      <td>2</td>\n",
       "      <td>1</td>\n",
       "      <td>user_favorite</td>\n",
       "      <td>female</td>\n",
       "      <td>true</td>\n",
       "      <td>monthly</td>\n",
       "      <td>field_partner</td>\n",
       "    </tr>\n",
       "    <tr>\n",
       "      <th>4</th>\n",
       "      <td>656933</td>\n",
       "      <td>Ricky\\t</td>\n",
       "      <td>English</td>\n",
       "      <td>Ricky is a farmer who currently cultivates his...</td>\n",
       "      <td>NaN</td>\n",
       "      <td>425.0000</td>\n",
       "      <td>425.0000</td>\n",
       "      <td>funded</td>\n",
       "      <td>Farming</td>\n",
       "      <td>Agriculture</td>\n",
       "      <td>to buy organic fertilizer and agrochemical pr...</td>\n",
       "      <td>PH</td>\n",
       "      <td>Philippines</td>\n",
       "      <td>Baleleng, Sto. Thomas, Isabela</td>\n",
       "      <td>shared</td>\n",
       "      <td>0.1000</td>\n",
       "      <td>PHP</td>\n",
       "      <td>123.0000</td>\n",
       "      <td>2014-01-14 05:46:21.000 +0000</td>\n",
       "      <td>2014-02-13 06:10:02.000 +0000</td>\n",
       "      <td>2013-12-17 08:00:00.000 +0000</td>\n",
       "      <td>2014-01-14 17:29:27.000 +0000</td>\n",
       "      <td>7.0000</td>\n",
       "      <td>15</td>\n",
       "      <td>2</td>\n",
       "      <td>1</td>\n",
       "      <td>#Animals, #Eco-friendly, #Sustainable Ag</td>\n",
       "      <td>male</td>\n",
       "      <td>true</td>\n",
       "      <td>bullet</td>\n",
       "      <td>field_partner</td>\n",
       "    </tr>\n",
       "  </tbody>\n",
       "</table>\n",
       "</div>"
      ],
      "text/plain": [
       "   loan_id       loan_name original_language  \\\n",
       "0   657307            Aivy           English   \n",
       "1   657259  Idalia Marizza           Spanish   \n",
       "2   658010           Aasia           English   \n",
       "3   659347         Gulmira           Russian   \n",
       "4   656933         Ricky\\t           English   \n",
       "\n",
       "                                         description  \\\n",
       "0  Aivy, 21 years of age, is single and lives in ...   \n",
       "1  Doña Idalia, esta casada, tiene 57 años de eda...   \n",
       "2  Aasia is a 45-year-old married lady and she ha...   \n",
       "3  Гулмире 36 лет, замужем, вместе с супругом вос...   \n",
       "4  Ricky is a farmer who currently cultivates his...   \n",
       "\n",
       "                              description_translated  funded_amount  \\\n",
       "0                                                NaN       125.0000   \n",
       "1  Idalia, 57, is married and lives with her husb...       400.0000   \n",
       "2                                                NaN       400.0000   \n",
       "3  Gulmira is 36 years old and married.  She and ...       625.0000   \n",
       "4                                                NaN       425.0000   \n",
       "\n",
       "   loan_amount  status  activity_name  sector_name  \\\n",
       "0     125.0000  funded  General Store       Retail   \n",
       "1     400.0000  funded  Used Clothing     Clothing   \n",
       "2     400.0000  funded  General Store       Retail   \n",
       "3     625.0000  funded        Farming  Agriculture   \n",
       "4     425.0000  funded        Farming  Agriculture   \n",
       "\n",
       "                                            loan_use country_code  \\\n",
       "0   to buy additional inventories for her sari-sa...           PH   \n",
       "1  To buy American clothing such as blouses, shir...           HN   \n",
       "2              to buy stock of rice, sugar and flour           PK   \n",
       "3  to buy cucumber and tomato seeds, as well as f...           KG   \n",
       "4   to buy organic fertilizer and agrochemical pr...           PH   \n",
       "\n",
       "  country_name                       town_name currency_policy  \\\n",
       "0  Philippines            Ozamiz - Ozamiz City          shared   \n",
       "1     Honduras               La Lopez, Choloma          shared   \n",
       "2     Pakistan                       Lala Musa          shared   \n",
       "3   Kyrgyzstan      Aravan village, Osh region          shared   \n",
       "4  Philippines  Baleleng, Sto. Thomas, Isabela          shared   \n",
       "\n",
       "   currency_exchange_coverage_rate currency  partner_id  \\\n",
       "0                           0.1000      PHP    126.0000   \n",
       "1                           0.1000      HNL    201.0000   \n",
       "2                           0.1000      PKR    245.0000   \n",
       "3                           0.1000      KGS    171.0000   \n",
       "4                           0.1000      PHP    123.0000   \n",
       "\n",
       "                     posted_time        planned_expiration_time  \\\n",
       "0  2014-01-15 02:23:45.000 +0000  2014-02-14 03:30:06.000 +0000   \n",
       "1  2014-01-14 20:23:20.000 +0000  2014-03-26 22:25:07.000 +0000   \n",
       "2  2014-01-16 11:32:58.000 +0000  2014-02-15 21:10:05.000 +0000   \n",
       "3  2014-01-20 09:59:48.000 +0000  2014-02-21 03:10:02.000 +0000   \n",
       "4  2014-01-14 05:46:21.000 +0000  2014-02-13 06:10:02.000 +0000   \n",
       "\n",
       "                   disburse_time                    raised_time  lender_term  \\\n",
       "0  2013-12-22 08:00:00.000 +0000  2014-01-15 04:48:22.000 +0000       7.0000   \n",
       "1  2013-12-20 08:00:00.000 +0000  2014-02-25 06:42:06.000 +0000       8.0000   \n",
       "2  2014-01-09 08:00:00.000 +0000  2014-01-24 23:06:18.000 +0000      14.0000   \n",
       "3  2014-01-17 08:00:00.000 +0000  2014-01-22 05:29:28.000 +0000      14.0000   \n",
       "4  2013-12-17 08:00:00.000 +0000  2014-01-14 17:29:27.000 +0000       7.0000   \n",
       "\n",
       "   num_lenders_total  num_journal_entries  num_bulk_entries  \\\n",
       "0                  3                    2                 1   \n",
       "1                 11                    2                 1   \n",
       "2                 16                    2                 1   \n",
       "3                 21                    2                 1   \n",
       "4                 15                    2                 1   \n",
       "\n",
       "                                                tags borrower_genders  \\\n",
       "0                                                NaN           female   \n",
       "1                                                NaN           female   \n",
       "2  #Woman Owned Biz, #Supporting Family, user_fav...           female   \n",
       "3                                      user_favorite           female   \n",
       "4           #Animals, #Eco-friendly, #Sustainable Ag             male   \n",
       "\n",
       "  borrower_pictured repayment_interval distribution_model  \n",
       "0              true          irregular      field_partner  \n",
       "1              true            monthly      field_partner  \n",
       "2              true            monthly      field_partner  \n",
       "3              true            monthly      field_partner  \n",
       "4              true             bullet      field_partner  "
      ]
     },
     "execution_count": 6,
     "metadata": {},
     "output_type": "execute_result"
    },
    {
     "name": "stdout",
     "output_type": "stream",
     "text": [
      "time: 44.1 ms\n"
     ]
    }
   ],
   "source": [
    "loans.head()"
   ]
  },
  {
   "cell_type": "code",
   "execution_count": 7,
   "metadata": {
    "ExecuteTime": {
     "end_time": "2020-06-04T13:37:05.686339Z",
     "start_time": "2020-06-04T13:37:02.547427Z"
    }
   },
   "outputs": [
    {
     "name": "stdout",
     "output_type": "stream",
     "text": [
      "time: 4.99 s\n"
     ]
    }
   ],
   "source": [
    "lenders = pd.read_csv(r\"/Users/serenadimaggio/Desktop/progettoCoSc/lenders.csv\")"
   ]
  },
  {
   "cell_type": "code",
   "execution_count": 8,
   "metadata": {
    "ExecuteTime": {
     "end_time": "2020-06-04T13:37:05.698339Z",
     "start_time": "2020-06-04T13:37:05.688339Z"
    }
   },
   "outputs": [
    {
     "data": {
      "text/html": [
       "<div>\n",
       "<style scoped>\n",
       "    .dataframe tbody tr th:only-of-type {\n",
       "        vertical-align: middle;\n",
       "    }\n",
       "\n",
       "    .dataframe tbody tr th {\n",
       "        vertical-align: top;\n",
       "    }\n",
       "\n",
       "    .dataframe thead th {\n",
       "        text-align: right;\n",
       "    }\n",
       "</style>\n",
       "<table border=\"1\" class=\"dataframe\">\n",
       "  <thead>\n",
       "    <tr style=\"text-align: right;\">\n",
       "      <th></th>\n",
       "      <th>permanent_name</th>\n",
       "      <th>display_name</th>\n",
       "      <th>city</th>\n",
       "      <th>state</th>\n",
       "      <th>country_code</th>\n",
       "      <th>member_since</th>\n",
       "      <th>occupation</th>\n",
       "      <th>loan_because</th>\n",
       "      <th>loan_purchase_num</th>\n",
       "      <th>invited_by</th>\n",
       "      <th>num_invited</th>\n",
       "    </tr>\n",
       "  </thead>\n",
       "  <tbody>\n",
       "    <tr>\n",
       "      <th>0</th>\n",
       "      <td>qian3013</td>\n",
       "      <td>Qian</td>\n",
       "      <td>NaN</td>\n",
       "      <td>NaN</td>\n",
       "      <td>NaN</td>\n",
       "      <td>1461300457</td>\n",
       "      <td>NaN</td>\n",
       "      <td>NaN</td>\n",
       "      <td>1.0000</td>\n",
       "      <td>NaN</td>\n",
       "      <td>0</td>\n",
       "    </tr>\n",
       "    <tr>\n",
       "      <th>1</th>\n",
       "      <td>reena6733</td>\n",
       "      <td>Reena</td>\n",
       "      <td>NaN</td>\n",
       "      <td>NaN</td>\n",
       "      <td>NaN</td>\n",
       "      <td>1461300634</td>\n",
       "      <td>NaN</td>\n",
       "      <td>NaN</td>\n",
       "      <td>9.0000</td>\n",
       "      <td>NaN</td>\n",
       "      <td>0</td>\n",
       "    </tr>\n",
       "    <tr>\n",
       "      <th>2</th>\n",
       "      <td>mai5982</td>\n",
       "      <td>Mai</td>\n",
       "      <td>NaN</td>\n",
       "      <td>NaN</td>\n",
       "      <td>NaN</td>\n",
       "      <td>1461300853</td>\n",
       "      <td>NaN</td>\n",
       "      <td>NaN</td>\n",
       "      <td>nan</td>\n",
       "      <td>NaN</td>\n",
       "      <td>0</td>\n",
       "    </tr>\n",
       "    <tr>\n",
       "      <th>3</th>\n",
       "      <td>andrew86079135</td>\n",
       "      <td>Andrew</td>\n",
       "      <td>NaN</td>\n",
       "      <td>NaN</td>\n",
       "      <td>NaN</td>\n",
       "      <td>1461301091</td>\n",
       "      <td>NaN</td>\n",
       "      <td>NaN</td>\n",
       "      <td>5.0000</td>\n",
       "      <td>Peter Tan</td>\n",
       "      <td>0</td>\n",
       "    </tr>\n",
       "    <tr>\n",
       "      <th>4</th>\n",
       "      <td>nguyen6962</td>\n",
       "      <td>Nguyen</td>\n",
       "      <td>NaN</td>\n",
       "      <td>NaN</td>\n",
       "      <td>NaN</td>\n",
       "      <td>1461301154</td>\n",
       "      <td>NaN</td>\n",
       "      <td>NaN</td>\n",
       "      <td>nan</td>\n",
       "      <td>NaN</td>\n",
       "      <td>0</td>\n",
       "    </tr>\n",
       "  </tbody>\n",
       "</table>\n",
       "</div>"
      ],
      "text/plain": [
       "   permanent_name display_name city state country_code  member_since  \\\n",
       "0        qian3013         Qian  NaN   NaN          NaN    1461300457   \n",
       "1       reena6733        Reena  NaN   NaN          NaN    1461300634   \n",
       "2         mai5982          Mai  NaN   NaN          NaN    1461300853   \n",
       "3  andrew86079135       Andrew  NaN   NaN          NaN    1461301091   \n",
       "4      nguyen6962       Nguyen  NaN   NaN          NaN    1461301154   \n",
       "\n",
       "  occupation loan_because  loan_purchase_num invited_by  num_invited  \n",
       "0        NaN          NaN             1.0000        NaN            0  \n",
       "1        NaN          NaN             9.0000        NaN            0  \n",
       "2        NaN          NaN                nan        NaN            0  \n",
       "3        NaN          NaN             5.0000  Peter Tan            0  \n",
       "4        NaN          NaN                nan        NaN            0  "
      ]
     },
     "execution_count": 8,
     "metadata": {},
     "output_type": "execute_result"
    },
    {
     "name": "stdout",
     "output_type": "stream",
     "text": [
      "time: 27.1 ms\n"
     ]
    }
   ],
   "source": [
    "lenders.head()"
   ]
  },
  {
   "cell_type": "code",
   "execution_count": 9,
   "metadata": {
    "ExecuteTime": {
     "end_time": "2020-06-04T13:37:05.710339Z",
     "start_time": "2020-06-04T13:37:05.700339Z"
    }
   },
   "outputs": [
    {
     "name": "stdout",
     "output_type": "stream",
     "text": [
      "time: 18.9 ms\n"
     ]
    }
   ],
   "source": [
    "country_stats = pd.read_csv(r\"/Users/serenadimaggio/Desktop/progettoCoSc/country_stats.csv\")"
   ]
  },
  {
   "cell_type": "code",
   "execution_count": 10,
   "metadata": {
    "ExecuteTime": {
     "end_time": "2020-06-04T13:37:05.733337Z",
     "start_time": "2020-06-04T13:37:05.714339Z"
    }
   },
   "outputs": [
    {
     "data": {
      "text/html": [
       "<div>\n",
       "<style scoped>\n",
       "    .dataframe tbody tr th:only-of-type {\n",
       "        vertical-align: middle;\n",
       "    }\n",
       "\n",
       "    .dataframe tbody tr th {\n",
       "        vertical-align: top;\n",
       "    }\n",
       "\n",
       "    .dataframe thead th {\n",
       "        text-align: right;\n",
       "    }\n",
       "</style>\n",
       "<table border=\"1\" class=\"dataframe\">\n",
       "  <thead>\n",
       "    <tr style=\"text-align: right;\">\n",
       "      <th></th>\n",
       "      <th>country_name</th>\n",
       "      <th>country_code</th>\n",
       "      <th>country_code3</th>\n",
       "      <th>continent</th>\n",
       "      <th>region</th>\n",
       "      <th>population</th>\n",
       "      <th>population_below_poverty_line</th>\n",
       "      <th>hdi</th>\n",
       "      <th>life_expectancy</th>\n",
       "      <th>expected_years_of_schooling</th>\n",
       "      <th>mean_years_of_schooling</th>\n",
       "      <th>gni</th>\n",
       "      <th>kiva_country_name</th>\n",
       "    </tr>\n",
       "  </thead>\n",
       "  <tbody>\n",
       "    <tr>\n",
       "      <th>0</th>\n",
       "      <td>India</td>\n",
       "      <td>IN</td>\n",
       "      <td>IND</td>\n",
       "      <td>Asia</td>\n",
       "      <td>Southern Asia</td>\n",
       "      <td>1339180127</td>\n",
       "      <td>21.9000</td>\n",
       "      <td>0.6236</td>\n",
       "      <td>68.3220</td>\n",
       "      <td>11.6966</td>\n",
       "      <td>6.2988</td>\n",
       "      <td>5663.4748</td>\n",
       "      <td>India</td>\n",
       "    </tr>\n",
       "    <tr>\n",
       "      <th>1</th>\n",
       "      <td>Nigeria</td>\n",
       "      <td>NG</td>\n",
       "      <td>NGA</td>\n",
       "      <td>Africa</td>\n",
       "      <td>Western Africa</td>\n",
       "      <td>190886311</td>\n",
       "      <td>70.0000</td>\n",
       "      <td>0.5271</td>\n",
       "      <td>53.0570</td>\n",
       "      <td>9.9705</td>\n",
       "      <td>6.0000</td>\n",
       "      <td>5442.9013</td>\n",
       "      <td>Nigeria</td>\n",
       "    </tr>\n",
       "    <tr>\n",
       "      <th>2</th>\n",
       "      <td>Mexico</td>\n",
       "      <td>MX</td>\n",
       "      <td>MEX</td>\n",
       "      <td>Americas</td>\n",
       "      <td>Central America</td>\n",
       "      <td>129163276</td>\n",
       "      <td>46.2000</td>\n",
       "      <td>0.7617</td>\n",
       "      <td>76.9720</td>\n",
       "      <td>13.2991</td>\n",
       "      <td>8.5550</td>\n",
       "      <td>16383.1067</td>\n",
       "      <td>Mexico</td>\n",
       "    </tr>\n",
       "    <tr>\n",
       "      <th>3</th>\n",
       "      <td>Pakistan</td>\n",
       "      <td>PK</td>\n",
       "      <td>PAK</td>\n",
       "      <td>Asia</td>\n",
       "      <td>Southern Asia</td>\n",
       "      <td>197015955</td>\n",
       "      <td>29.5000</td>\n",
       "      <td>0.5504</td>\n",
       "      <td>66.3650</td>\n",
       "      <td>8.1069</td>\n",
       "      <td>5.0895</td>\n",
       "      <td>5031.1731</td>\n",
       "      <td>Pakistan</td>\n",
       "    </tr>\n",
       "    <tr>\n",
       "      <th>4</th>\n",
       "      <td>Bangladesh</td>\n",
       "      <td>BD</td>\n",
       "      <td>BGD</td>\n",
       "      <td>Asia</td>\n",
       "      <td>Southern Asia</td>\n",
       "      <td>164669751</td>\n",
       "      <td>31.5000</td>\n",
       "      <td>0.5788</td>\n",
       "      <td>71.9850</td>\n",
       "      <td>10.1787</td>\n",
       "      <td>5.2416</td>\n",
       "      <td>3341.4907</td>\n",
       "      <td>Bangladesh</td>\n",
       "    </tr>\n",
       "  </tbody>\n",
       "</table>\n",
       "</div>"
      ],
      "text/plain": [
       "  country_name country_code country_code3 continent           region  \\\n",
       "0        India           IN           IND      Asia    Southern Asia   \n",
       "1      Nigeria           NG           NGA    Africa   Western Africa   \n",
       "2       Mexico           MX           MEX  Americas  Central America   \n",
       "3     Pakistan           PK           PAK      Asia    Southern Asia   \n",
       "4   Bangladesh           BD           BGD      Asia    Southern Asia   \n",
       "\n",
       "   population  population_below_poverty_line    hdi  life_expectancy  \\\n",
       "0  1339180127                        21.9000 0.6236          68.3220   \n",
       "1   190886311                        70.0000 0.5271          53.0570   \n",
       "2   129163276                        46.2000 0.7617          76.9720   \n",
       "3   197015955                        29.5000 0.5504          66.3650   \n",
       "4   164669751                        31.5000 0.5788          71.9850   \n",
       "\n",
       "   expected_years_of_schooling  mean_years_of_schooling        gni  \\\n",
       "0                      11.6966                   6.2988  5663.4748   \n",
       "1                       9.9705                   6.0000  5442.9013   \n",
       "2                      13.2991                   8.5550 16383.1067   \n",
       "3                       8.1069                   5.0895  5031.1731   \n",
       "4                      10.1787                   5.2416  3341.4907   \n",
       "\n",
       "  kiva_country_name  \n",
       "0             India  \n",
       "1           Nigeria  \n",
       "2            Mexico  \n",
       "3          Pakistan  \n",
       "4        Bangladesh  "
      ]
     },
     "execution_count": 10,
     "metadata": {},
     "output_type": "execute_result"
    },
    {
     "name": "stdout",
     "output_type": "stream",
     "text": [
      "time: 52.2 ms\n"
     ]
    }
   ],
   "source": [
    "country_stats.head()"
   ]
  },
  {
   "cell_type": "markdown",
   "metadata": {},
   "source": [
    "***"
   ]
  },
  {
   "cell_type": "markdown",
   "metadata": {},
   "source": [
    "###  <span style=\"color:#3282b8\">1. Normalize the *loan_lenders* table. In the normalized table, each row must have one *loan_id* and one *lender*."
   ]
  },
  {
   "cell_type": "code",
   "execution_count": 11,
   "metadata": {
    "ExecuteTime": {
     "end_time": "2020-06-04T13:37:16.613031Z",
     "start_time": "2020-06-04T13:37:05.734338Z"
    }
   },
   "outputs": [
    {
     "name": "stdout",
     "output_type": "stream",
     "text": [
      "time: 16.8 s\n"
     ]
    }
   ],
   "source": [
    "df = df.set_index('loan_id')['lenders'].str.split(pat=',').explode().reset_index()"
   ]
  },
  {
   "cell_type": "code",
   "execution_count": 12,
   "metadata": {
    "ExecuteTime": {
     "end_time": "2020-06-04T13:37:16.621030Z",
     "start_time": "2020-06-04T13:37:16.614030Z"
    }
   },
   "outputs": [
    {
     "data": {
      "text/html": [
       "<div>\n",
       "<style scoped>\n",
       "    .dataframe tbody tr th:only-of-type {\n",
       "        vertical-align: middle;\n",
       "    }\n",
       "\n",
       "    .dataframe tbody tr th {\n",
       "        vertical-align: top;\n",
       "    }\n",
       "\n",
       "    .dataframe thead th {\n",
       "        text-align: right;\n",
       "    }\n",
       "</style>\n",
       "<table border=\"1\" class=\"dataframe\">\n",
       "  <thead>\n",
       "    <tr style=\"text-align: right;\">\n",
       "      <th></th>\n",
       "      <th>loan_id</th>\n",
       "      <th>lenders</th>\n",
       "    </tr>\n",
       "  </thead>\n",
       "  <tbody>\n",
       "    <tr>\n",
       "      <th>0</th>\n",
       "      <td>483693</td>\n",
       "      <td>muc888</td>\n",
       "    </tr>\n",
       "    <tr>\n",
       "      <th>1</th>\n",
       "      <td>483693</td>\n",
       "      <td>sam4326</td>\n",
       "    </tr>\n",
       "    <tr>\n",
       "      <th>2</th>\n",
       "      <td>483693</td>\n",
       "      <td>camaran3922</td>\n",
       "    </tr>\n",
       "    <tr>\n",
       "      <th>3</th>\n",
       "      <td>483693</td>\n",
       "      <td>lachheb1865</td>\n",
       "    </tr>\n",
       "    <tr>\n",
       "      <th>4</th>\n",
       "      <td>483693</td>\n",
       "      <td>rebecca3499</td>\n",
       "    </tr>\n",
       "  </tbody>\n",
       "</table>\n",
       "</div>"
      ],
      "text/plain": [
       "   loan_id       lenders\n",
       "0   483693        muc888\n",
       "1   483693       sam4326\n",
       "2   483693   camaran3922\n",
       "3   483693   lachheb1865\n",
       "4   483693   rebecca3499"
      ]
     },
     "execution_count": 12,
     "metadata": {},
     "output_type": "execute_result"
    },
    {
     "name": "stdout",
     "output_type": "stream",
     "text": [
      "time: 14.8 ms\n"
     ]
    }
   ],
   "source": [
    "df.head()"
   ]
  },
  {
   "cell_type": "markdown",
   "metadata": {},
   "source": [
    "***"
   ]
  },
  {
   "cell_type": "markdown",
   "metadata": {},
   "source": [
    "###  <span style=\"color:#3282b8\">2. For each loan, add a column duration corresponding to the number of days between the disburse time and the planned expiration time. If any of those two dates is missing, also the duration must be missing</span>"
   ]
  },
  {
   "cell_type": "markdown",
   "metadata": {},
   "source": [
    "Si prende in considerazione il dataframe `loans`, che contiene `disburse_time` e `planned_expiration_time`. Non è possibile però trattarle direttamente come date, in quanto sono viste come strighe:"
   ]
  },
  {
   "cell_type": "code",
   "execution_count": 13,
   "metadata": {
    "ExecuteTime": {
     "end_time": "2020-06-04T13:37:16.645030Z",
     "start_time": "2020-06-04T13:37:16.622030Z"
    }
   },
   "outputs": [
    {
     "name": "stdout",
     "output_type": "stream",
     "text": [
      "<class 'str'>\n",
      "<class 'str'>\n",
      "time: 15 ms\n"
     ]
    }
   ],
   "source": [
    "print(type(loans.disburse_time[0]))\n",
    "print(type(loans.planned_expiration_time[0]))"
   ]
  },
  {
   "cell_type": "markdown",
   "metadata": {},
   "source": [
    "Per questo si farà uso del metodo `to_datetime` per convertirli in date e riuscire a fare i conti agevolmente."
   ]
  },
  {
   "cell_type": "code",
   "execution_count": 14,
   "metadata": {
    "ExecuteTime": {
     "end_time": "2020-06-04T13:37:18.402385Z",
     "start_time": "2020-06-04T13:37:16.647030Z"
    },
    "scrolled": true
   },
   "outputs": [
    {
     "name": "stdout",
     "output_type": "stream",
     "text": [
      "time: 1.2 s\n"
     ]
    }
   ],
   "source": [
    "loans['duration'] = (pd.to_datetime(loans.disburse_time)-pd.to_datetime(loans.planned_expiration_time)).dt.days"
   ]
  },
  {
   "cell_type": "markdown",
   "metadata": {},
   "source": [
    "Quello che è possibile osservare è che compaiono valori di `duration` che sono minori di 0, il che implica che `disburse_time` sia precedente a `planned_expiration_time`. Leggendo la documentazione di Kiva:\n",
    "\n",
    "- disburse_time: The date at which the funds from the loan were given to the borrowers. Note that it is possible for the money to be disbursed to borrowers before the loan is posted on Kiva.\n",
    "\n",
    "Infatti secondo il sito di Kiva, non sempre i soldi non vengono trasferiti direttamente a chi li richiede, ma passano per delle organizzazioni chiamate <a href=https://www.kiva.org/about/where-kiva-works/partner>Field Partner</a>. Queste si occupano della gestione del denaro e, in caso di disponibilità, possono sborsare la somma del prestito anche prima che questa venga finanziata su Kiva. Ulteriori informazioni sono disponibili su: https://www.kiva.org/about/how\n",
    "\n",
    "Di conseguenza verranno considerati come normali valori con `duration` negativa."
   ]
  },
  {
   "cell_type": "code",
   "execution_count": 15,
   "metadata": {
    "ExecuteTime": {
     "end_time": "2020-06-04T13:37:18.436368Z",
     "start_time": "2020-06-04T13:37:18.403369Z"
    }
   },
   "outputs": [
    {
     "data": {
      "text/html": [
       "<div>\n",
       "<style scoped>\n",
       "    .dataframe tbody tr th:only-of-type {\n",
       "        vertical-align: middle;\n",
       "    }\n",
       "\n",
       "    .dataframe tbody tr th {\n",
       "        vertical-align: top;\n",
       "    }\n",
       "\n",
       "    .dataframe thead th {\n",
       "        text-align: right;\n",
       "    }\n",
       "</style>\n",
       "<table border=\"1\" class=\"dataframe\">\n",
       "  <thead>\n",
       "    <tr style=\"text-align: right;\">\n",
       "      <th></th>\n",
       "      <th>loan_id</th>\n",
       "      <th>loan_name</th>\n",
       "      <th>original_language</th>\n",
       "      <th>description</th>\n",
       "      <th>description_translated</th>\n",
       "      <th>funded_amount</th>\n",
       "      <th>loan_amount</th>\n",
       "      <th>status</th>\n",
       "      <th>activity_name</th>\n",
       "      <th>sector_name</th>\n",
       "      <th>loan_use</th>\n",
       "      <th>country_code</th>\n",
       "      <th>country_name</th>\n",
       "      <th>town_name</th>\n",
       "      <th>currency_policy</th>\n",
       "      <th>currency_exchange_coverage_rate</th>\n",
       "      <th>currency</th>\n",
       "      <th>partner_id</th>\n",
       "      <th>posted_time</th>\n",
       "      <th>planned_expiration_time</th>\n",
       "      <th>disburse_time</th>\n",
       "      <th>raised_time</th>\n",
       "      <th>lender_term</th>\n",
       "      <th>num_lenders_total</th>\n",
       "      <th>num_journal_entries</th>\n",
       "      <th>num_bulk_entries</th>\n",
       "      <th>tags</th>\n",
       "      <th>borrower_genders</th>\n",
       "      <th>borrower_pictured</th>\n",
       "      <th>repayment_interval</th>\n",
       "      <th>distribution_model</th>\n",
       "      <th>duration</th>\n",
       "    </tr>\n",
       "  </thead>\n",
       "  <tbody>\n",
       "    <tr>\n",
       "      <th>0</th>\n",
       "      <td>657307</td>\n",
       "      <td>Aivy</td>\n",
       "      <td>English</td>\n",
       "      <td>Aivy, 21 years of age, is single and lives in ...</td>\n",
       "      <td>NaN</td>\n",
       "      <td>125.0000</td>\n",
       "      <td>125.0000</td>\n",
       "      <td>funded</td>\n",
       "      <td>General Store</td>\n",
       "      <td>Retail</td>\n",
       "      <td>to buy additional inventories for her sari-sa...</td>\n",
       "      <td>PH</td>\n",
       "      <td>Philippines</td>\n",
       "      <td>Ozamiz - Ozamiz City</td>\n",
       "      <td>shared</td>\n",
       "      <td>0.1000</td>\n",
       "      <td>PHP</td>\n",
       "      <td>126.0000</td>\n",
       "      <td>2014-01-15 02:23:45.000 +0000</td>\n",
       "      <td>2014-02-14 03:30:06.000 +0000</td>\n",
       "      <td>2013-12-22 08:00:00.000 +0000</td>\n",
       "      <td>2014-01-15 04:48:22.000 +0000</td>\n",
       "      <td>7.0000</td>\n",
       "      <td>3</td>\n",
       "      <td>2</td>\n",
       "      <td>1</td>\n",
       "      <td>NaN</td>\n",
       "      <td>female</td>\n",
       "      <td>true</td>\n",
       "      <td>irregular</td>\n",
       "      <td>field_partner</td>\n",
       "      <td>-54.0000</td>\n",
       "    </tr>\n",
       "    <tr>\n",
       "      <th>1</th>\n",
       "      <td>657259</td>\n",
       "      <td>Idalia Marizza</td>\n",
       "      <td>Spanish</td>\n",
       "      <td>Doña Idalia, esta casada, tiene 57 años de eda...</td>\n",
       "      <td>Idalia, 57, is married and lives with her husb...</td>\n",
       "      <td>400.0000</td>\n",
       "      <td>400.0000</td>\n",
       "      <td>funded</td>\n",
       "      <td>Used Clothing</td>\n",
       "      <td>Clothing</td>\n",
       "      <td>To buy American clothing such as blouses, shir...</td>\n",
       "      <td>HN</td>\n",
       "      <td>Honduras</td>\n",
       "      <td>La Lopez, Choloma</td>\n",
       "      <td>shared</td>\n",
       "      <td>0.1000</td>\n",
       "      <td>HNL</td>\n",
       "      <td>201.0000</td>\n",
       "      <td>2014-01-14 20:23:20.000 +0000</td>\n",
       "      <td>2014-03-26 22:25:07.000 +0000</td>\n",
       "      <td>2013-12-20 08:00:00.000 +0000</td>\n",
       "      <td>2014-02-25 06:42:06.000 +0000</td>\n",
       "      <td>8.0000</td>\n",
       "      <td>11</td>\n",
       "      <td>2</td>\n",
       "      <td>1</td>\n",
       "      <td>NaN</td>\n",
       "      <td>female</td>\n",
       "      <td>true</td>\n",
       "      <td>monthly</td>\n",
       "      <td>field_partner</td>\n",
       "      <td>-97.0000</td>\n",
       "    </tr>\n",
       "    <tr>\n",
       "      <th>2</th>\n",
       "      <td>658010</td>\n",
       "      <td>Aasia</td>\n",
       "      <td>English</td>\n",
       "      <td>Aasia is a 45-year-old married lady and she ha...</td>\n",
       "      <td>NaN</td>\n",
       "      <td>400.0000</td>\n",
       "      <td>400.0000</td>\n",
       "      <td>funded</td>\n",
       "      <td>General Store</td>\n",
       "      <td>Retail</td>\n",
       "      <td>to buy stock of rice, sugar and flour</td>\n",
       "      <td>PK</td>\n",
       "      <td>Pakistan</td>\n",
       "      <td>Lala Musa</td>\n",
       "      <td>shared</td>\n",
       "      <td>0.1000</td>\n",
       "      <td>PKR</td>\n",
       "      <td>245.0000</td>\n",
       "      <td>2014-01-16 11:32:58.000 +0000</td>\n",
       "      <td>2014-02-15 21:10:05.000 +0000</td>\n",
       "      <td>2014-01-09 08:00:00.000 +0000</td>\n",
       "      <td>2014-01-24 23:06:18.000 +0000</td>\n",
       "      <td>14.0000</td>\n",
       "      <td>16</td>\n",
       "      <td>2</td>\n",
       "      <td>1</td>\n",
       "      <td>#Woman Owned Biz, #Supporting Family, user_fav...</td>\n",
       "      <td>female</td>\n",
       "      <td>true</td>\n",
       "      <td>monthly</td>\n",
       "      <td>field_partner</td>\n",
       "      <td>-38.0000</td>\n",
       "    </tr>\n",
       "    <tr>\n",
       "      <th>3</th>\n",
       "      <td>659347</td>\n",
       "      <td>Gulmira</td>\n",
       "      <td>Russian</td>\n",
       "      <td>Гулмире 36 лет, замужем, вместе с супругом вос...</td>\n",
       "      <td>Gulmira is 36 years old and married.  She and ...</td>\n",
       "      <td>625.0000</td>\n",
       "      <td>625.0000</td>\n",
       "      <td>funded</td>\n",
       "      <td>Farming</td>\n",
       "      <td>Agriculture</td>\n",
       "      <td>to buy cucumber and tomato seeds, as well as f...</td>\n",
       "      <td>KG</td>\n",
       "      <td>Kyrgyzstan</td>\n",
       "      <td>Aravan village, Osh region</td>\n",
       "      <td>shared</td>\n",
       "      <td>0.1000</td>\n",
       "      <td>KGS</td>\n",
       "      <td>171.0000</td>\n",
       "      <td>2014-01-20 09:59:48.000 +0000</td>\n",
       "      <td>2014-02-21 03:10:02.000 +0000</td>\n",
       "      <td>2014-01-17 08:00:00.000 +0000</td>\n",
       "      <td>2014-01-22 05:29:28.000 +0000</td>\n",
       "      <td>14.0000</td>\n",
       "      <td>21</td>\n",
       "      <td>2</td>\n",
       "      <td>1</td>\n",
       "      <td>user_favorite</td>\n",
       "      <td>female</td>\n",
       "      <td>true</td>\n",
       "      <td>monthly</td>\n",
       "      <td>field_partner</td>\n",
       "      <td>-35.0000</td>\n",
       "    </tr>\n",
       "    <tr>\n",
       "      <th>4</th>\n",
       "      <td>656933</td>\n",
       "      <td>Ricky\\t</td>\n",
       "      <td>English</td>\n",
       "      <td>Ricky is a farmer who currently cultivates his...</td>\n",
       "      <td>NaN</td>\n",
       "      <td>425.0000</td>\n",
       "      <td>425.0000</td>\n",
       "      <td>funded</td>\n",
       "      <td>Farming</td>\n",
       "      <td>Agriculture</td>\n",
       "      <td>to buy organic fertilizer and agrochemical pr...</td>\n",
       "      <td>PH</td>\n",
       "      <td>Philippines</td>\n",
       "      <td>Baleleng, Sto. Thomas, Isabela</td>\n",
       "      <td>shared</td>\n",
       "      <td>0.1000</td>\n",
       "      <td>PHP</td>\n",
       "      <td>123.0000</td>\n",
       "      <td>2014-01-14 05:46:21.000 +0000</td>\n",
       "      <td>2014-02-13 06:10:02.000 +0000</td>\n",
       "      <td>2013-12-17 08:00:00.000 +0000</td>\n",
       "      <td>2014-01-14 17:29:27.000 +0000</td>\n",
       "      <td>7.0000</td>\n",
       "      <td>15</td>\n",
       "      <td>2</td>\n",
       "      <td>1</td>\n",
       "      <td>#Animals, #Eco-friendly, #Sustainable Ag</td>\n",
       "      <td>male</td>\n",
       "      <td>true</td>\n",
       "      <td>bullet</td>\n",
       "      <td>field_partner</td>\n",
       "      <td>-58.0000</td>\n",
       "    </tr>\n",
       "  </tbody>\n",
       "</table>\n",
       "</div>"
      ],
      "text/plain": [
       "   loan_id       loan_name original_language  \\\n",
       "0   657307            Aivy           English   \n",
       "1   657259  Idalia Marizza           Spanish   \n",
       "2   658010           Aasia           English   \n",
       "3   659347         Gulmira           Russian   \n",
       "4   656933         Ricky\\t           English   \n",
       "\n",
       "                                         description  \\\n",
       "0  Aivy, 21 years of age, is single and lives in ...   \n",
       "1  Doña Idalia, esta casada, tiene 57 años de eda...   \n",
       "2  Aasia is a 45-year-old married lady and she ha...   \n",
       "3  Гулмире 36 лет, замужем, вместе с супругом вос...   \n",
       "4  Ricky is a farmer who currently cultivates his...   \n",
       "\n",
       "                              description_translated  funded_amount  \\\n",
       "0                                                NaN       125.0000   \n",
       "1  Idalia, 57, is married and lives with her husb...       400.0000   \n",
       "2                                                NaN       400.0000   \n",
       "3  Gulmira is 36 years old and married.  She and ...       625.0000   \n",
       "4                                                NaN       425.0000   \n",
       "\n",
       "   loan_amount  status  activity_name  sector_name  \\\n",
       "0     125.0000  funded  General Store       Retail   \n",
       "1     400.0000  funded  Used Clothing     Clothing   \n",
       "2     400.0000  funded  General Store       Retail   \n",
       "3     625.0000  funded        Farming  Agriculture   \n",
       "4     425.0000  funded        Farming  Agriculture   \n",
       "\n",
       "                                            loan_use country_code  \\\n",
       "0   to buy additional inventories for her sari-sa...           PH   \n",
       "1  To buy American clothing such as blouses, shir...           HN   \n",
       "2              to buy stock of rice, sugar and flour           PK   \n",
       "3  to buy cucumber and tomato seeds, as well as f...           KG   \n",
       "4   to buy organic fertilizer and agrochemical pr...           PH   \n",
       "\n",
       "  country_name                       town_name currency_policy  \\\n",
       "0  Philippines            Ozamiz - Ozamiz City          shared   \n",
       "1     Honduras               La Lopez, Choloma          shared   \n",
       "2     Pakistan                       Lala Musa          shared   \n",
       "3   Kyrgyzstan      Aravan village, Osh region          shared   \n",
       "4  Philippines  Baleleng, Sto. Thomas, Isabela          shared   \n",
       "\n",
       "   currency_exchange_coverage_rate currency  partner_id  \\\n",
       "0                           0.1000      PHP    126.0000   \n",
       "1                           0.1000      HNL    201.0000   \n",
       "2                           0.1000      PKR    245.0000   \n",
       "3                           0.1000      KGS    171.0000   \n",
       "4                           0.1000      PHP    123.0000   \n",
       "\n",
       "                     posted_time        planned_expiration_time  \\\n",
       "0  2014-01-15 02:23:45.000 +0000  2014-02-14 03:30:06.000 +0000   \n",
       "1  2014-01-14 20:23:20.000 +0000  2014-03-26 22:25:07.000 +0000   \n",
       "2  2014-01-16 11:32:58.000 +0000  2014-02-15 21:10:05.000 +0000   \n",
       "3  2014-01-20 09:59:48.000 +0000  2014-02-21 03:10:02.000 +0000   \n",
       "4  2014-01-14 05:46:21.000 +0000  2014-02-13 06:10:02.000 +0000   \n",
       "\n",
       "                   disburse_time                    raised_time  lender_term  \\\n",
       "0  2013-12-22 08:00:00.000 +0000  2014-01-15 04:48:22.000 +0000       7.0000   \n",
       "1  2013-12-20 08:00:00.000 +0000  2014-02-25 06:42:06.000 +0000       8.0000   \n",
       "2  2014-01-09 08:00:00.000 +0000  2014-01-24 23:06:18.000 +0000      14.0000   \n",
       "3  2014-01-17 08:00:00.000 +0000  2014-01-22 05:29:28.000 +0000      14.0000   \n",
       "4  2013-12-17 08:00:00.000 +0000  2014-01-14 17:29:27.000 +0000       7.0000   \n",
       "\n",
       "   num_lenders_total  num_journal_entries  num_bulk_entries  \\\n",
       "0                  3                    2                 1   \n",
       "1                 11                    2                 1   \n",
       "2                 16                    2                 1   \n",
       "3                 21                    2                 1   \n",
       "4                 15                    2                 1   \n",
       "\n",
       "                                                tags borrower_genders  \\\n",
       "0                                                NaN           female   \n",
       "1                                                NaN           female   \n",
       "2  #Woman Owned Biz, #Supporting Family, user_fav...           female   \n",
       "3                                      user_favorite           female   \n",
       "4           #Animals, #Eco-friendly, #Sustainable Ag             male   \n",
       "\n",
       "  borrower_pictured repayment_interval distribution_model  duration  \n",
       "0              true          irregular      field_partner  -54.0000  \n",
       "1              true            monthly      field_partner  -97.0000  \n",
       "2              true            monthly      field_partner  -38.0000  \n",
       "3              true            monthly      field_partner  -35.0000  \n",
       "4              true             bullet      field_partner  -58.0000  "
      ]
     },
     "execution_count": 15,
     "metadata": {},
     "output_type": "execute_result"
    },
    {
     "name": "stdout",
     "output_type": "stream",
     "text": [
      "time: 32.3 ms\n"
     ]
    }
   ],
   "source": [
    "loans.head()"
   ]
  },
  {
   "cell_type": "markdown",
   "metadata": {},
   "source": [
    "Inoltre è possibile osservare che se una tra `disburse_time` o `planned_expiration_time` è mancante, allora anche la rispettiva `duration` sarà mancante:"
   ]
  },
  {
   "cell_type": "code",
   "execution_count": 16,
   "metadata": {
    "ExecuteTime": {
     "end_time": "2020-06-04T13:37:18.880371Z",
     "start_time": "2020-06-04T13:37:18.438384Z"
    }
   },
   "outputs": [
    {
     "data": {
      "text/html": [
       "<div>\n",
       "<style scoped>\n",
       "    .dataframe tbody tr th:only-of-type {\n",
       "        vertical-align: middle;\n",
       "    }\n",
       "\n",
       "    .dataframe tbody tr th {\n",
       "        vertical-align: top;\n",
       "    }\n",
       "\n",
       "    .dataframe thead th {\n",
       "        text-align: right;\n",
       "    }\n",
       "</style>\n",
       "<table border=\"1\" class=\"dataframe\">\n",
       "  <thead>\n",
       "    <tr style=\"text-align: right;\">\n",
       "      <th></th>\n",
       "      <th>disburse_time</th>\n",
       "      <th>planned_expiration_time</th>\n",
       "      <th>duration</th>\n",
       "    </tr>\n",
       "  </thead>\n",
       "  <tbody>\n",
       "    <tr>\n",
       "      <th>64</th>\n",
       "      <td>2010-11-18 08:00:00.000 +0000</td>\n",
       "      <td>NaN</td>\n",
       "      <td>nan</td>\n",
       "    </tr>\n",
       "    <tr>\n",
       "      <th>65</th>\n",
       "      <td>2010-11-25 08:00:00.000 +0000</td>\n",
       "      <td>NaN</td>\n",
       "      <td>nan</td>\n",
       "    </tr>\n",
       "    <tr>\n",
       "      <th>66</th>\n",
       "      <td>2010-11-25 08:00:00.000 +0000</td>\n",
       "      <td>NaN</td>\n",
       "      <td>nan</td>\n",
       "    </tr>\n",
       "    <tr>\n",
       "      <th>67</th>\n",
       "      <td>2010-11-16 08:00:00.000 +0000</td>\n",
       "      <td>NaN</td>\n",
       "      <td>nan</td>\n",
       "    </tr>\n",
       "    <tr>\n",
       "      <th>69</th>\n",
       "      <td>2010-11-10 08:00:00.000 +0000</td>\n",
       "      <td>NaN</td>\n",
       "      <td>nan</td>\n",
       "    </tr>\n",
       "    <tr>\n",
       "      <th>...</th>\n",
       "      <td>...</td>\n",
       "      <td>...</td>\n",
       "      <td>...</td>\n",
       "    </tr>\n",
       "    <tr>\n",
       "      <th>1419523</th>\n",
       "      <td>2005-04-14 05:27:55.000 +0000</td>\n",
       "      <td>NaN</td>\n",
       "      <td>nan</td>\n",
       "    </tr>\n",
       "    <tr>\n",
       "      <th>1419524</th>\n",
       "      <td>NaN</td>\n",
       "      <td>2017-02-09 23:07:54.000 +0000</td>\n",
       "      <td>nan</td>\n",
       "    </tr>\n",
       "    <tr>\n",
       "      <th>1419525</th>\n",
       "      <td>NaN</td>\n",
       "      <td>2015-09-21 08:06:19.000 +0000</td>\n",
       "      <td>nan</td>\n",
       "    </tr>\n",
       "    <tr>\n",
       "      <th>1419538</th>\n",
       "      <td>NaN</td>\n",
       "      <td>2017-02-25 20:21:21.000 +0000</td>\n",
       "      <td>nan</td>\n",
       "    </tr>\n",
       "    <tr>\n",
       "      <th>1419564</th>\n",
       "      <td>NaN</td>\n",
       "      <td>2016-09-30 18:49:53.000 +0000</td>\n",
       "      <td>nan</td>\n",
       "    </tr>\n",
       "  </tbody>\n",
       "</table>\n",
       "<p>374645 rows × 3 columns</p>\n",
       "</div>"
      ],
      "text/plain": [
       "                         disburse_time        planned_expiration_time  \\\n",
       "64       2010-11-18 08:00:00.000 +0000                            NaN   \n",
       "65       2010-11-25 08:00:00.000 +0000                            NaN   \n",
       "66       2010-11-25 08:00:00.000 +0000                            NaN   \n",
       "67       2010-11-16 08:00:00.000 +0000                            NaN   \n",
       "69       2010-11-10 08:00:00.000 +0000                            NaN   \n",
       "...                                ...                            ...   \n",
       "1419523  2005-04-14 05:27:55.000 +0000                            NaN   \n",
       "1419524                            NaN  2017-02-09 23:07:54.000 +0000   \n",
       "1419525                            NaN  2015-09-21 08:06:19.000 +0000   \n",
       "1419538                            NaN  2017-02-25 20:21:21.000 +0000   \n",
       "1419564                            NaN  2016-09-30 18:49:53.000 +0000   \n",
       "\n",
       "         duration  \n",
       "64            nan  \n",
       "65            nan  \n",
       "66            nan  \n",
       "67            nan  \n",
       "69            nan  \n",
       "...           ...  \n",
       "1419523       nan  \n",
       "1419524       nan  \n",
       "1419525       nan  \n",
       "1419538       nan  \n",
       "1419564       nan  \n",
       "\n",
       "[374645 rows x 3 columns]"
      ]
     },
     "execution_count": 16,
     "metadata": {},
     "output_type": "execute_result"
    },
    {
     "name": "stdout",
     "output_type": "stream",
     "text": [
      "time: 3.33 s\n"
     ]
    }
   ],
   "source": [
    "loans[(loans['disburse_time'].isna()) | (loans['planned_expiration_time'].isna())][['disburse_time','planned_expiration_time','duration']]"
   ]
  },
  {
   "cell_type": "markdown",
   "metadata": {},
   "source": [
    "***\n"
   ]
  },
  {
   "cell_type": "markdown",
   "metadata": {},
   "source": [
    "###  <span style=\"color:#3282b8\">3. Find the lenders that have funded at least twice.</span>"
   ]
  },
  {
   "cell_type": "markdown",
   "metadata": {},
   "source": [
    "Il dataframe `df` contiene i `loan_id` e i `lenders` che vi hanno partecipato. Si esegue quindi un groupby e si contano quante volte compaiono i lenders. Infine si considerano solamente quelli che hanno `num_of_fund` maggiore o uguale a 2."
   ]
  },
  {
   "cell_type": "code",
   "execution_count": 17,
   "metadata": {
    "ExecuteTime": {
     "end_time": "2020-06-04T13:37:29.873004Z",
     "start_time": "2020-06-04T13:37:18.881355Z"
    }
   },
   "outputs": [
    {
     "name": "stdout",
     "output_type": "stream",
     "text": [
      "time: 16 s\n"
     ]
    }
   ],
   "source": [
    "fund = df.groupby(['lenders']).size().reset_index()\n",
    "fund.columns = ['lenders', 'num_of_fund']"
   ]
  },
  {
   "cell_type": "code",
   "execution_count": 18,
   "metadata": {
    "ExecuteTime": {
     "end_time": "2020-06-04T13:37:29.963002Z",
     "start_time": "2020-06-04T13:37:29.874004Z"
    }
   },
   "outputs": [
    {
     "data": {
      "text/html": [
       "<div>\n",
       "<style scoped>\n",
       "    .dataframe tbody tr th:only-of-type {\n",
       "        vertical-align: middle;\n",
       "    }\n",
       "\n",
       "    .dataframe tbody tr th {\n",
       "        vertical-align: top;\n",
       "    }\n",
       "\n",
       "    .dataframe thead th {\n",
       "        text-align: right;\n",
       "    }\n",
       "</style>\n",
       "<table border=\"1\" class=\"dataframe\">\n",
       "  <thead>\n",
       "    <tr style=\"text-align: right;\">\n",
       "      <th></th>\n",
       "      <th>lenders</th>\n",
       "      <th>num_of_fund</th>\n",
       "    </tr>\n",
       "  </thead>\n",
       "  <tbody>\n",
       "    <tr>\n",
       "      <th>0</th>\n",
       "      <td>000</td>\n",
       "      <td>39</td>\n",
       "    </tr>\n",
       "    <tr>\n",
       "      <th>1</th>\n",
       "      <td>00000</td>\n",
       "      <td>39</td>\n",
       "    </tr>\n",
       "    <tr>\n",
       "      <th>2</th>\n",
       "      <td>0002</td>\n",
       "      <td>70</td>\n",
       "    </tr>\n",
       "    <tr>\n",
       "      <th>4</th>\n",
       "      <td>0101craign0101</td>\n",
       "      <td>71</td>\n",
       "    </tr>\n",
       "    <tr>\n",
       "      <th>5</th>\n",
       "      <td>0132575</td>\n",
       "      <td>4</td>\n",
       "    </tr>\n",
       "  </tbody>\n",
       "</table>\n",
       "</div>"
      ],
      "text/plain": [
       "           lenders  num_of_fund\n",
       "0              000           39\n",
       "1            00000           39\n",
       "2             0002           70\n",
       "4   0101craign0101           71\n",
       "5          0132575            4"
      ]
     },
     "execution_count": 18,
     "metadata": {},
     "output_type": "execute_result"
    },
    {
     "name": "stdout",
     "output_type": "stream",
     "text": [
      "time: 105 ms\n"
     ]
    }
   ],
   "source": [
    "fund[fund['num_of_fund'] >= 2].head()"
   ]
  },
  {
   "cell_type": "markdown",
   "metadata": {},
   "source": [
    "***"
   ]
  },
  {
   "cell_type": "markdown",
   "metadata": {},
   "source": [
    "###  <span style=\"color:#3282b8\">4. For each country, compute how many loans have involved that country as borrowers.</span>"
   ]
  },
  {
   "cell_type": "markdown",
   "metadata": {},
   "source": [
    "Durante l'esplorazione del dataframe `loans` ci si è resi conto che emergevano 96 `country_name` contro i 95 `country_code`. Risulta infatti mancante quello della Namibia. <a href=https://en.wikipedia.org/wiki/ISO_3166-2:NA>Secondo lo standard ISO</a>, il codice per questo paese risulta essere `NA` e di conseguenza lo si inserisce nel dataframe."
   ]
  },
  {
   "cell_type": "code",
   "execution_count": 19,
   "metadata": {
    "ExecuteTime": {
     "end_time": "2020-06-04T13:37:30.018001Z",
     "start_time": "2020-06-04T13:37:29.964002Z"
    }
   },
   "outputs": [
    {
     "data": {
      "text/html": [
       "<div>\n",
       "<style scoped>\n",
       "    .dataframe tbody tr th:only-of-type {\n",
       "        vertical-align: middle;\n",
       "    }\n",
       "\n",
       "    .dataframe tbody tr th {\n",
       "        vertical-align: top;\n",
       "    }\n",
       "\n",
       "    .dataframe thead th {\n",
       "        text-align: right;\n",
       "    }\n",
       "</style>\n",
       "<table border=\"1\" class=\"dataframe\">\n",
       "  <thead>\n",
       "    <tr style=\"text-align: right;\">\n",
       "      <th></th>\n",
       "      <th>country_name</th>\n",
       "      <th>country_code</th>\n",
       "    </tr>\n",
       "  </thead>\n",
       "  <tbody>\n",
       "    <tr>\n",
       "      <th>82889</th>\n",
       "      <td>Namibia</td>\n",
       "      <td>NaN</td>\n",
       "    </tr>\n",
       "    <tr>\n",
       "      <th>156970</th>\n",
       "      <td>Namibia</td>\n",
       "      <td>NaN</td>\n",
       "    </tr>\n",
       "    <tr>\n",
       "      <th>598087</th>\n",
       "      <td>Namibia</td>\n",
       "      <td>NaN</td>\n",
       "    </tr>\n",
       "    <tr>\n",
       "      <th>684876</th>\n",
       "      <td>Namibia</td>\n",
       "      <td>NaN</td>\n",
       "    </tr>\n",
       "    <tr>\n",
       "      <th>971827</th>\n",
       "      <td>Namibia</td>\n",
       "      <td>NaN</td>\n",
       "    </tr>\n",
       "  </tbody>\n",
       "</table>\n",
       "</div>"
      ],
      "text/plain": [
       "       country_name country_code\n",
       "82889       Namibia          NaN\n",
       "156970      Namibia          NaN\n",
       "598087      Namibia          NaN\n",
       "684876      Namibia          NaN\n",
       "971827      Namibia          NaN"
      ]
     },
     "execution_count": 19,
     "metadata": {},
     "output_type": "execute_result"
    },
    {
     "name": "stdout",
     "output_type": "stream",
     "text": [
      "time: 72 ms\n"
     ]
    }
   ],
   "source": [
    "loans[loans['country_code'].isnull()][['country_name','country_code']].head()"
   ]
  },
  {
   "cell_type": "code",
   "execution_count": 20,
   "metadata": {
    "ExecuteTime": {
     "end_time": "2020-06-04T13:37:30.090014Z",
     "start_time": "2020-06-04T13:37:30.019001Z"
    }
   },
   "outputs": [
    {
     "name": "stdout",
     "output_type": "stream",
     "text": [
      "time: 82.3 ms\n"
     ]
    }
   ],
   "source": [
    "loans.country_code = loans.country_code.fillna('NA') #si è sicuri che ogni NaN corrisponda alla Namibia"
   ]
  },
  {
   "cell_type": "code",
   "execution_count": 21,
   "metadata": {
    "ExecuteTime": {
     "end_time": "2020-06-04T13:37:30.145998Z",
     "start_time": "2020-06-04T13:37:30.090998Z"
    }
   },
   "outputs": [
    {
     "data": {
      "text/html": [
       "<div>\n",
       "<style scoped>\n",
       "    .dataframe tbody tr th:only-of-type {\n",
       "        vertical-align: middle;\n",
       "    }\n",
       "\n",
       "    .dataframe tbody tr th {\n",
       "        vertical-align: top;\n",
       "    }\n",
       "\n",
       "    .dataframe thead th {\n",
       "        text-align: right;\n",
       "    }\n",
       "</style>\n",
       "<table border=\"1\" class=\"dataframe\">\n",
       "  <thead>\n",
       "    <tr style=\"text-align: right;\">\n",
       "      <th></th>\n",
       "      <th>country_name</th>\n",
       "      <th>country_code</th>\n",
       "    </tr>\n",
       "  </thead>\n",
       "  <tbody>\n",
       "  </tbody>\n",
       "</table>\n",
       "</div>"
      ],
      "text/plain": [
       "Empty DataFrame\n",
       "Columns: [country_name, country_code]\n",
       "Index: []"
      ]
     },
     "execution_count": 21,
     "metadata": {},
     "output_type": "execute_result"
    },
    {
     "name": "stdout",
     "output_type": "stream",
     "text": [
      "time: 56.9 ms\n"
     ]
    }
   ],
   "source": [
    "loans[loans['country_code'].isnull()][['country_name','country_code']].head()"
   ]
  },
  {
   "cell_type": "markdown",
   "metadata": {},
   "source": [
    "Il dataframe `loans` contiene tutti i prestiti, con le informazioni sul paese di origine di chi lo richiede. Di conseguenza se si esegue un groupby è possibile rispondere al quesito."
   ]
  },
  {
   "cell_type": "code",
   "execution_count": 22,
   "metadata": {
    "ExecuteTime": {
     "end_time": "2020-06-04T13:37:30.337991Z",
     "start_time": "2020-06-04T13:37:30.146997Z"
    },
    "scrolled": false
   },
   "outputs": [
    {
     "data": {
      "text/html": [
       "<div>\n",
       "<style scoped>\n",
       "    .dataframe tbody tr th:only-of-type {\n",
       "        vertical-align: middle;\n",
       "    }\n",
       "\n",
       "    .dataframe tbody tr th {\n",
       "        vertical-align: top;\n",
       "    }\n",
       "\n",
       "    .dataframe thead th {\n",
       "        text-align: right;\n",
       "    }\n",
       "</style>\n",
       "<table border=\"1\" class=\"dataframe\">\n",
       "  <thead>\n",
       "    <tr style=\"text-align: right;\">\n",
       "      <th></th>\n",
       "      <th>country_name</th>\n",
       "      <th>country_code</th>\n",
       "      <th>num_of_loans</th>\n",
       "    </tr>\n",
       "  </thead>\n",
       "  <tbody>\n",
       "    <tr>\n",
       "      <th>0</th>\n",
       "      <td>Afghanistan</td>\n",
       "      <td>AF</td>\n",
       "      <td>2337</td>\n",
       "    </tr>\n",
       "    <tr>\n",
       "      <th>1</th>\n",
       "      <td>Albania</td>\n",
       "      <td>AL</td>\n",
       "      <td>3075</td>\n",
       "    </tr>\n",
       "    <tr>\n",
       "      <th>2</th>\n",
       "      <td>Armenia</td>\n",
       "      <td>AM</td>\n",
       "      <td>13952</td>\n",
       "    </tr>\n",
       "    <tr>\n",
       "      <th>3</th>\n",
       "      <td>Azerbaijan</td>\n",
       "      <td>AZ</td>\n",
       "      <td>10172</td>\n",
       "    </tr>\n",
       "    <tr>\n",
       "      <th>4</th>\n",
       "      <td>Belize</td>\n",
       "      <td>BZ</td>\n",
       "      <td>218</td>\n",
       "    </tr>\n",
       "  </tbody>\n",
       "</table>\n",
       "</div>"
      ],
      "text/plain": [
       "  country_name country_code  num_of_loans\n",
       "0  Afghanistan           AF          2337\n",
       "1      Albania           AL          3075\n",
       "2      Armenia           AM         13952\n",
       "3   Azerbaijan           AZ         10172\n",
       "4       Belize           BZ           218"
      ]
     },
     "execution_count": 22,
     "metadata": {},
     "output_type": "execute_result"
    },
    {
     "name": "stdout",
     "output_type": "stream",
     "text": [
      "time: 191 ms\n"
     ]
    }
   ],
   "source": [
    "temp = loans.groupby(['country_name','country_code']).size().reset_index()\n",
    "temp.columns = ['country_name','country_code','num_of_loans']\n",
    "temp.head()"
   ]
  },
  {
   "cell_type": "markdown",
   "metadata": {},
   "source": [
    "È possibile anche ordinare il dataframe per numero di prestiti:"
   ]
  },
  {
   "cell_type": "code",
   "execution_count": 23,
   "metadata": {
    "ExecuteTime": {
     "end_time": "2020-06-04T13:37:30.349992Z",
     "start_time": "2020-06-04T13:37:30.342006Z"
    }
   },
   "outputs": [
    {
     "data": {
      "text/html": [
       "<div>\n",
       "<style scoped>\n",
       "    .dataframe tbody tr th:only-of-type {\n",
       "        vertical-align: middle;\n",
       "    }\n",
       "\n",
       "    .dataframe tbody tr th {\n",
       "        vertical-align: top;\n",
       "    }\n",
       "\n",
       "    .dataframe thead th {\n",
       "        text-align: right;\n",
       "    }\n",
       "</style>\n",
       "<table border=\"1\" class=\"dataframe\">\n",
       "  <thead>\n",
       "    <tr style=\"text-align: right;\">\n",
       "      <th></th>\n",
       "      <th>country_name</th>\n",
       "      <th>country_code</th>\n",
       "      <th>num_of_loans</th>\n",
       "    </tr>\n",
       "  </thead>\n",
       "  <tbody>\n",
       "    <tr>\n",
       "      <th>66</th>\n",
       "      <td>Philippines</td>\n",
       "      <td>PH</td>\n",
       "      <td>285336</td>\n",
       "    </tr>\n",
       "    <tr>\n",
       "      <th>40</th>\n",
       "      <td>Kenya</td>\n",
       "      <td>KE</td>\n",
       "      <td>143699</td>\n",
       "    </tr>\n",
       "    <tr>\n",
       "      <th>65</th>\n",
       "      <td>Peru</td>\n",
       "      <td>PE</td>\n",
       "      <td>86000</td>\n",
       "    </tr>\n",
       "    <tr>\n",
       "      <th>14</th>\n",
       "      <td>Cambodia</td>\n",
       "      <td>KH</td>\n",
       "      <td>79701</td>\n",
       "    </tr>\n",
       "    <tr>\n",
       "      <th>27</th>\n",
       "      <td>El Salvador</td>\n",
       "      <td>SV</td>\n",
       "      <td>64037</td>\n",
       "    </tr>\n",
       "  </tbody>\n",
       "</table>\n",
       "</div>"
      ],
      "text/plain": [
       "   country_name country_code  num_of_loans\n",
       "66  Philippines           PH        285336\n",
       "40        Kenya           KE        143699\n",
       "65         Peru           PE         86000\n",
       "14     Cambodia           KH         79701\n",
       "27  El Salvador           SV         64037"
      ]
     },
     "execution_count": 23,
     "metadata": {},
     "output_type": "execute_result"
    },
    {
     "name": "stdout",
     "output_type": "stream",
     "text": [
      "time: 10.4 ms\n"
     ]
    }
   ],
   "source": [
    "temp.sort_values(by=['num_of_loans'], ascending = False).head()"
   ]
  },
  {
   "cell_type": "markdown",
   "metadata": {},
   "source": [
    "***"
   ]
  },
  {
   "cell_type": "markdown",
   "metadata": {},
   "source": [
    "###  <span style=\"color:#3282b8\">5. For each country, compute the overall amount of money borrowed.</span>"
   ]
  },
  {
   "cell_type": "markdown",
   "metadata": {},
   "source": [
    "Prima di tutto si osserva che il prestito può assumere 4 diversi tipi di `status`:"
   ]
  },
  {
   "cell_type": "code",
   "execution_count": 24,
   "metadata": {
    "ExecuteTime": {
     "end_time": "2020-06-04T13:37:30.480003Z",
     "start_time": "2020-06-04T13:37:30.351991Z"
    }
   },
   "outputs": [
    {
     "data": {
      "text/plain": [
       "funded         1350340\n",
       "expired          59081\n",
       "refunded          6578\n",
       "fundRaising       3608\n",
       "Name: status, dtype: int64"
      ]
     },
     "execution_count": 24,
     "metadata": {},
     "output_type": "execute_result"
    },
    {
     "name": "stdout",
     "output_type": "stream",
     "text": [
      "time: 126 ms\n"
     ]
    }
   ],
   "source": [
    "loans['status'].value_counts()"
   ]
  },
  {
   "cell_type": "markdown",
   "metadata": {},
   "source": [
    "<a href=https://pages.kiva.org/blog/qa-expiring-loans-credit-limits-and-the-evolution-of-kiva>Dalla pagina Q&A di Kiva</a> è possibile osservare che:\n",
    "- The loan profile remains on the site but shows up as “expired”.\n",
    "- All lenders who have chipped in to fund the loan already are refunded.\n",
    "- The Field Partner administering the loan doesn’t receive any of the funds.\n",
    "\n",
    "Di conseguenza si è scelto di non considerare tutti i prestiti con `status == expired`."
   ]
  },
  {
   "cell_type": "code",
   "execution_count": 25,
   "metadata": {
    "ExecuteTime": {
     "end_time": "2020-06-04T13:37:31.422970Z",
     "start_time": "2020-06-04T13:37:30.480987Z"
    }
   },
   "outputs": [
    {
     "data": {
      "text/html": [
       "<div>\n",
       "<style scoped>\n",
       "    .dataframe tbody tr th:only-of-type {\n",
       "        vertical-align: middle;\n",
       "    }\n",
       "\n",
       "    .dataframe tbody tr th {\n",
       "        vertical-align: top;\n",
       "    }\n",
       "\n",
       "    .dataframe thead th {\n",
       "        text-align: right;\n",
       "    }\n",
       "</style>\n",
       "<table border=\"1\" class=\"dataframe\">\n",
       "  <thead>\n",
       "    <tr style=\"text-align: right;\">\n",
       "      <th></th>\n",
       "      <th>country_name</th>\n",
       "      <th>country_code</th>\n",
       "      <th>money_borrowed</th>\n",
       "    </tr>\n",
       "  </thead>\n",
       "  <tbody>\n",
       "    <tr>\n",
       "      <th>0</th>\n",
       "      <td>Afghanistan</td>\n",
       "      <td>AF</td>\n",
       "      <td>1967950.0000</td>\n",
       "    </tr>\n",
       "    <tr>\n",
       "      <th>1</th>\n",
       "      <td>Albania</td>\n",
       "      <td>AL</td>\n",
       "      <td>3784350.0000</td>\n",
       "    </tr>\n",
       "    <tr>\n",
       "      <th>2</th>\n",
       "      <td>Armenia</td>\n",
       "      <td>AM</td>\n",
       "      <td>17878800.0000</td>\n",
       "    </tr>\n",
       "    <tr>\n",
       "      <th>3</th>\n",
       "      <td>Azerbaijan</td>\n",
       "      <td>AZ</td>\n",
       "      <td>13433200.0000</td>\n",
       "    </tr>\n",
       "    <tr>\n",
       "      <th>4</th>\n",
       "      <td>Belize</td>\n",
       "      <td>BZ</td>\n",
       "      <td>150175.0000</td>\n",
       "    </tr>\n",
       "    <tr>\n",
       "      <th>...</th>\n",
       "      <td>...</td>\n",
       "      <td>...</td>\n",
       "      <td>...</td>\n",
       "    </tr>\n",
       "    <tr>\n",
       "      <th>90</th>\n",
       "      <td>Vanuatu</td>\n",
       "      <td>VU</td>\n",
       "      <td>9250.0000</td>\n",
       "    </tr>\n",
       "    <tr>\n",
       "      <th>91</th>\n",
       "      <td>Vietnam</td>\n",
       "      <td>VN</td>\n",
       "      <td>22393325.0000</td>\n",
       "    </tr>\n",
       "    <tr>\n",
       "      <th>92</th>\n",
       "      <td>Yemen</td>\n",
       "      <td>YE</td>\n",
       "      <td>3182900.0000</td>\n",
       "    </tr>\n",
       "    <tr>\n",
       "      <th>93</th>\n",
       "      <td>Zambia</td>\n",
       "      <td>ZM</td>\n",
       "      <td>1862600.0000</td>\n",
       "    </tr>\n",
       "    <tr>\n",
       "      <th>94</th>\n",
       "      <td>Zimbabwe</td>\n",
       "      <td>ZW</td>\n",
       "      <td>5826925.0000</td>\n",
       "    </tr>\n",
       "  </tbody>\n",
       "</table>\n",
       "<p>95 rows × 3 columns</p>\n",
       "</div>"
      ],
      "text/plain": [
       "   country_name country_code  money_borrowed\n",
       "0   Afghanistan           AF    1967950.0000\n",
       "1       Albania           AL    3784350.0000\n",
       "2       Armenia           AM   17878800.0000\n",
       "3    Azerbaijan           AZ   13433200.0000\n",
       "4        Belize           BZ     150175.0000\n",
       "..          ...          ...             ...\n",
       "90      Vanuatu           VU       9250.0000\n",
       "91      Vietnam           VN   22393325.0000\n",
       "92        Yemen           YE    3182900.0000\n",
       "93       Zambia           ZM    1862600.0000\n",
       "94     Zimbabwe           ZW    5826925.0000\n",
       "\n",
       "[95 rows x 3 columns]"
      ]
     },
     "execution_count": 25,
     "metadata": {},
     "output_type": "execute_result"
    },
    {
     "name": "stdout",
     "output_type": "stream",
     "text": [
      "time: 7.27 s\n"
     ]
    }
   ],
   "source": [
    "money_borrowed = loans[loans['status'] != 'expired'][['country_name','country_code','loan_amount']].groupby(['country_name','country_code']).sum().reset_index()\n",
    "money_borrowed.columns = ['country_name','country_code','money_borrowed']\n",
    "money_borrowed"
   ]
  },
  {
   "cell_type": "markdown",
   "metadata": {},
   "source": [
    "***"
   ]
  },
  {
   "cell_type": "markdown",
   "metadata": {},
   "source": [
    "###  <span style=\"color:#3282b8\">6. Like the previous point, but expressed as a percentage of the overall amount lent.</span>"
   ]
  },
  {
   "cell_type": "code",
   "execution_count": 26,
   "metadata": {
    "ExecuteTime": {
     "end_time": "2020-06-04T13:37:31.452960Z",
     "start_time": "2020-06-04T13:37:31.423961Z"
    }
   },
   "outputs": [
    {
     "data": {
      "text/html": [
       "<div>\n",
       "<style scoped>\n",
       "    .dataframe tbody tr th:only-of-type {\n",
       "        vertical-align: middle;\n",
       "    }\n",
       "\n",
       "    .dataframe tbody tr th {\n",
       "        vertical-align: top;\n",
       "    }\n",
       "\n",
       "    .dataframe thead th {\n",
       "        text-align: right;\n",
       "    }\n",
       "</style>\n",
       "<table border=\"1\" class=\"dataframe\">\n",
       "  <thead>\n",
       "    <tr style=\"text-align: right;\">\n",
       "      <th></th>\n",
       "      <th>country_name</th>\n",
       "      <th>country_code</th>\n",
       "      <th>money_borrowed</th>\n",
       "      <th>percentage</th>\n",
       "    </tr>\n",
       "  </thead>\n",
       "  <tbody>\n",
       "    <tr>\n",
       "      <th>0</th>\n",
       "      <td>Afghanistan</td>\n",
       "      <td>AF</td>\n",
       "      <td>1967950.0000</td>\n",
       "      <td>0.1803</td>\n",
       "    </tr>\n",
       "    <tr>\n",
       "      <th>1</th>\n",
       "      <td>Albania</td>\n",
       "      <td>AL</td>\n",
       "      <td>3784350.0000</td>\n",
       "      <td>0.3468</td>\n",
       "    </tr>\n",
       "    <tr>\n",
       "      <th>2</th>\n",
       "      <td>Armenia</td>\n",
       "      <td>AM</td>\n",
       "      <td>17878800.0000</td>\n",
       "      <td>1.6384</td>\n",
       "    </tr>\n",
       "    <tr>\n",
       "      <th>3</th>\n",
       "      <td>Azerbaijan</td>\n",
       "      <td>AZ</td>\n",
       "      <td>13433200.0000</td>\n",
       "      <td>1.2310</td>\n",
       "    </tr>\n",
       "    <tr>\n",
       "      <th>4</th>\n",
       "      <td>Belize</td>\n",
       "      <td>BZ</td>\n",
       "      <td>150175.0000</td>\n",
       "      <td>0.0138</td>\n",
       "    </tr>\n",
       "    <tr>\n",
       "      <th>...</th>\n",
       "      <td>...</td>\n",
       "      <td>...</td>\n",
       "      <td>...</td>\n",
       "      <td>...</td>\n",
       "    </tr>\n",
       "    <tr>\n",
       "      <th>90</th>\n",
       "      <td>Vanuatu</td>\n",
       "      <td>VU</td>\n",
       "      <td>9250.0000</td>\n",
       "      <td>0.0008</td>\n",
       "    </tr>\n",
       "    <tr>\n",
       "      <th>91</th>\n",
       "      <td>Vietnam</td>\n",
       "      <td>VN</td>\n",
       "      <td>22393325.0000</td>\n",
       "      <td>2.0521</td>\n",
       "    </tr>\n",
       "    <tr>\n",
       "      <th>92</th>\n",
       "      <td>Yemen</td>\n",
       "      <td>YE</td>\n",
       "      <td>3182900.0000</td>\n",
       "      <td>0.2917</td>\n",
       "    </tr>\n",
       "    <tr>\n",
       "      <th>93</th>\n",
       "      <td>Zambia</td>\n",
       "      <td>ZM</td>\n",
       "      <td>1862600.0000</td>\n",
       "      <td>0.1707</td>\n",
       "    </tr>\n",
       "    <tr>\n",
       "      <th>94</th>\n",
       "      <td>Zimbabwe</td>\n",
       "      <td>ZW</td>\n",
       "      <td>5826925.0000</td>\n",
       "      <td>0.5340</td>\n",
       "    </tr>\n",
       "  </tbody>\n",
       "</table>\n",
       "<p>95 rows × 4 columns</p>\n",
       "</div>"
      ],
      "text/plain": [
       "   country_name country_code  money_borrowed  percentage\n",
       "0   Afghanistan           AF    1967950.0000      0.1803\n",
       "1       Albania           AL    3784350.0000      0.3468\n",
       "2       Armenia           AM   17878800.0000      1.6384\n",
       "3    Azerbaijan           AZ   13433200.0000      1.2310\n",
       "4        Belize           BZ     150175.0000      0.0138\n",
       "..          ...          ...             ...         ...\n",
       "90      Vanuatu           VU       9250.0000      0.0008\n",
       "91      Vietnam           VN   22393325.0000      2.0521\n",
       "92        Yemen           YE    3182900.0000      0.2917\n",
       "93       Zambia           ZM    1862600.0000      0.1707\n",
       "94     Zimbabwe           ZW    5826925.0000      0.5340\n",
       "\n",
       "[95 rows x 4 columns]"
      ]
     },
     "execution_count": 26,
     "metadata": {},
     "output_type": "execute_result"
    },
    {
     "name": "stdout",
     "output_type": "stream",
     "text": [
      "time: 229 ms\n"
     ]
    }
   ],
   "source": [
    "overall = money_borrowed['money_borrowed'].sum()\n",
    "money_borrowed['percentage'] = money_borrowed['money_borrowed']/overall*100\n",
    "money_borrowed"
   ]
  },
  {
   "cell_type": "markdown",
   "metadata": {},
   "source": [
    "***"
   ]
  },
  {
   "cell_type": "markdown",
   "metadata": {},
   "source": [
    "###  <span style=\"color:#3282b8\">7. Like the three previous points, but split for each year (with respect to disburse time)."
   ]
  },
  {
   "cell_type": "markdown",
   "metadata": {},
   "source": [
    "####  <span style=\"color:#0f4c75\">Punto 4"
   ]
  },
  {
   "cell_type": "code",
   "execution_count": 27,
   "metadata": {
    "ExecuteTime": {
     "end_time": "2020-06-04T13:37:31.888963Z",
     "start_time": "2020-06-04T13:37:31.454961Z"
    }
   },
   "outputs": [
    {
     "name": "stdout",
     "output_type": "stream",
     "text": [
      "time: 384 ms\n"
     ]
    }
   ],
   "source": [
    "loans['disburse_year'] = pd.to_datetime(loans['disburse_time']).dt.year"
   ]
  },
  {
   "cell_type": "code",
   "execution_count": 28,
   "metadata": {
    "ExecuteTime": {
     "end_time": "2020-06-04T13:37:32.181940Z",
     "start_time": "2020-06-04T13:37:31.889958Z"
    },
    "scrolled": true
   },
   "outputs": [
    {
     "data": {
      "text/html": [
       "<div>\n",
       "<style scoped>\n",
       "    .dataframe tbody tr th:only-of-type {\n",
       "        vertical-align: middle;\n",
       "    }\n",
       "\n",
       "    .dataframe tbody tr th {\n",
       "        vertical-align: top;\n",
       "    }\n",
       "\n",
       "    .dataframe thead th {\n",
       "        text-align: right;\n",
       "    }\n",
       "</style>\n",
       "<table border=\"1\" class=\"dataframe\">\n",
       "  <thead>\n",
       "    <tr style=\"text-align: right;\">\n",
       "      <th></th>\n",
       "      <th></th>\n",
       "      <th></th>\n",
       "      <th>0</th>\n",
       "    </tr>\n",
       "    <tr>\n",
       "      <th>country_name</th>\n",
       "      <th>country_code</th>\n",
       "      <th>disburse_year</th>\n",
       "      <th></th>\n",
       "    </tr>\n",
       "  </thead>\n",
       "  <tbody>\n",
       "    <tr>\n",
       "      <th rowspan=\"7\" valign=\"top\">Afghanistan</th>\n",
       "      <th rowspan=\"7\" valign=\"top\">AF</th>\n",
       "      <th>2007.0000</th>\n",
       "      <td>408</td>\n",
       "    </tr>\n",
       "    <tr>\n",
       "      <th>2008.0000</th>\n",
       "      <td>370</td>\n",
       "    </tr>\n",
       "    <tr>\n",
       "      <th>2009.0000</th>\n",
       "      <td>678</td>\n",
       "    </tr>\n",
       "    <tr>\n",
       "      <th>2010.0000</th>\n",
       "      <td>632</td>\n",
       "    </tr>\n",
       "    <tr>\n",
       "      <th>2011.0000</th>\n",
       "      <td>247</td>\n",
       "    </tr>\n",
       "    <tr>\n",
       "      <th>2015.0000</th>\n",
       "      <td>1</td>\n",
       "    </tr>\n",
       "    <tr>\n",
       "      <th>2016.0000</th>\n",
       "      <td>1</td>\n",
       "    </tr>\n",
       "    <tr>\n",
       "      <th rowspan=\"3\" valign=\"top\">Albania</th>\n",
       "      <th rowspan=\"3\" valign=\"top\">AL</th>\n",
       "      <th>2012.0000</th>\n",
       "      <td>332</td>\n",
       "    </tr>\n",
       "    <tr>\n",
       "      <th>2013.0000</th>\n",
       "      <td>507</td>\n",
       "    </tr>\n",
       "    <tr>\n",
       "      <th>2014.0000</th>\n",
       "      <td>603</td>\n",
       "    </tr>\n",
       "  </tbody>\n",
       "</table>\n",
       "</div>"
      ],
      "text/plain": [
       "                                           0\n",
       "country_name country_code disburse_year     \n",
       "Afghanistan  AF           2007.0000      408\n",
       "                          2008.0000      370\n",
       "                          2009.0000      678\n",
       "                          2010.0000      632\n",
       "                          2011.0000      247\n",
       "                          2015.0000        1\n",
       "                          2016.0000        1\n",
       "Albania      AL           2012.0000      332\n",
       "                          2013.0000      507\n",
       "                          2014.0000      603"
      ]
     },
     "execution_count": 28,
     "metadata": {},
     "output_type": "execute_result"
    },
    {
     "name": "stdout",
     "output_type": "stream",
     "text": [
      "time: 385 ms\n"
     ]
    }
   ],
   "source": [
    "temp_year = loans.groupby(['country_name','country_code', 'disburse_year']).size()\n",
    "temp_year = pd.DataFrame(temp_year)\n",
    "temp_year.head(10)"
   ]
  },
  {
   "cell_type": "markdown",
   "metadata": {},
   "source": [
    "####  <span style=\"color:#0f4c75\">Punto 5"
   ]
  },
  {
   "cell_type": "code",
   "execution_count": 29,
   "metadata": {
    "ExecuteTime": {
     "end_time": "2020-06-04T13:37:33.059915Z",
     "start_time": "2020-06-04T13:37:32.182940Z"
    }
   },
   "outputs": [
    {
     "data": {
      "text/html": [
       "<div>\n",
       "<style scoped>\n",
       "    .dataframe tbody tr th:only-of-type {\n",
       "        vertical-align: middle;\n",
       "    }\n",
       "\n",
       "    .dataframe tbody tr th {\n",
       "        vertical-align: top;\n",
       "    }\n",
       "\n",
       "    .dataframe thead th {\n",
       "        text-align: right;\n",
       "    }\n",
       "</style>\n",
       "<table border=\"1\" class=\"dataframe\">\n",
       "  <thead>\n",
       "    <tr style=\"text-align: right;\">\n",
       "      <th></th>\n",
       "      <th></th>\n",
       "      <th></th>\n",
       "      <th>loan_amount</th>\n",
       "    </tr>\n",
       "    <tr>\n",
       "      <th>country_name</th>\n",
       "      <th>country_code</th>\n",
       "      <th>disburse_year</th>\n",
       "      <th></th>\n",
       "    </tr>\n",
       "  </thead>\n",
       "  <tbody>\n",
       "    <tr>\n",
       "      <th rowspan=\"7\" valign=\"top\">Afghanistan</th>\n",
       "      <th rowspan=\"7\" valign=\"top\">AF</th>\n",
       "      <th>2007.0000</th>\n",
       "      <td>194975.0000</td>\n",
       "    </tr>\n",
       "    <tr>\n",
       "      <th>2008.0000</th>\n",
       "      <td>365375.0000</td>\n",
       "    </tr>\n",
       "    <tr>\n",
       "      <th>2009.0000</th>\n",
       "      <td>585125.0000</td>\n",
       "    </tr>\n",
       "    <tr>\n",
       "      <th>2010.0000</th>\n",
       "      <td>563350.0000</td>\n",
       "    </tr>\n",
       "    <tr>\n",
       "      <th>2011.0000</th>\n",
       "      <td>245125.0000</td>\n",
       "    </tr>\n",
       "    <tr>\n",
       "      <th>2015.0000</th>\n",
       "      <td>6000.0000</td>\n",
       "    </tr>\n",
       "    <tr>\n",
       "      <th>2016.0000</th>\n",
       "      <td>8000.0000</td>\n",
       "    </tr>\n",
       "    <tr>\n",
       "      <th rowspan=\"3\" valign=\"top\">Albania</th>\n",
       "      <th rowspan=\"3\" valign=\"top\">AL</th>\n",
       "      <th>2012.0000</th>\n",
       "      <td>413000.0000</td>\n",
       "    </tr>\n",
       "    <tr>\n",
       "      <th>2013.0000</th>\n",
       "      <td>770650.0000</td>\n",
       "    </tr>\n",
       "    <tr>\n",
       "      <th>2014.0000</th>\n",
       "      <td>818300.0000</td>\n",
       "    </tr>\n",
       "  </tbody>\n",
       "</table>\n",
       "</div>"
      ],
      "text/plain": [
       "                                         loan_amount\n",
       "country_name country_code disburse_year             \n",
       "Afghanistan  AF           2007.0000      194975.0000\n",
       "                          2008.0000      365375.0000\n",
       "                          2009.0000      585125.0000\n",
       "                          2010.0000      563350.0000\n",
       "                          2011.0000      245125.0000\n",
       "                          2015.0000        6000.0000\n",
       "                          2016.0000        8000.0000\n",
       "Albania      AL           2012.0000      413000.0000\n",
       "                          2013.0000      770650.0000\n",
       "                          2014.0000      818300.0000"
      ]
     },
     "execution_count": 29,
     "metadata": {},
     "output_type": "execute_result"
    },
    {
     "name": "stdout",
     "output_type": "stream",
     "text": [
      "time: 984 ms\n"
     ]
    }
   ],
   "source": [
    "temp2 = loans[loans['status'] != 'expired'][['country_name','country_code','disburse_year','loan_amount']].groupby(['country_name','country_code', 'disburse_year']).sum()\n",
    "temp2.head(10)"
   ]
  },
  {
   "cell_type": "markdown",
   "metadata": {},
   "source": [
    "####  <span style=\"color:#0f4c75\">Punto 6"
   ]
  },
  {
   "cell_type": "code",
   "execution_count": 30,
   "metadata": {
    "ExecuteTime": {
     "end_time": "2020-06-04T13:37:33.082923Z",
     "start_time": "2020-06-04T13:37:33.060915Z"
    }
   },
   "outputs": [
    {
     "data": {
      "text/html": [
       "<div>\n",
       "<style scoped>\n",
       "    .dataframe tbody tr th:only-of-type {\n",
       "        vertical-align: middle;\n",
       "    }\n",
       "\n",
       "    .dataframe tbody tr th {\n",
       "        vertical-align: top;\n",
       "    }\n",
       "\n",
       "    .dataframe thead th {\n",
       "        text-align: right;\n",
       "    }\n",
       "</style>\n",
       "<table border=\"1\" class=\"dataframe\">\n",
       "  <thead>\n",
       "    <tr style=\"text-align: right;\">\n",
       "      <th></th>\n",
       "      <th></th>\n",
       "      <th></th>\n",
       "      <th>loan_amount</th>\n",
       "      <th>percentage</th>\n",
       "    </tr>\n",
       "    <tr>\n",
       "      <th>country_name</th>\n",
       "      <th>country_code</th>\n",
       "      <th>disburse_year</th>\n",
       "      <th></th>\n",
       "      <th></th>\n",
       "    </tr>\n",
       "  </thead>\n",
       "  <tbody>\n",
       "    <tr>\n",
       "      <th rowspan=\"7\" valign=\"top\">Afghanistan</th>\n",
       "      <th rowspan=\"7\" valign=\"top\">AF</th>\n",
       "      <th>2007.0000</th>\n",
       "      <td>194975.0000</td>\n",
       "      <td>0.0179</td>\n",
       "    </tr>\n",
       "    <tr>\n",
       "      <th>2008.0000</th>\n",
       "      <td>365375.0000</td>\n",
       "      <td>0.0335</td>\n",
       "    </tr>\n",
       "    <tr>\n",
       "      <th>2009.0000</th>\n",
       "      <td>585125.0000</td>\n",
       "      <td>0.0536</td>\n",
       "    </tr>\n",
       "    <tr>\n",
       "      <th>2010.0000</th>\n",
       "      <td>563350.0000</td>\n",
       "      <td>0.0516</td>\n",
       "    </tr>\n",
       "    <tr>\n",
       "      <th>2011.0000</th>\n",
       "      <td>245125.0000</td>\n",
       "      <td>0.0225</td>\n",
       "    </tr>\n",
       "    <tr>\n",
       "      <th>2015.0000</th>\n",
       "      <td>6000.0000</td>\n",
       "      <td>0.0005</td>\n",
       "    </tr>\n",
       "    <tr>\n",
       "      <th>2016.0000</th>\n",
       "      <td>8000.0000</td>\n",
       "      <td>0.0007</td>\n",
       "    </tr>\n",
       "    <tr>\n",
       "      <th rowspan=\"3\" valign=\"top\">Albania</th>\n",
       "      <th rowspan=\"3\" valign=\"top\">AL</th>\n",
       "      <th>2012.0000</th>\n",
       "      <td>413000.0000</td>\n",
       "      <td>0.0378</td>\n",
       "    </tr>\n",
       "    <tr>\n",
       "      <th>2013.0000</th>\n",
       "      <td>770650.0000</td>\n",
       "      <td>0.0706</td>\n",
       "    </tr>\n",
       "    <tr>\n",
       "      <th>2014.0000</th>\n",
       "      <td>818300.0000</td>\n",
       "      <td>0.0750</td>\n",
       "    </tr>\n",
       "  </tbody>\n",
       "</table>\n",
       "</div>"
      ],
      "text/plain": [
       "                                         loan_amount  percentage\n",
       "country_name country_code disburse_year                         \n",
       "Afghanistan  AF           2007.0000      194975.0000      0.0179\n",
       "                          2008.0000      365375.0000      0.0335\n",
       "                          2009.0000      585125.0000      0.0536\n",
       "                          2010.0000      563350.0000      0.0516\n",
       "                          2011.0000      245125.0000      0.0225\n",
       "                          2015.0000        6000.0000      0.0005\n",
       "                          2016.0000        8000.0000      0.0007\n",
       "Albania      AL           2012.0000      413000.0000      0.0378\n",
       "                          2013.0000      770650.0000      0.0706\n",
       "                          2014.0000      818300.0000      0.0750"
      ]
     },
     "execution_count": 30,
     "metadata": {},
     "output_type": "execute_result"
    },
    {
     "name": "stdout",
     "output_type": "stream",
     "text": [
      "time: 10.1 ms\n"
     ]
    }
   ],
   "source": [
    "temp2['percentage'] = temp2['loan_amount']/overall*100\n",
    "temp2.head(10)"
   ]
  },
  {
   "cell_type": "markdown",
   "metadata": {},
   "source": [
    "***"
   ]
  },
  {
   "cell_type": "markdown",
   "metadata": {},
   "source": [
    "###  <span style=\"color:#3282b8\"> 8. For each lender, compute the overall amount of money lent. For each loan that has more than one lender, you must assume that all lenders contributed the same amount."
   ]
  },
  {
   "cell_type": "markdown",
   "metadata": {},
   "source": [
    "Si considerano i dataframe `df` che contiene tutti i `loan_id` con i rispettivi `lenders` e `loans`, che contiene `funded_amount`. \n",
    "\n",
    "Si effettua quindi una left join:"
   ]
  },
  {
   "cell_type": "code",
   "execution_count": 31,
   "metadata": {
    "ExecuteTime": {
     "end_time": "2020-06-04T13:37:38.459763Z",
     "start_time": "2020-06-04T13:37:33.083914Z"
    }
   },
   "outputs": [
    {
     "data": {
      "text/html": [
       "<div>\n",
       "<style scoped>\n",
       "    .dataframe tbody tr th:only-of-type {\n",
       "        vertical-align: middle;\n",
       "    }\n",
       "\n",
       "    .dataframe tbody tr th {\n",
       "        vertical-align: top;\n",
       "    }\n",
       "\n",
       "    .dataframe thead th {\n",
       "        text-align: right;\n",
       "    }\n",
       "</style>\n",
       "<table border=\"1\" class=\"dataframe\">\n",
       "  <thead>\n",
       "    <tr style=\"text-align: right;\">\n",
       "      <th></th>\n",
       "      <th>loan_id</th>\n",
       "      <th>lenders</th>\n",
       "      <th>funded_amount</th>\n",
       "    </tr>\n",
       "  </thead>\n",
       "  <tbody>\n",
       "    <tr>\n",
       "      <th>0</th>\n",
       "      <td>483693</td>\n",
       "      <td>muc888</td>\n",
       "      <td>1225.0000</td>\n",
       "    </tr>\n",
       "    <tr>\n",
       "      <th>1</th>\n",
       "      <td>483693</td>\n",
       "      <td>sam4326</td>\n",
       "      <td>1225.0000</td>\n",
       "    </tr>\n",
       "    <tr>\n",
       "      <th>2</th>\n",
       "      <td>483693</td>\n",
       "      <td>camaran3922</td>\n",
       "      <td>1225.0000</td>\n",
       "    </tr>\n",
       "    <tr>\n",
       "      <th>3</th>\n",
       "      <td>483693</td>\n",
       "      <td>lachheb1865</td>\n",
       "      <td>1225.0000</td>\n",
       "    </tr>\n",
       "    <tr>\n",
       "      <th>4</th>\n",
       "      <td>483693</td>\n",
       "      <td>rebecca3499</td>\n",
       "      <td>1225.0000</td>\n",
       "    </tr>\n",
       "  </tbody>\n",
       "</table>\n",
       "</div>"
      ],
      "text/plain": [
       "   loan_id       lenders  funded_amount\n",
       "0   483693        muc888      1225.0000\n",
       "1   483693       sam4326      1225.0000\n",
       "2   483693   camaran3922      1225.0000\n",
       "3   483693   lachheb1865      1225.0000\n",
       "4   483693   rebecca3499      1225.0000"
      ]
     },
     "execution_count": 31,
     "metadata": {},
     "output_type": "execute_result"
    },
    {
     "name": "stdout",
     "output_type": "stream",
     "text": [
      "time: 11.8 s\n"
     ]
    }
   ],
   "source": [
    "loan_lent = pd.merge(df, loans[loans['status'] != 'expired'][['loan_id','funded_amount']], how='left', on='loan_id')\n",
    "loan_lent.head()"
   ]
  },
  {
   "cell_type": "markdown",
   "metadata": {},
   "source": [
    "Vengono riscontrati numerosi NaN in `funded_amount` (precisamente 1007322). Di questi prestiti non si può dire nulla, ma si è deciso di lasciarli."
   ]
  },
  {
   "cell_type": "code",
   "execution_count": 32,
   "metadata": {
    "ExecuteTime": {
     "end_time": "2020-06-04T13:37:38.589759Z",
     "start_time": "2020-06-04T13:37:38.460762Z"
    }
   },
   "outputs": [
    {
     "data": {
      "text/html": [
       "<div>\n",
       "<style scoped>\n",
       "    .dataframe tbody tr th:only-of-type {\n",
       "        vertical-align: middle;\n",
       "    }\n",
       "\n",
       "    .dataframe tbody tr th {\n",
       "        vertical-align: top;\n",
       "    }\n",
       "\n",
       "    .dataframe thead th {\n",
       "        text-align: right;\n",
       "    }\n",
       "</style>\n",
       "<table border=\"1\" class=\"dataframe\">\n",
       "  <thead>\n",
       "    <tr style=\"text-align: right;\">\n",
       "      <th></th>\n",
       "      <th>loan_id</th>\n",
       "      <th>lenders</th>\n",
       "      <th>funded_amount</th>\n",
       "    </tr>\n",
       "  </thead>\n",
       "  <tbody>\n",
       "    <tr>\n",
       "      <th>7250</th>\n",
       "      <td>567453</td>\n",
       "      <td>romans14v7</td>\n",
       "      <td>nan</td>\n",
       "    </tr>\n",
       "    <tr>\n",
       "      <th>7251</th>\n",
       "      <td>567453</td>\n",
       "      <td>susie28375788</td>\n",
       "      <td>nan</td>\n",
       "    </tr>\n",
       "    <tr>\n",
       "      <th>7252</th>\n",
       "      <td>567453</td>\n",
       "      <td>julian8731</td>\n",
       "      <td>nan</td>\n",
       "    </tr>\n",
       "    <tr>\n",
       "      <th>7253</th>\n",
       "      <td>567453</td>\n",
       "      <td>angela81839441</td>\n",
       "      <td>nan</td>\n",
       "    </tr>\n",
       "    <tr>\n",
       "      <th>7254</th>\n",
       "      <td>567453</td>\n",
       "      <td>sota4018</td>\n",
       "      <td>nan</td>\n",
       "    </tr>\n",
       "  </tbody>\n",
       "</table>\n",
       "</div>"
      ],
      "text/plain": [
       "      loan_id          lenders  funded_amount\n",
       "7250   567453       romans14v7            nan\n",
       "7251   567453    susie28375788            nan\n",
       "7252   567453       julian8731            nan\n",
       "7253   567453   angela81839441            nan\n",
       "7254   567453         sota4018            nan"
      ]
     },
     "execution_count": 32,
     "metadata": {},
     "output_type": "execute_result"
    },
    {
     "name": "stdout",
     "output_type": "stream",
     "text": [
      "time: 365 ms\n"
     ]
    }
   ],
   "source": [
    "loan_lent[loan_lent['funded_amount'].isna()].head()"
   ]
  },
  {
   "cell_type": "markdown",
   "metadata": {},
   "source": [
    "Dal momento che solitamente in un prestito contribuiscono più persone, sarebbe necessario sapere quanto ha sborsato ogni utente. Il dataset non comprende questa informazione, di conseguenza si contano quante persone hanno partecipato al prestito e si divide la somma totale in parti uguali. "
   ]
  },
  {
   "cell_type": "code",
   "execution_count": 33,
   "metadata": {
    "ExecuteTime": {
     "end_time": "2020-06-04T13:37:45.554562Z",
     "start_time": "2020-06-04T13:37:38.590759Z"
    }
   },
   "outputs": [
    {
     "data": {
      "text/html": [
       "<div>\n",
       "<style scoped>\n",
       "    .dataframe tbody tr th:only-of-type {\n",
       "        vertical-align: middle;\n",
       "    }\n",
       "\n",
       "    .dataframe tbody tr th {\n",
       "        vertical-align: top;\n",
       "    }\n",
       "\n",
       "    .dataframe thead th {\n",
       "        text-align: right;\n",
       "    }\n",
       "</style>\n",
       "<table border=\"1\" class=\"dataframe\">\n",
       "  <thead>\n",
       "    <tr style=\"text-align: right;\">\n",
       "      <th></th>\n",
       "      <th>loan_id</th>\n",
       "      <th>lenders</th>\n",
       "      <th>loan_amount</th>\n",
       "      <th>count</th>\n",
       "    </tr>\n",
       "  </thead>\n",
       "  <tbody>\n",
       "    <tr>\n",
       "      <th>0</th>\n",
       "      <td>483693</td>\n",
       "      <td>muc888</td>\n",
       "      <td>1225.0000</td>\n",
       "      <td>40</td>\n",
       "    </tr>\n",
       "    <tr>\n",
       "      <th>1</th>\n",
       "      <td>483693</td>\n",
       "      <td>sam4326</td>\n",
       "      <td>1225.0000</td>\n",
       "      <td>40</td>\n",
       "    </tr>\n",
       "    <tr>\n",
       "      <th>2</th>\n",
       "      <td>483693</td>\n",
       "      <td>camaran3922</td>\n",
       "      <td>1225.0000</td>\n",
       "      <td>40</td>\n",
       "    </tr>\n",
       "    <tr>\n",
       "      <th>3</th>\n",
       "      <td>483693</td>\n",
       "      <td>lachheb1865</td>\n",
       "      <td>1225.0000</td>\n",
       "      <td>40</td>\n",
       "    </tr>\n",
       "    <tr>\n",
       "      <th>4</th>\n",
       "      <td>483693</td>\n",
       "      <td>rebecca3499</td>\n",
       "      <td>1225.0000</td>\n",
       "      <td>40</td>\n",
       "    </tr>\n",
       "  </tbody>\n",
       "</table>\n",
       "</div>"
      ],
      "text/plain": [
       "   loan_id       lenders  loan_amount  count\n",
       "0   483693        muc888    1225.0000     40\n",
       "1   483693       sam4326    1225.0000     40\n",
       "2   483693   camaran3922    1225.0000     40\n",
       "3   483693   lachheb1865    1225.0000     40\n",
       "4   483693   rebecca3499    1225.0000     40"
      ]
     },
     "execution_count": 33,
     "metadata": {},
     "output_type": "execute_result"
    },
    {
     "name": "stdout",
     "output_type": "stream",
     "text": [
      "time: 10.5 s\n"
     ]
    }
   ],
   "source": [
    "loan_lent = pd.merge(loan_lent, loan_lent.groupby('loan_id')['lenders'].count(), how='left', on='loan_id')\n",
    "loan_lent.columns = ['loan_id', 'lenders', 'loan_amount','count']\n",
    "loan_lent.head()"
   ]
  },
  {
   "cell_type": "markdown",
   "metadata": {},
   "source": [
    "Si crea la colonna `ind_share` (individual share)."
   ]
  },
  {
   "cell_type": "code",
   "execution_count": 34,
   "metadata": {
    "ExecuteTime": {
     "end_time": "2020-06-04T13:37:45.762557Z",
     "start_time": "2020-06-04T13:37:45.555563Z"
    }
   },
   "outputs": [
    {
     "name": "stdout",
     "output_type": "stream",
     "text": [
      "time: 441 ms\n"
     ]
    }
   ],
   "source": [
    "loan_lent['ind_share'] = loan_lent['loan_amount']/loan_lent['count']"
   ]
  },
  {
   "cell_type": "markdown",
   "metadata": {},
   "source": [
    "Infine con un groupby si trova quanto ha sborsato ogni utente nella piattaforma Kiva."
   ]
  },
  {
   "cell_type": "code",
   "execution_count": 35,
   "metadata": {
    "ExecuteTime": {
     "end_time": "2020-06-04T13:37:58.802189Z",
     "start_time": "2020-06-04T13:37:45.763557Z"
    }
   },
   "outputs": [
    {
     "data": {
      "text/html": [
       "<div>\n",
       "<style scoped>\n",
       "    .dataframe tbody tr th:only-of-type {\n",
       "        vertical-align: middle;\n",
       "    }\n",
       "\n",
       "    .dataframe tbody tr th {\n",
       "        vertical-align: top;\n",
       "    }\n",
       "\n",
       "    .dataframe thead th {\n",
       "        text-align: right;\n",
       "    }\n",
       "</style>\n",
       "<table border=\"1\" class=\"dataframe\">\n",
       "  <thead>\n",
       "    <tr style=\"text-align: right;\">\n",
       "      <th></th>\n",
       "      <th>lenders</th>\n",
       "      <th>ind_share</th>\n",
       "    </tr>\n",
       "  </thead>\n",
       "  <tbody>\n",
       "    <tr>\n",
       "      <th>0</th>\n",
       "      <td>000</td>\n",
       "      <td>1672.6184</td>\n",
       "    </tr>\n",
       "    <tr>\n",
       "      <th>1</th>\n",
       "      <td>00000</td>\n",
       "      <td>1379.7502</td>\n",
       "    </tr>\n",
       "    <tr>\n",
       "      <th>2</th>\n",
       "      <td>0002</td>\n",
       "      <td>2472.5636</td>\n",
       "    </tr>\n",
       "    <tr>\n",
       "      <th>3</th>\n",
       "      <td>00mike00</td>\n",
       "      <td>52.6316</td>\n",
       "    </tr>\n",
       "    <tr>\n",
       "      <th>4</th>\n",
       "      <td>0101craign0101</td>\n",
       "      <td>2623.5651</td>\n",
       "    </tr>\n",
       "  </tbody>\n",
       "</table>\n",
       "</div>"
      ],
      "text/plain": [
       "           lenders  ind_share\n",
       "0              000  1672.6184\n",
       "1            00000  1379.7502\n",
       "2             0002  2472.5636\n",
       "3         00mike00    52.6316\n",
       "4   0101craign0101  2623.5651"
      ]
     },
     "execution_count": 35,
     "metadata": {},
     "output_type": "execute_result"
    },
    {
     "name": "stdout",
     "output_type": "stream",
     "text": [
      "time: 15.2 s\n"
     ]
    }
   ],
   "source": [
    "money_lent = loan_lent.groupby('lenders')['ind_share'].sum().reset_index()\n",
    "money_lent.head()"
   ]
  },
  {
   "cell_type": "markdown",
   "metadata": {},
   "source": [
    "***"
   ]
  },
  {
   "cell_type": "markdown",
   "metadata": {},
   "source": [
    "###  <span style=\"color:#3282b8\"> 9. For each country, compute the difference between the overall amount of money lent and the overall amount of money borrowed."
   ]
  },
  {
   "cell_type": "markdown",
   "metadata": {},
   "source": [
    "####  <span style=\"color:#0f4c75\">Since the country of the lender is often unknown, you can assume that the true distribution among the countries is the same as the one computed from the rows where the country is known."
   ]
  },
  {
   "cell_type": "markdown",
   "metadata": {},
   "source": [
    "Come visto precedentemente, il dataframe `lenders` contiene le informazioni riguardanti ogni utente. L'informazione utile per il quesito è la nazionalità, quindi `country_code`. Il problema è che su 2349174 righe, 1458635 sono NaN (circa il 62%). "
   ]
  },
  {
   "cell_type": "code",
   "execution_count": 36,
   "metadata": {
    "ExecuteTime": {
     "end_time": "2020-06-04T13:37:59.078181Z",
     "start_time": "2020-06-04T13:37:58.803189Z"
    }
   },
   "outputs": [
    {
     "data": {
      "text/html": [
       "<div>\n",
       "<style scoped>\n",
       "    .dataframe tbody tr th:only-of-type {\n",
       "        vertical-align: middle;\n",
       "    }\n",
       "\n",
       "    .dataframe tbody tr th {\n",
       "        vertical-align: top;\n",
       "    }\n",
       "\n",
       "    .dataframe thead th {\n",
       "        text-align: right;\n",
       "    }\n",
       "</style>\n",
       "<table border=\"1\" class=\"dataframe\">\n",
       "  <thead>\n",
       "    <tr style=\"text-align: right;\">\n",
       "      <th></th>\n",
       "      <th>permanent_name</th>\n",
       "      <th>display_name</th>\n",
       "      <th>city</th>\n",
       "      <th>state</th>\n",
       "      <th>country_code</th>\n",
       "      <th>member_since</th>\n",
       "      <th>occupation</th>\n",
       "      <th>loan_because</th>\n",
       "      <th>loan_purchase_num</th>\n",
       "      <th>invited_by</th>\n",
       "      <th>num_invited</th>\n",
       "    </tr>\n",
       "  </thead>\n",
       "  <tbody>\n",
       "    <tr>\n",
       "      <th>0</th>\n",
       "      <td>qian3013</td>\n",
       "      <td>Qian</td>\n",
       "      <td>NaN</td>\n",
       "      <td>NaN</td>\n",
       "      <td>NaN</td>\n",
       "      <td>1461300457</td>\n",
       "      <td>NaN</td>\n",
       "      <td>NaN</td>\n",
       "      <td>1.0000</td>\n",
       "      <td>NaN</td>\n",
       "      <td>0</td>\n",
       "    </tr>\n",
       "    <tr>\n",
       "      <th>1</th>\n",
       "      <td>reena6733</td>\n",
       "      <td>Reena</td>\n",
       "      <td>NaN</td>\n",
       "      <td>NaN</td>\n",
       "      <td>NaN</td>\n",
       "      <td>1461300634</td>\n",
       "      <td>NaN</td>\n",
       "      <td>NaN</td>\n",
       "      <td>9.0000</td>\n",
       "      <td>NaN</td>\n",
       "      <td>0</td>\n",
       "    </tr>\n",
       "    <tr>\n",
       "      <th>2</th>\n",
       "      <td>mai5982</td>\n",
       "      <td>Mai</td>\n",
       "      <td>NaN</td>\n",
       "      <td>NaN</td>\n",
       "      <td>NaN</td>\n",
       "      <td>1461300853</td>\n",
       "      <td>NaN</td>\n",
       "      <td>NaN</td>\n",
       "      <td>nan</td>\n",
       "      <td>NaN</td>\n",
       "      <td>0</td>\n",
       "    </tr>\n",
       "    <tr>\n",
       "      <th>3</th>\n",
       "      <td>andrew86079135</td>\n",
       "      <td>Andrew</td>\n",
       "      <td>NaN</td>\n",
       "      <td>NaN</td>\n",
       "      <td>NaN</td>\n",
       "      <td>1461301091</td>\n",
       "      <td>NaN</td>\n",
       "      <td>NaN</td>\n",
       "      <td>5.0000</td>\n",
       "      <td>Peter Tan</td>\n",
       "      <td>0</td>\n",
       "    </tr>\n",
       "    <tr>\n",
       "      <th>4</th>\n",
       "      <td>nguyen6962</td>\n",
       "      <td>Nguyen</td>\n",
       "      <td>NaN</td>\n",
       "      <td>NaN</td>\n",
       "      <td>NaN</td>\n",
       "      <td>1461301154</td>\n",
       "      <td>NaN</td>\n",
       "      <td>NaN</td>\n",
       "      <td>nan</td>\n",
       "      <td>NaN</td>\n",
       "      <td>0</td>\n",
       "    </tr>\n",
       "    <tr>\n",
       "      <th>...</th>\n",
       "      <td>...</td>\n",
       "      <td>...</td>\n",
       "      <td>...</td>\n",
       "      <td>...</td>\n",
       "      <td>...</td>\n",
       "      <td>...</td>\n",
       "      <td>...</td>\n",
       "      <td>...</td>\n",
       "      <td>...</td>\n",
       "      <td>...</td>\n",
       "      <td>...</td>\n",
       "    </tr>\n",
       "    <tr>\n",
       "      <th>2349167</th>\n",
       "      <td>todd5695</td>\n",
       "      <td>Todd</td>\n",
       "      <td>NaN</td>\n",
       "      <td>NaN</td>\n",
       "      <td>NaN</td>\n",
       "      <td>1342101461</td>\n",
       "      <td>NaN</td>\n",
       "      <td>NaN</td>\n",
       "      <td>nan</td>\n",
       "      <td>NaN</td>\n",
       "      <td>0</td>\n",
       "    </tr>\n",
       "    <tr>\n",
       "      <th>2349168</th>\n",
       "      <td>kate40761039</td>\n",
       "      <td>Kate</td>\n",
       "      <td>NaN</td>\n",
       "      <td>NaN</td>\n",
       "      <td>NaN</td>\n",
       "      <td>1342096938</td>\n",
       "      <td>NaN</td>\n",
       "      <td>NaN</td>\n",
       "      <td>1.0000</td>\n",
       "      <td>Irina</td>\n",
       "      <td>0</td>\n",
       "    </tr>\n",
       "    <tr>\n",
       "      <th>2349169</th>\n",
       "      <td>janet7309</td>\n",
       "      <td>Janet</td>\n",
       "      <td>NaN</td>\n",
       "      <td>NaN</td>\n",
       "      <td>NaN</td>\n",
       "      <td>1342097163</td>\n",
       "      <td>NaN</td>\n",
       "      <td>NaN</td>\n",
       "      <td>nan</td>\n",
       "      <td>NaN</td>\n",
       "      <td>0</td>\n",
       "    </tr>\n",
       "    <tr>\n",
       "      <th>2349170</th>\n",
       "      <td>pj4198</td>\n",
       "      <td>NaN</td>\n",
       "      <td>NaN</td>\n",
       "      <td>NaN</td>\n",
       "      <td>NaN</td>\n",
       "      <td>1342097515</td>\n",
       "      <td>NaN</td>\n",
       "      <td>NaN</td>\n",
       "      <td>nan</td>\n",
       "      <td>NaN</td>\n",
       "      <td>0</td>\n",
       "    </tr>\n",
       "    <tr>\n",
       "      <th>2349172</th>\n",
       "      <td>simone9846</td>\n",
       "      <td>Simone</td>\n",
       "      <td>NaN</td>\n",
       "      <td>NaN</td>\n",
       "      <td>NaN</td>\n",
       "      <td>1342100213</td>\n",
       "      <td>NaN</td>\n",
       "      <td>NaN</td>\n",
       "      <td>nan</td>\n",
       "      <td>NaN</td>\n",
       "      <td>0</td>\n",
       "    </tr>\n",
       "  </tbody>\n",
       "</table>\n",
       "<p>1458635 rows × 11 columns</p>\n",
       "</div>"
      ],
      "text/plain": [
       "         permanent_name display_name city state country_code  member_since  \\\n",
       "0              qian3013         Qian  NaN   NaN          NaN    1461300457   \n",
       "1             reena6733        Reena  NaN   NaN          NaN    1461300634   \n",
       "2               mai5982          Mai  NaN   NaN          NaN    1461300853   \n",
       "3        andrew86079135       Andrew  NaN   NaN          NaN    1461301091   \n",
       "4            nguyen6962       Nguyen  NaN   NaN          NaN    1461301154   \n",
       "...                 ...          ...  ...   ...          ...           ...   \n",
       "2349167        todd5695         Todd  NaN   NaN          NaN    1342101461   \n",
       "2349168    kate40761039         Kate  NaN   NaN          NaN    1342096938   \n",
       "2349169       janet7309        Janet  NaN   NaN          NaN    1342097163   \n",
       "2349170          pj4198          NaN  NaN   NaN          NaN    1342097515   \n",
       "2349172      simone9846       Simone  NaN   NaN          NaN    1342100213   \n",
       "\n",
       "        occupation loan_because  loan_purchase_num invited_by  num_invited  \n",
       "0              NaN          NaN             1.0000        NaN            0  \n",
       "1              NaN          NaN             9.0000        NaN            0  \n",
       "2              NaN          NaN                nan        NaN            0  \n",
       "3              NaN          NaN             5.0000  Peter Tan            0  \n",
       "4              NaN          NaN                nan        NaN            0  \n",
       "...            ...          ...                ...        ...          ...  \n",
       "2349167        NaN          NaN                nan        NaN            0  \n",
       "2349168        NaN          NaN             1.0000      Irina            0  \n",
       "2349169        NaN          NaN                nan        NaN            0  \n",
       "2349170        NaN          NaN                nan        NaN            0  \n",
       "2349172        NaN          NaN                nan        NaN            0  \n",
       "\n",
       "[1458635 rows x 11 columns]"
      ]
     },
     "execution_count": 36,
     "metadata": {},
     "output_type": "execute_result"
    },
    {
     "name": "stdout",
     "output_type": "stream",
     "text": [
      "time: 1.4 s\n"
     ]
    }
   ],
   "source": [
    "lenders[lenders['country_code'].isna()]"
   ]
  },
  {
   "cell_type": "markdown",
   "metadata": {},
   "source": [
    "Come suggerito, si cerca quindi la distribuzione dei paesi sulla base di quelli conosciuti. Si crea quindi un dataframe `countries` che conta quanti lenders sono originari di un determinato paese."
   ]
  },
  {
   "cell_type": "code",
   "execution_count": 37,
   "metadata": {
    "ExecuteTime": {
     "end_time": "2020-06-04T13:37:59.243176Z",
     "start_time": "2020-06-04T13:37:59.080181Z"
    }
   },
   "outputs": [
    {
     "data": {
      "text/html": [
       "<div>\n",
       "<style scoped>\n",
       "    .dataframe tbody tr th:only-of-type {\n",
       "        vertical-align: middle;\n",
       "    }\n",
       "\n",
       "    .dataframe tbody tr th {\n",
       "        vertical-align: top;\n",
       "    }\n",
       "\n",
       "    .dataframe thead th {\n",
       "        text-align: right;\n",
       "    }\n",
       "</style>\n",
       "<table border=\"1\" class=\"dataframe\">\n",
       "  <thead>\n",
       "    <tr style=\"text-align: right;\">\n",
       "      <th></th>\n",
       "      <th>country_code</th>\n",
       "      <th>num</th>\n",
       "    </tr>\n",
       "  </thead>\n",
       "  <tbody>\n",
       "    <tr>\n",
       "      <th>0</th>\n",
       "      <td>AD</td>\n",
       "      <td>15</td>\n",
       "    </tr>\n",
       "    <tr>\n",
       "      <th>1</th>\n",
       "      <td>AE</td>\n",
       "      <td>1043</td>\n",
       "    </tr>\n",
       "    <tr>\n",
       "      <th>2</th>\n",
       "      <td>AF</td>\n",
       "      <td>228</td>\n",
       "    </tr>\n",
       "    <tr>\n",
       "      <th>3</th>\n",
       "      <td>AG</td>\n",
       "      <td>8</td>\n",
       "    </tr>\n",
       "    <tr>\n",
       "      <th>4</th>\n",
       "      <td>AI</td>\n",
       "      <td>4</td>\n",
       "    </tr>\n",
       "  </tbody>\n",
       "</table>\n",
       "</div>"
      ],
      "text/plain": [
       "  country_code   num\n",
       "0           AD    15\n",
       "1           AE  1043\n",
       "2           AF   228\n",
       "3           AG     8\n",
       "4           AI     4"
      ]
     },
     "execution_count": 37,
     "metadata": {},
     "output_type": "execute_result"
    },
    {
     "name": "stdout",
     "output_type": "stream",
     "text": [
      "time: 221 ms\n"
     ]
    }
   ],
   "source": [
    "countries = lenders['country_code'].dropna().reset_index()\n",
    "countries = countries.groupby('country_code').size().reset_index() \n",
    "countries.columns = ['country_code', 'num'] #vengono rinominate le colonne per rendere tutto più ordinato\n",
    "countries.head()"
   ]
  },
  {
   "cell_type": "markdown",
   "metadata": {},
   "source": [
    "Se ne calcola quindi la distribuzione, dividendo il numero di utenti di una determinata nazionalità per il totale."
   ]
  },
  {
   "cell_type": "code",
   "execution_count": 38,
   "metadata": {
    "ExecuteTime": {
     "end_time": "2020-06-04T13:37:59.252176Z",
     "start_time": "2020-06-04T13:37:59.244176Z"
    }
   },
   "outputs": [
    {
     "data": {
      "text/html": [
       "<div>\n",
       "<style scoped>\n",
       "    .dataframe tbody tr th:only-of-type {\n",
       "        vertical-align: middle;\n",
       "    }\n",
       "\n",
       "    .dataframe tbody tr th {\n",
       "        vertical-align: top;\n",
       "    }\n",
       "\n",
       "    .dataframe thead th {\n",
       "        text-align: right;\n",
       "    }\n",
       "</style>\n",
       "<table border=\"1\" class=\"dataframe\">\n",
       "  <thead>\n",
       "    <tr style=\"text-align: right;\">\n",
       "      <th></th>\n",
       "      <th>country_code</th>\n",
       "      <th>num</th>\n",
       "      <th>distribution</th>\n",
       "    </tr>\n",
       "  </thead>\n",
       "  <tbody>\n",
       "    <tr>\n",
       "      <th>0</th>\n",
       "      <td>AD</td>\n",
       "      <td>15</td>\n",
       "      <td>0.0000</td>\n",
       "    </tr>\n",
       "    <tr>\n",
       "      <th>1</th>\n",
       "      <td>AE</td>\n",
       "      <td>1043</td>\n",
       "      <td>0.0012</td>\n",
       "    </tr>\n",
       "    <tr>\n",
       "      <th>2</th>\n",
       "      <td>AF</td>\n",
       "      <td>228</td>\n",
       "      <td>0.0003</td>\n",
       "    </tr>\n",
       "    <tr>\n",
       "      <th>3</th>\n",
       "      <td>AG</td>\n",
       "      <td>8</td>\n",
       "      <td>0.0000</td>\n",
       "    </tr>\n",
       "    <tr>\n",
       "      <th>4</th>\n",
       "      <td>AI</td>\n",
       "      <td>4</td>\n",
       "      <td>0.0000</td>\n",
       "    </tr>\n",
       "    <tr>\n",
       "      <th>5</th>\n",
       "      <td>AL</td>\n",
       "      <td>96</td>\n",
       "      <td>0.0001</td>\n",
       "    </tr>\n",
       "    <tr>\n",
       "      <th>6</th>\n",
       "      <td>AM</td>\n",
       "      <td>93</td>\n",
       "      <td>0.0001</td>\n",
       "    </tr>\n",
       "    <tr>\n",
       "      <th>7</th>\n",
       "      <td>AN</td>\n",
       "      <td>35</td>\n",
       "      <td>0.0000</td>\n",
       "    </tr>\n",
       "    <tr>\n",
       "      <th>8</th>\n",
       "      <td>AO</td>\n",
       "      <td>38</td>\n",
       "      <td>0.0000</td>\n",
       "    </tr>\n",
       "    <tr>\n",
       "      <th>9</th>\n",
       "      <td>AQ</td>\n",
       "      <td>26</td>\n",
       "      <td>0.0000</td>\n",
       "    </tr>\n",
       "  </tbody>\n",
       "</table>\n",
       "</div>"
      ],
      "text/plain": [
       "  country_code   num  distribution\n",
       "0           AD    15        0.0000\n",
       "1           AE  1043        0.0012\n",
       "2           AF   228        0.0003\n",
       "3           AG     8        0.0000\n",
       "4           AI     4        0.0000\n",
       "5           AL    96        0.0001\n",
       "6           AM    93        0.0001\n",
       "7           AN    35        0.0000\n",
       "8           AO    38        0.0000\n",
       "9           AQ    26        0.0000"
      ]
     },
     "execution_count": 38,
     "metadata": {},
     "output_type": "execute_result"
    },
    {
     "name": "stdout",
     "output_type": "stream",
     "text": [
      "time: 10.1 ms\n"
     ]
    }
   ],
   "source": [
    "countries['distribution'] = countries['num']/countries['num'].sum()\n",
    "countries.head(10)"
   ]
  },
  {
   "cell_type": "markdown",
   "metadata": {},
   "source": [
    "Dal momento che verranno utilizzati i dataframe `countries` e `money_borrowed` (creato nel punto 5) ci si chiede se vi è qualche discrepanza tra i `country_code`"
   ]
  },
  {
   "cell_type": "code",
   "execution_count": 39,
   "metadata": {
    "ExecuteTime": {
     "end_time": "2020-06-04T13:37:59.292175Z",
     "start_time": "2020-06-04T13:37:59.253176Z"
    }
   },
   "outputs": [
    {
     "name": "stdout",
     "output_type": "stream",
     "text": [
      "TD\n",
      "NA\n",
      "time: 68.3 ms\n"
     ]
    }
   ],
   "source": [
    "for country in money_borrowed['country_code']:\n",
    "    if ~countries['country_code'].str.contains(country).any():\n",
    "        print(country)"
   ]
  },
  {
   "cell_type": "markdown",
   "metadata": {},
   "source": [
    "È possibile osservare che la Namibia (NA) e il Chad (TD) non compaiono tra le nazioni che hanno prestato denaro. Vengono aggiunte per completezza:"
   ]
  },
  {
   "cell_type": "code",
   "execution_count": 40,
   "metadata": {
    "ExecuteTime": {
     "end_time": "2020-06-04T13:37:59.300175Z",
     "start_time": "2020-06-04T13:37:59.293175Z"
    }
   },
   "outputs": [
    {
     "name": "stdout",
     "output_type": "stream",
     "text": [
      "time: 4.92 ms\n"
     ]
    }
   ],
   "source": [
    "countries = countries.append(pd.DataFrame({\"country_code\":['NA', 'TD'], \"num\":[0, 0], \"distribution\":[0,0]})).reset_index(drop=1)"
   ]
  },
  {
   "cell_type": "markdown",
   "metadata": {},
   "source": [
    "####  <span style=\"color:#0f4c75\">Money lent"
   ]
  },
  {
   "cell_type": "markdown",
   "metadata": {},
   "source": [
    "Nel punto 8 era stato creato il dataframe `money_lent`, che contiene i soldi prestati da ogni utente di Kiva. Facendone un merge con `lenders`, se ne ottiene anche la nazionalità (quelle che sono presenti)."
   ]
  },
  {
   "cell_type": "code",
   "execution_count": 41,
   "metadata": {
    "ExecuteTime": {
     "end_time": "2020-06-04T13:38:03.376060Z",
     "start_time": "2020-06-04T13:37:59.301174Z"
    }
   },
   "outputs": [
    {
     "data": {
      "text/html": [
       "<div>\n",
       "<style scoped>\n",
       "    .dataframe tbody tr th:only-of-type {\n",
       "        vertical-align: middle;\n",
       "    }\n",
       "\n",
       "    .dataframe tbody tr th {\n",
       "        vertical-align: top;\n",
       "    }\n",
       "\n",
       "    .dataframe thead th {\n",
       "        text-align: right;\n",
       "    }\n",
       "</style>\n",
       "<table border=\"1\" class=\"dataframe\">\n",
       "  <thead>\n",
       "    <tr style=\"text-align: right;\">\n",
       "      <th></th>\n",
       "      <th>lenders</th>\n",
       "      <th>ind_share</th>\n",
       "      <th>country_code</th>\n",
       "    </tr>\n",
       "  </thead>\n",
       "  <tbody>\n",
       "    <tr>\n",
       "      <th>0</th>\n",
       "      <td>000</td>\n",
       "      <td>1672.6184</td>\n",
       "      <td>NaN</td>\n",
       "    </tr>\n",
       "    <tr>\n",
       "      <th>1</th>\n",
       "      <td>00000</td>\n",
       "      <td>1379.7502</td>\n",
       "      <td>NaN</td>\n",
       "    </tr>\n",
       "    <tr>\n",
       "      <th>2</th>\n",
       "      <td>0002</td>\n",
       "      <td>2472.5636</td>\n",
       "      <td>NaN</td>\n",
       "    </tr>\n",
       "    <tr>\n",
       "      <th>3</th>\n",
       "      <td>00mike00</td>\n",
       "      <td>52.6316</td>\n",
       "      <td>NaN</td>\n",
       "    </tr>\n",
       "    <tr>\n",
       "      <th>4</th>\n",
       "      <td>0101craign0101</td>\n",
       "      <td>2623.5651</td>\n",
       "      <td>NaN</td>\n",
       "    </tr>\n",
       "  </tbody>\n",
       "</table>\n",
       "</div>"
      ],
      "text/plain": [
       "           lenders  ind_share country_code\n",
       "0              000  1672.6184          NaN\n",
       "1            00000  1379.7502          NaN\n",
       "2             0002  2472.5636          NaN\n",
       "3         00mike00    52.6316          NaN\n",
       "4   0101craign0101  2623.5651          NaN"
      ]
     },
     "execution_count": 41,
     "metadata": {},
     "output_type": "execute_result"
    },
    {
     "name": "stdout",
     "output_type": "stream",
     "text": [
      "time: 4.85 s\n"
     ]
    }
   ],
   "source": [
    "temp = pd.merge(money_lent,lenders[['permanent_name','country_code']],how='left', left_on=['lenders'],right_on=['permanent_name']).drop(columns=['permanent_name'])\n",
    "temp.head()"
   ]
  },
  {
   "cell_type": "markdown",
   "metadata": {},
   "source": [
    "Inizialmente si considerino solo gli utenti di cui si conosce la nazionalità. Si eliminano quindi tutte le righe con valore NaN e si effettua un groupby per `country_code` sommando le righe, in modo da ricavare la quantità di soldi prestata per ogni paese."
   ]
  },
  {
   "cell_type": "code",
   "execution_count": 42,
   "metadata": {
    "ExecuteTime": {
     "end_time": "2020-06-04T13:38:03.524055Z",
     "start_time": "2020-06-04T13:38:03.377060Z"
    }
   },
   "outputs": [
    {
     "data": {
      "text/html": [
       "<div>\n",
       "<style scoped>\n",
       "    .dataframe tbody tr th:only-of-type {\n",
       "        vertical-align: middle;\n",
       "    }\n",
       "\n",
       "    .dataframe tbody tr th {\n",
       "        vertical-align: top;\n",
       "    }\n",
       "\n",
       "    .dataframe thead th {\n",
       "        text-align: right;\n",
       "    }\n",
       "</style>\n",
       "<table border=\"1\" class=\"dataframe\">\n",
       "  <thead>\n",
       "    <tr style=\"text-align: right;\">\n",
       "      <th></th>\n",
       "      <th>country_code</th>\n",
       "      <th>ind_share</th>\n",
       "    </tr>\n",
       "  </thead>\n",
       "  <tbody>\n",
       "    <tr>\n",
       "      <th>0</th>\n",
       "      <td>AD</td>\n",
       "      <td>115.1515</td>\n",
       "    </tr>\n",
       "    <tr>\n",
       "      <th>1</th>\n",
       "      <td>AE</td>\n",
       "      <td>101302.4818</td>\n",
       "    </tr>\n",
       "    <tr>\n",
       "      <th>2</th>\n",
       "      <td>AF</td>\n",
       "      <td>5433.3261</td>\n",
       "    </tr>\n",
       "    <tr>\n",
       "      <th>3</th>\n",
       "      <td>AL</td>\n",
       "      <td>732.2944</td>\n",
       "    </tr>\n",
       "    <tr>\n",
       "      <th>4</th>\n",
       "      <td>AM</td>\n",
       "      <td>379.4789</td>\n",
       "    </tr>\n",
       "  </tbody>\n",
       "</table>\n",
       "</div>"
      ],
      "text/plain": [
       "  country_code   ind_share\n",
       "0           AD    115.1515\n",
       "1           AE 101302.4818\n",
       "2           AF   5433.3261\n",
       "3           AL    732.2944\n",
       "4           AM    379.4789"
      ]
     },
     "execution_count": 42,
     "metadata": {},
     "output_type": "execute_result"
    },
    {
     "name": "stdout",
     "output_type": "stream",
     "text": [
      "time: 199 ms\n"
     ]
    }
   ],
   "source": [
    "temp2 = temp.dropna(subset=['country_code'])\n",
    "temp2 = temp2.groupby('country_code').sum().reset_index()\n",
    "temp2.head()"
   ]
  },
  {
   "cell_type": "markdown",
   "metadata": {},
   "source": [
    "Per quanto riguarda gli utenti con nazionalità sconosciuta, si calcola il totale dei soldi prestati e lo di ridistribuisce ai vari paese in base alla distribuzione calcolata precedentemente."
   ]
  },
  {
   "cell_type": "code",
   "execution_count": 43,
   "metadata": {
    "ExecuteTime": {
     "end_time": "2020-06-04T13:38:03.753049Z",
     "start_time": "2020-06-04T13:38:03.525055Z"
    }
   },
   "outputs": [
    {
     "data": {
      "text/plain": [
       "1019317175.8003209"
      ]
     },
     "execution_count": 43,
     "metadata": {},
     "output_type": "execute_result"
    },
    {
     "name": "stdout",
     "output_type": "stream",
     "text": [
      "time: 242 ms\n"
     ]
    }
   ],
   "source": [
    "tot = temp[temp['country_code'].isna()]['ind_share'].sum()\n",
    "tot"
   ]
  },
  {
   "cell_type": "code",
   "execution_count": 44,
   "metadata": {
    "ExecuteTime": {
     "end_time": "2020-06-04T13:38:03.762049Z",
     "start_time": "2020-06-04T13:38:03.754049Z"
    }
   },
   "outputs": [
    {
     "data": {
      "text/html": [
       "<div>\n",
       "<style scoped>\n",
       "    .dataframe tbody tr th:only-of-type {\n",
       "        vertical-align: middle;\n",
       "    }\n",
       "\n",
       "    .dataframe tbody tr th {\n",
       "        vertical-align: top;\n",
       "    }\n",
       "\n",
       "    .dataframe thead th {\n",
       "        text-align: right;\n",
       "    }\n",
       "</style>\n",
       "<table border=\"1\" class=\"dataframe\">\n",
       "  <thead>\n",
       "    <tr style=\"text-align: right;\">\n",
       "      <th></th>\n",
       "      <th>country_code</th>\n",
       "      <th>num</th>\n",
       "      <th>distribution</th>\n",
       "      <th>tot_lent_NaN</th>\n",
       "    </tr>\n",
       "  </thead>\n",
       "  <tbody>\n",
       "    <tr>\n",
       "      <th>0</th>\n",
       "      <td>AD</td>\n",
       "      <td>15</td>\n",
       "      <td>0.0000</td>\n",
       "      <td>17169.1050</td>\n",
       "    </tr>\n",
       "    <tr>\n",
       "      <th>1</th>\n",
       "      <td>AE</td>\n",
       "      <td>1043</td>\n",
       "      <td>0.0012</td>\n",
       "      <td>1193825.1041</td>\n",
       "    </tr>\n",
       "    <tr>\n",
       "      <th>2</th>\n",
       "      <td>AF</td>\n",
       "      <td>228</td>\n",
       "      <td>0.0003</td>\n",
       "      <td>260970.3967</td>\n",
       "    </tr>\n",
       "    <tr>\n",
       "      <th>3</th>\n",
       "      <td>AG</td>\n",
       "      <td>8</td>\n",
       "      <td>0.0000</td>\n",
       "      <td>9156.8560</td>\n",
       "    </tr>\n",
       "    <tr>\n",
       "      <th>4</th>\n",
       "      <td>AI</td>\n",
       "      <td>4</td>\n",
       "      <td>0.0000</td>\n",
       "      <td>4578.4280</td>\n",
       "    </tr>\n",
       "  </tbody>\n",
       "</table>\n",
       "</div>"
      ],
      "text/plain": [
       "  country_code   num  distribution  tot_lent_NaN\n",
       "0           AD    15        0.0000    17169.1050\n",
       "1           AE  1043        0.0012  1193825.1041\n",
       "2           AF   228        0.0003   260970.3967\n",
       "3           AG     8        0.0000     9156.8560\n",
       "4           AI     4        0.0000     4578.4280"
      ]
     },
     "execution_count": 44,
     "metadata": {},
     "output_type": "execute_result"
    },
    {
     "name": "stdout",
     "output_type": "stream",
     "text": [
      "time: 12.4 ms\n"
     ]
    }
   ],
   "source": [
    "countries['tot_lent_NaN'] = tot*countries['distribution']\n",
    "countries.head()"
   ]
  },
  {
   "cell_type": "code",
   "execution_count": 45,
   "metadata": {
    "ExecuteTime": {
     "end_time": "2020-06-04T13:38:03.779053Z",
     "start_time": "2020-06-04T13:38:03.763050Z"
    }
   },
   "outputs": [
    {
     "data": {
      "text/html": [
       "<div>\n",
       "<style scoped>\n",
       "    .dataframe tbody tr th:only-of-type {\n",
       "        vertical-align: middle;\n",
       "    }\n",
       "\n",
       "    .dataframe tbody tr th {\n",
       "        vertical-align: top;\n",
       "    }\n",
       "\n",
       "    .dataframe thead th {\n",
       "        text-align: right;\n",
       "    }\n",
       "</style>\n",
       "<table border=\"1\" class=\"dataframe\">\n",
       "  <thead>\n",
       "    <tr style=\"text-align: right;\">\n",
       "      <th></th>\n",
       "      <th>country_code</th>\n",
       "      <th>mon_lent_NaN</th>\n",
       "      <th>mon_lent_known</th>\n",
       "    </tr>\n",
       "  </thead>\n",
       "  <tbody>\n",
       "    <tr>\n",
       "      <th>0</th>\n",
       "      <td>AD</td>\n",
       "      <td>17169.1050</td>\n",
       "      <td>115.1515</td>\n",
       "    </tr>\n",
       "    <tr>\n",
       "      <th>1</th>\n",
       "      <td>AE</td>\n",
       "      <td>1193825.1041</td>\n",
       "      <td>101302.4818</td>\n",
       "    </tr>\n",
       "    <tr>\n",
       "      <th>2</th>\n",
       "      <td>AF</td>\n",
       "      <td>260970.3967</td>\n",
       "      <td>5433.3261</td>\n",
       "    </tr>\n",
       "    <tr>\n",
       "      <th>3</th>\n",
       "      <td>AG</td>\n",
       "      <td>9156.8560</td>\n",
       "      <td>0.0000</td>\n",
       "    </tr>\n",
       "    <tr>\n",
       "      <th>4</th>\n",
       "      <td>AI</td>\n",
       "      <td>4578.4280</td>\n",
       "      <td>0.0000</td>\n",
       "    </tr>\n",
       "  </tbody>\n",
       "</table>\n",
       "</div>"
      ],
      "text/plain": [
       "  country_code  mon_lent_NaN  mon_lent_known\n",
       "0           AD    17169.1050        115.1515\n",
       "1           AE  1193825.1041     101302.4818\n",
       "2           AF   260970.3967       5433.3261\n",
       "3           AG     9156.8560          0.0000\n",
       "4           AI     4578.4280          0.0000"
      ]
     },
     "execution_count": 45,
     "metadata": {},
     "output_type": "execute_result"
    },
    {
     "name": "stdout",
     "output_type": "stream",
     "text": [
      "time: 20 ms\n"
     ]
    }
   ],
   "source": [
    "temp2 = pd.merge(countries[['country_code','tot_lent_NaN']], temp2, how='left', on='country_code')\n",
    "temp2.columns=['country_code','mon_lent_NaN','mon_lent_known']\n",
    "temp2 = temp2.fillna(0)\n",
    "temp2.head()"
   ]
  },
  {
   "cell_type": "code",
   "execution_count": 46,
   "metadata": {
    "ExecuteTime": {
     "end_time": "2020-06-04T13:38:03.793064Z",
     "start_time": "2020-06-04T13:38:03.780049Z"
    }
   },
   "outputs": [
    {
     "data": {
      "text/html": [
       "<div>\n",
       "<style scoped>\n",
       "    .dataframe tbody tr th:only-of-type {\n",
       "        vertical-align: middle;\n",
       "    }\n",
       "\n",
       "    .dataframe tbody tr th {\n",
       "        vertical-align: top;\n",
       "    }\n",
       "\n",
       "    .dataframe thead th {\n",
       "        text-align: right;\n",
       "    }\n",
       "</style>\n",
       "<table border=\"1\" class=\"dataframe\">\n",
       "  <thead>\n",
       "    <tr style=\"text-align: right;\">\n",
       "      <th></th>\n",
       "      <th>country_code</th>\n",
       "      <th>money_lent</th>\n",
       "    </tr>\n",
       "  </thead>\n",
       "  <tbody>\n",
       "    <tr>\n",
       "      <th>0</th>\n",
       "      <td>AD</td>\n",
       "      <td>17284.2566</td>\n",
       "    </tr>\n",
       "    <tr>\n",
       "      <th>1</th>\n",
       "      <td>AE</td>\n",
       "      <td>1295127.5858</td>\n",
       "    </tr>\n",
       "    <tr>\n",
       "      <th>2</th>\n",
       "      <td>AF</td>\n",
       "      <td>266403.7227</td>\n",
       "    </tr>\n",
       "    <tr>\n",
       "      <th>3</th>\n",
       "      <td>AG</td>\n",
       "      <td>9156.8560</td>\n",
       "    </tr>\n",
       "    <tr>\n",
       "      <th>4</th>\n",
       "      <td>AI</td>\n",
       "      <td>4578.4280</td>\n",
       "    </tr>\n",
       "  </tbody>\n",
       "</table>\n",
       "</div>"
      ],
      "text/plain": [
       "  country_code   money_lent\n",
       "0           AD   17284.2566\n",
       "1           AE 1295127.5858\n",
       "2           AF  266403.7227\n",
       "3           AG    9156.8560\n",
       "4           AI    4578.4280"
      ]
     },
     "execution_count": 46,
     "metadata": {},
     "output_type": "execute_result"
    },
    {
     "name": "stdout",
     "output_type": "stream",
     "text": [
      "time: 12.5 ms\n"
     ]
    }
   ],
   "source": [
    "temp2['money_lent'] = temp2['mon_lent_NaN']+temp2['mon_lent_known']\n",
    "temp2 = temp2.drop(columns = ['mon_lent_NaN','mon_lent_known'])\n",
    "temp2.head()"
   ]
  },
  {
   "cell_type": "markdown",
   "metadata": {},
   "source": [
    "####  <span style=\"color:#0f4c75\">Money borrowed"
   ]
  },
  {
   "cell_type": "markdown",
   "metadata": {},
   "source": [
    "Nel punto 5 era stato calcolato il dataframe `money_borrowed`, che contiene i soldi prestati da ogni paese. Basterà quindi effettuare un merge:"
   ]
  },
  {
   "cell_type": "code",
   "execution_count": 47,
   "metadata": {
    "ExecuteTime": {
     "end_time": "2020-06-04T13:38:03.820047Z",
     "start_time": "2020-06-04T13:38:03.794048Z"
    }
   },
   "outputs": [
    {
     "data": {
      "text/html": [
       "<div>\n",
       "<style scoped>\n",
       "    .dataframe tbody tr th:only-of-type {\n",
       "        vertical-align: middle;\n",
       "    }\n",
       "\n",
       "    .dataframe tbody tr th {\n",
       "        vertical-align: top;\n",
       "    }\n",
       "\n",
       "    .dataframe thead th {\n",
       "        text-align: right;\n",
       "    }\n",
       "</style>\n",
       "<table border=\"1\" class=\"dataframe\">\n",
       "  <thead>\n",
       "    <tr style=\"text-align: right;\">\n",
       "      <th></th>\n",
       "      <th>country_code</th>\n",
       "      <th>money_lent</th>\n",
       "      <th>money_borrowed</th>\n",
       "    </tr>\n",
       "  </thead>\n",
       "  <tbody>\n",
       "    <tr>\n",
       "      <th>0</th>\n",
       "      <td>AD</td>\n",
       "      <td>17284.2566</td>\n",
       "      <td>nan</td>\n",
       "    </tr>\n",
       "    <tr>\n",
       "      <th>1</th>\n",
       "      <td>AE</td>\n",
       "      <td>1295127.5858</td>\n",
       "      <td>nan</td>\n",
       "    </tr>\n",
       "    <tr>\n",
       "      <th>2</th>\n",
       "      <td>AF</td>\n",
       "      <td>266403.7227</td>\n",
       "      <td>1967950.0000</td>\n",
       "    </tr>\n",
       "    <tr>\n",
       "      <th>3</th>\n",
       "      <td>AG</td>\n",
       "      <td>9156.8560</td>\n",
       "      <td>nan</td>\n",
       "    </tr>\n",
       "    <tr>\n",
       "      <th>4</th>\n",
       "      <td>AI</td>\n",
       "      <td>4578.4280</td>\n",
       "      <td>nan</td>\n",
       "    </tr>\n",
       "  </tbody>\n",
       "</table>\n",
       "</div>"
      ],
      "text/plain": [
       "  country_code   money_lent  money_borrowed\n",
       "0           AD   17284.2566             nan\n",
       "1           AE 1295127.5858             nan\n",
       "2           AF  266403.7227    1967950.0000\n",
       "3           AG    9156.8560             nan\n",
       "4           AI    4578.4280             nan"
      ]
     },
     "execution_count": 47,
     "metadata": {},
     "output_type": "execute_result"
    },
    {
     "name": "stdout",
     "output_type": "stream",
     "text": [
      "time: 13.9 ms\n"
     ]
    }
   ],
   "source": [
    "temp2 = pd.merge(temp2, money_borrowed[['country_code','money_borrowed']], how='left', on='country_code')\n",
    "temp2.head()"
   ]
  },
  {
   "cell_type": "markdown",
   "metadata": {},
   "source": [
    "È possibile infine calcolare la differenza:"
   ]
  },
  {
   "cell_type": "code",
   "execution_count": 48,
   "metadata": {
    "ExecuteTime": {
     "end_time": "2020-06-04T13:38:03.849047Z",
     "start_time": "2020-06-04T13:38:03.821064Z"
    }
   },
   "outputs": [
    {
     "data": {
      "text/html": [
       "<div>\n",
       "<style scoped>\n",
       "    .dataframe tbody tr th:only-of-type {\n",
       "        vertical-align: middle;\n",
       "    }\n",
       "\n",
       "    .dataframe tbody tr th {\n",
       "        vertical-align: top;\n",
       "    }\n",
       "\n",
       "    .dataframe thead th {\n",
       "        text-align: right;\n",
       "    }\n",
       "</style>\n",
       "<table border=\"1\" class=\"dataframe\">\n",
       "  <thead>\n",
       "    <tr style=\"text-align: right;\">\n",
       "      <th></th>\n",
       "      <th>country_code</th>\n",
       "      <th>money_lent</th>\n",
       "      <th>money_borrowed</th>\n",
       "      <th>difference</th>\n",
       "    </tr>\n",
       "  </thead>\n",
       "  <tbody>\n",
       "    <tr>\n",
       "      <th>0</th>\n",
       "      <td>AD</td>\n",
       "      <td>17284.2566</td>\n",
       "      <td>nan</td>\n",
       "      <td>nan</td>\n",
       "    </tr>\n",
       "    <tr>\n",
       "      <th>1</th>\n",
       "      <td>AE</td>\n",
       "      <td>1295127.5858</td>\n",
       "      <td>nan</td>\n",
       "      <td>nan</td>\n",
       "    </tr>\n",
       "    <tr>\n",
       "      <th>2</th>\n",
       "      <td>AF</td>\n",
       "      <td>266403.7227</td>\n",
       "      <td>1967950.0000</td>\n",
       "      <td>-1701546.2773</td>\n",
       "    </tr>\n",
       "    <tr>\n",
       "      <th>3</th>\n",
       "      <td>AG</td>\n",
       "      <td>9156.8560</td>\n",
       "      <td>nan</td>\n",
       "      <td>nan</td>\n",
       "    </tr>\n",
       "    <tr>\n",
       "      <th>4</th>\n",
       "      <td>AI</td>\n",
       "      <td>4578.4280</td>\n",
       "      <td>nan</td>\n",
       "      <td>nan</td>\n",
       "    </tr>\n",
       "    <tr>\n",
       "      <th>...</th>\n",
       "      <td>...</td>\n",
       "      <td>...</td>\n",
       "      <td>...</td>\n",
       "      <td>...</td>\n",
       "    </tr>\n",
       "    <tr>\n",
       "      <th>231</th>\n",
       "      <td>ZA</td>\n",
       "      <td>1224671.5490</td>\n",
       "      <td>1006525.0000</td>\n",
       "      <td>218146.5490</td>\n",
       "    </tr>\n",
       "    <tr>\n",
       "      <th>232</th>\n",
       "      <td>ZM</td>\n",
       "      <td>74651.6691</td>\n",
       "      <td>1862600.0000</td>\n",
       "      <td>-1787948.3309</td>\n",
       "    </tr>\n",
       "    <tr>\n",
       "      <th>233</th>\n",
       "      <td>ZW</td>\n",
       "      <td>61808.7782</td>\n",
       "      <td>5826925.0000</td>\n",
       "      <td>-5765116.2218</td>\n",
       "    </tr>\n",
       "    <tr>\n",
       "      <th>234</th>\n",
       "      <td>NA</td>\n",
       "      <td>0.0000</td>\n",
       "      <td>39525.0000</td>\n",
       "      <td>-39525.0000</td>\n",
       "    </tr>\n",
       "    <tr>\n",
       "      <th>235</th>\n",
       "      <td>TD</td>\n",
       "      <td>0.0000</td>\n",
       "      <td>20075.0000</td>\n",
       "      <td>-20075.0000</td>\n",
       "    </tr>\n",
       "  </tbody>\n",
       "</table>\n",
       "<p>236 rows × 4 columns</p>\n",
       "</div>"
      ],
      "text/plain": [
       "    country_code   money_lent  money_borrowed    difference\n",
       "0             AD   17284.2566             nan           nan\n",
       "1             AE 1295127.5858             nan           nan\n",
       "2             AF  266403.7227    1967950.0000 -1701546.2773\n",
       "3             AG    9156.8560             nan           nan\n",
       "4             AI    4578.4280             nan           nan\n",
       "..           ...          ...             ...           ...\n",
       "231           ZA 1224671.5490    1006525.0000   218146.5490\n",
       "232           ZM   74651.6691    1862600.0000 -1787948.3309\n",
       "233           ZW   61808.7782    5826925.0000 -5765116.2218\n",
       "234           NA       0.0000      39525.0000   -39525.0000\n",
       "235           TD       0.0000      20075.0000   -20075.0000\n",
       "\n",
       "[236 rows x 4 columns]"
      ]
     },
     "execution_count": 48,
     "metadata": {},
     "output_type": "execute_result"
    },
    {
     "name": "stdout",
     "output_type": "stream",
     "text": [
      "time: 16.7 ms\n"
     ]
    }
   ],
   "source": [
    "temp2['difference'] = temp2['money_lent']-temp2['money_borrowed']\n",
    "temp2"
   ]
  },
  {
   "cell_type": "markdown",
   "metadata": {},
   "source": [
    "Si osserva che in realtà non è possibile calcolare la differenza di ogni paese: nel punto 5 si erano trovati valori di `money_borrowed` per solo 95 paesi. Si è preferito lasciare i valori mancanti come NaN, in quanto non si sa se i soldi prestati siano 0 oppure se sia un valore mancante. "
   ]
  },
  {
   "cell_type": "code",
   "execution_count": 49,
   "metadata": {
    "ExecuteTime": {
     "end_time": "2020-06-04T13:38:03.862046Z",
     "start_time": "2020-06-04T13:38:03.850046Z"
    }
   },
   "outputs": [
    {
     "data": {
      "text/html": [
       "<div>\n",
       "<style scoped>\n",
       "    .dataframe tbody tr th:only-of-type {\n",
       "        vertical-align: middle;\n",
       "    }\n",
       "\n",
       "    .dataframe tbody tr th {\n",
       "        vertical-align: top;\n",
       "    }\n",
       "\n",
       "    .dataframe thead th {\n",
       "        text-align: right;\n",
       "    }\n",
       "</style>\n",
       "<table border=\"1\" class=\"dataframe\">\n",
       "  <thead>\n",
       "    <tr style=\"text-align: right;\">\n",
       "      <th></th>\n",
       "      <th>country_code</th>\n",
       "      <th>money_lent</th>\n",
       "      <th>money_borrowed</th>\n",
       "      <th>difference</th>\n",
       "    </tr>\n",
       "  </thead>\n",
       "  <tbody>\n",
       "    <tr>\n",
       "      <th>2</th>\n",
       "      <td>AF</td>\n",
       "      <td>266403.7227</td>\n",
       "      <td>1967950.0000</td>\n",
       "      <td>-1701546.2773</td>\n",
       "    </tr>\n",
       "    <tr>\n",
       "      <th>5</th>\n",
       "      <td>AL</td>\n",
       "      <td>110614.5667</td>\n",
       "      <td>3784350.0000</td>\n",
       "      <td>-3673735.4333</td>\n",
       "    </tr>\n",
       "    <tr>\n",
       "      <th>6</th>\n",
       "      <td>AM</td>\n",
       "      <td>106827.9302</td>\n",
       "      <td>17878800.0000</td>\n",
       "      <td>-17771972.0698</td>\n",
       "    </tr>\n",
       "    <tr>\n",
       "      <th>15</th>\n",
       "      <td>AZ</td>\n",
       "      <td>44822.0770</td>\n",
       "      <td>13433200.0000</td>\n",
       "      <td>-13388377.9230</td>\n",
       "    </tr>\n",
       "    <tr>\n",
       "      <th>16</th>\n",
       "      <td>BA</td>\n",
       "      <td>78133.8311</td>\n",
       "      <td>477250.0000</td>\n",
       "      <td>-399116.1689</td>\n",
       "    </tr>\n",
       "    <tr>\n",
       "      <th>...</th>\n",
       "      <td>...</td>\n",
       "      <td>...</td>\n",
       "      <td>...</td>\n",
       "      <td>...</td>\n",
       "    </tr>\n",
       "    <tr>\n",
       "      <th>231</th>\n",
       "      <td>ZA</td>\n",
       "      <td>1224671.5490</td>\n",
       "      <td>1006525.0000</td>\n",
       "      <td>218146.5490</td>\n",
       "    </tr>\n",
       "    <tr>\n",
       "      <th>232</th>\n",
       "      <td>ZM</td>\n",
       "      <td>74651.6691</td>\n",
       "      <td>1862600.0000</td>\n",
       "      <td>-1787948.3309</td>\n",
       "    </tr>\n",
       "    <tr>\n",
       "      <th>233</th>\n",
       "      <td>ZW</td>\n",
       "      <td>61808.7782</td>\n",
       "      <td>5826925.0000</td>\n",
       "      <td>-5765116.2218</td>\n",
       "    </tr>\n",
       "    <tr>\n",
       "      <th>234</th>\n",
       "      <td>NA</td>\n",
       "      <td>0.0000</td>\n",
       "      <td>39525.0000</td>\n",
       "      <td>-39525.0000</td>\n",
       "    </tr>\n",
       "    <tr>\n",
       "      <th>235</th>\n",
       "      <td>TD</td>\n",
       "      <td>0.0000</td>\n",
       "      <td>20075.0000</td>\n",
       "      <td>-20075.0000</td>\n",
       "    </tr>\n",
       "  </tbody>\n",
       "</table>\n",
       "<p>95 rows × 4 columns</p>\n",
       "</div>"
      ],
      "text/plain": [
       "    country_code   money_lent  money_borrowed     difference\n",
       "2             AF  266403.7227    1967950.0000  -1701546.2773\n",
       "5             AL  110614.5667    3784350.0000  -3673735.4333\n",
       "6             AM  106827.9302   17878800.0000 -17771972.0698\n",
       "15            AZ   44822.0770   13433200.0000 -13388377.9230\n",
       "16            BA   78133.8311     477250.0000   -399116.1689\n",
       "..           ...          ...             ...            ...\n",
       "231           ZA 1224671.5490    1006525.0000    218146.5490\n",
       "232           ZM   74651.6691    1862600.0000  -1787948.3309\n",
       "233           ZW   61808.7782    5826925.0000  -5765116.2218\n",
       "234           NA       0.0000      39525.0000    -39525.0000\n",
       "235           TD       0.0000      20075.0000    -20075.0000\n",
       "\n",
       "[95 rows x 4 columns]"
      ]
     },
     "execution_count": 49,
     "metadata": {},
     "output_type": "execute_result"
    },
    {
     "name": "stdout",
     "output_type": "stream",
     "text": [
      "time: 15.9 ms\n"
     ]
    }
   ],
   "source": [
    "temp2.dropna()"
   ]
  },
  {
   "cell_type": "markdown",
   "metadata": {},
   "source": [
    "Eliminando i NaN ritroviamo i 95 paesi del punto 5, facendo attenzione a come sono stati trattati NA e TD, che, per coerenza con quanto detto prima, dovrebbero essere posti come NaN."
   ]
  },
  {
   "cell_type": "code",
   "execution_count": 50,
   "metadata": {
    "ExecuteTime": {
     "end_time": "2020-06-04T13:38:03.882046Z",
     "start_time": "2020-06-04T13:38:03.863046Z"
    }
   },
   "outputs": [
    {
     "name": "stdout",
     "output_type": "stream",
     "text": [
      "time: 16.4 ms\n"
     ]
    }
   ],
   "source": [
    "temp2.loc[temp2['country_code'] == 'NA', 'difference'] = None\n",
    "temp2.loc[temp2['country_code'] == 'TD', 'difference'] = None"
   ]
  },
  {
   "cell_type": "markdown",
   "metadata": {},
   "source": [
    "***"
   ]
  },
  {
   "cell_type": "markdown",
   "metadata": {},
   "source": [
    "###  <span style=\"color:#3282b8\"> 10. Which country has the highest ratio between the difference computed at the previous point and the population?"
   ]
  },
  {
   "cell_type": "markdown",
   "metadata": {},
   "source": [
    "Nel dataset `country_stats` si trovano informazioni riguardanti i vari paesi. Utilizziamo quindi il risultato del punto precedente, eliminando i NaN in quanto inutili per calcolare il `ratio`. \n",
    "\n",
    "(Un'altra scelta sarebbe stata quella di porre a 0 i valori come discusso nel punto precedente, ma sarebbe cambiato il risultato in questo caso)."
   ]
  },
  {
   "cell_type": "code",
   "execution_count": 51,
   "metadata": {
    "ExecuteTime": {
     "end_time": "2020-06-04T13:38:03.916044Z",
     "start_time": "2020-06-04T13:38:03.883046Z"
    }
   },
   "outputs": [
    {
     "data": {
      "text/html": [
       "<div>\n",
       "<style scoped>\n",
       "    .dataframe tbody tr th:only-of-type {\n",
       "        vertical-align: middle;\n",
       "    }\n",
       "\n",
       "    .dataframe tbody tr th {\n",
       "        vertical-align: top;\n",
       "    }\n",
       "\n",
       "    .dataframe thead th {\n",
       "        text-align: right;\n",
       "    }\n",
       "</style>\n",
       "<table border=\"1\" class=\"dataframe\">\n",
       "  <thead>\n",
       "    <tr style=\"text-align: right;\">\n",
       "      <th></th>\n",
       "      <th>country_code</th>\n",
       "      <th>difference</th>\n",
       "      <th>population</th>\n",
       "      <th>population_below_poverty_line</th>\n",
       "      <th>ratio</th>\n",
       "    </tr>\n",
       "  </thead>\n",
       "  <tbody>\n",
       "    <tr>\n",
       "      <th>0</th>\n",
       "      <td>AF</td>\n",
       "      <td>-1701546.2773</td>\n",
       "      <td>35530081.0000</td>\n",
       "      <td>35.8000</td>\n",
       "      <td>-0.0479</td>\n",
       "    </tr>\n",
       "    <tr>\n",
       "      <th>1</th>\n",
       "      <td>AL</td>\n",
       "      <td>-3673735.4333</td>\n",
       "      <td>2930187.0000</td>\n",
       "      <td>14.3000</td>\n",
       "      <td>-1.2538</td>\n",
       "    </tr>\n",
       "    <tr>\n",
       "      <th>2</th>\n",
       "      <td>AM</td>\n",
       "      <td>-17771972.0698</td>\n",
       "      <td>2930450.0000</td>\n",
       "      <td>32.0000</td>\n",
       "      <td>-6.0646</td>\n",
       "    </tr>\n",
       "    <tr>\n",
       "      <th>3</th>\n",
       "      <td>AZ</td>\n",
       "      <td>-13388377.9230</td>\n",
       "      <td>9827589.0000</td>\n",
       "      <td>4.9000</td>\n",
       "      <td>-1.3623</td>\n",
       "    </tr>\n",
       "    <tr>\n",
       "      <th>4</th>\n",
       "      <td>BA</td>\n",
       "      <td>-399116.1689</td>\n",
       "      <td>3507017.0000</td>\n",
       "      <td>17.2000</td>\n",
       "      <td>-0.1138</td>\n",
       "    </tr>\n",
       "    <tr>\n",
       "      <th>...</th>\n",
       "      <td>...</td>\n",
       "      <td>...</td>\n",
       "      <td>...</td>\n",
       "      <td>...</td>\n",
       "      <td>...</td>\n",
       "    </tr>\n",
       "    <tr>\n",
       "      <th>88</th>\n",
       "      <td>XK</td>\n",
       "      <td>-2595440.6194</td>\n",
       "      <td>1895250.0000</td>\n",
       "      <td>30.0000</td>\n",
       "      <td>-1.3694</td>\n",
       "    </tr>\n",
       "    <tr>\n",
       "      <th>89</th>\n",
       "      <td>YE</td>\n",
       "      <td>-2954850.6221</td>\n",
       "      <td>28250420.0000</td>\n",
       "      <td>54.0000</td>\n",
       "      <td>-0.1046</td>\n",
       "    </tr>\n",
       "    <tr>\n",
       "      <th>90</th>\n",
       "      <td>ZA</td>\n",
       "      <td>218146.5490</td>\n",
       "      <td>56717156.0000</td>\n",
       "      <td>16.6000</td>\n",
       "      <td>0.0038</td>\n",
       "    </tr>\n",
       "    <tr>\n",
       "      <th>91</th>\n",
       "      <td>ZM</td>\n",
       "      <td>-1787948.3309</td>\n",
       "      <td>17094130.0000</td>\n",
       "      <td>60.5000</td>\n",
       "      <td>-0.1046</td>\n",
       "    </tr>\n",
       "    <tr>\n",
       "      <th>92</th>\n",
       "      <td>ZW</td>\n",
       "      <td>-5765116.2218</td>\n",
       "      <td>16529904.0000</td>\n",
       "      <td>72.3000</td>\n",
       "      <td>-0.3488</td>\n",
       "    </tr>\n",
       "  </tbody>\n",
       "</table>\n",
       "<p>93 rows × 5 columns</p>\n",
       "</div>"
      ],
      "text/plain": [
       "   country_code     difference    population  population_below_poverty_line  \\\n",
       "0            AF  -1701546.2773 35530081.0000                        35.8000   \n",
       "1            AL  -3673735.4333  2930187.0000                        14.3000   \n",
       "2            AM -17771972.0698  2930450.0000                        32.0000   \n",
       "3            AZ -13388377.9230  9827589.0000                         4.9000   \n",
       "4            BA   -399116.1689  3507017.0000                        17.2000   \n",
       "..          ...            ...           ...                            ...   \n",
       "88           XK  -2595440.6194  1895250.0000                        30.0000   \n",
       "89           YE  -2954850.6221 28250420.0000                        54.0000   \n",
       "90           ZA    218146.5490 56717156.0000                        16.6000   \n",
       "91           ZM  -1787948.3309 17094130.0000                        60.5000   \n",
       "92           ZW  -5765116.2218 16529904.0000                        72.3000   \n",
       "\n",
       "     ratio  \n",
       "0  -0.0479  \n",
       "1  -1.2538  \n",
       "2  -6.0646  \n",
       "3  -1.3623  \n",
       "4  -0.1138  \n",
       "..     ...  \n",
       "88 -1.3694  \n",
       "89 -0.1046  \n",
       "90  0.0038  \n",
       "91 -0.1046  \n",
       "92 -0.3488  \n",
       "\n",
       "[93 rows x 5 columns]"
      ]
     },
     "execution_count": 51,
     "metadata": {},
     "output_type": "execute_result"
    },
    {
     "name": "stdout",
     "output_type": "stream",
     "text": [
      "time: 25.9 ms\n"
     ]
    }
   ],
   "source": [
    "temp2 = pd.merge(temp2[['country_code','difference']].dropna(), country_stats[['country_code','population','population_below_poverty_line']], how='left', on='country_code')\n",
    "temp2['ratio'] = temp2['difference']/temp2['population']\n",
    "temp2"
   ]
  },
  {
   "cell_type": "code",
   "execution_count": 52,
   "metadata": {
    "ExecuteTime": {
     "end_time": "2020-06-04T13:38:03.926044Z",
     "start_time": "2020-06-04T13:38:03.917044Z"
    }
   },
   "outputs": [
    {
     "data": {
      "text/html": [
       "<div>\n",
       "<style scoped>\n",
       "    .dataframe tbody tr th:only-of-type {\n",
       "        vertical-align: middle;\n",
       "    }\n",
       "\n",
       "    .dataframe tbody tr th {\n",
       "        vertical-align: top;\n",
       "    }\n",
       "\n",
       "    .dataframe thead th {\n",
       "        text-align: right;\n",
       "    }\n",
       "</style>\n",
       "<table border=\"1\" class=\"dataframe\">\n",
       "  <thead>\n",
       "    <tr style=\"text-align: right;\">\n",
       "      <th></th>\n",
       "      <th>country_code</th>\n",
       "      <th>difference</th>\n",
       "      <th>population</th>\n",
       "      <th>population_below_poverty_line</th>\n",
       "      <th>ratio</th>\n",
       "    </tr>\n",
       "  </thead>\n",
       "  <tbody>\n",
       "    <tr>\n",
       "      <th>29</th>\n",
       "      <td>GU</td>\n",
       "      <td>26899.4469</td>\n",
       "      <td>nan</td>\n",
       "      <td>nan</td>\n",
       "      <td>nan</td>\n",
       "    </tr>\n",
       "    <tr>\n",
       "      <th>30</th>\n",
       "      <td>GZ</td>\n",
       "      <td>7590.6770</td>\n",
       "      <td>nan</td>\n",
       "      <td>nan</td>\n",
       "      <td>nan</td>\n",
       "    </tr>\n",
       "    <tr>\n",
       "      <th>84</th>\n",
       "      <td>VC</td>\n",
       "      <td>-36602.5048</td>\n",
       "      <td>nan</td>\n",
       "      <td>nan</td>\n",
       "      <td>nan</td>\n",
       "    </tr>\n",
       "    <tr>\n",
       "      <th>86</th>\n",
       "      <td>VU</td>\n",
       "      <td>28167.6203</td>\n",
       "      <td>nan</td>\n",
       "      <td>nan</td>\n",
       "      <td>nan</td>\n",
       "    </tr>\n",
       "  </tbody>\n",
       "</table>\n",
       "</div>"
      ],
      "text/plain": [
       "   country_code  difference  population  population_below_poverty_line  ratio\n",
       "29           GU  26899.4469         nan                            nan    nan\n",
       "30           GZ   7590.6770         nan                            nan    nan\n",
       "84           VC -36602.5048         nan                            nan    nan\n",
       "86           VU  28167.6203         nan                            nan    nan"
      ]
     },
     "execution_count": 52,
     "metadata": {},
     "output_type": "execute_result"
    },
    {
     "name": "stdout",
     "output_type": "stream",
     "text": [
      "time: 13.5 ms\n"
     ]
    }
   ],
   "source": [
    "temp2[temp2.population.isna()]"
   ]
  },
  {
   "cell_type": "markdown",
   "metadata": {},
   "source": [
    "Come è possibile osservare, di 4 dei 95 paesi non è stato possibile calcolare `ratio` in quanto manca il dato riguardante la popolazione. Dal momento che sono pochi, è possibile inserirli manualmente:\n",
    "\n",
    "- <a href=https://en.wikipedia.org/wiki/Guam>GU</a> (Guam)\n",
    "- <a href=https://en.wikipedia.org/wiki/Gaza_Strip>GZ</a> (Gaza Strip)\n",
    "- <a href=https://en.wikipedia.org/wiki/Saint_Vincent_and_the_Grenadines>VC</a> (Saint Vincent)\n",
    "- <a href=https://en.wikipedia.org/wiki/Vanuatu>GU</a> (Vanuatu)"
   ]
  },
  {
   "cell_type": "code",
   "execution_count": 53,
   "metadata": {
    "ExecuteTime": {
     "end_time": "2020-06-04T13:38:03.944043Z",
     "start_time": "2020-06-04T13:38:03.927044Z"
    }
   },
   "outputs": [
    {
     "data": {
      "text/html": [
       "<div>\n",
       "<style scoped>\n",
       "    .dataframe tbody tr th:only-of-type {\n",
       "        vertical-align: middle;\n",
       "    }\n",
       "\n",
       "    .dataframe tbody tr th {\n",
       "        vertical-align: top;\n",
       "    }\n",
       "\n",
       "    .dataframe thead th {\n",
       "        text-align: right;\n",
       "    }\n",
       "</style>\n",
       "<table border=\"1\" class=\"dataframe\">\n",
       "  <thead>\n",
       "    <tr style=\"text-align: right;\">\n",
       "      <th></th>\n",
       "      <th>country_code</th>\n",
       "      <th>difference</th>\n",
       "      <th>population</th>\n",
       "      <th>population_below_poverty_line</th>\n",
       "      <th>ratio</th>\n",
       "    </tr>\n",
       "  </thead>\n",
       "  <tbody>\n",
       "    <tr>\n",
       "      <th>0</th>\n",
       "      <td>AF</td>\n",
       "      <td>-1701546.2773</td>\n",
       "      <td>35530081.0000</td>\n",
       "      <td>35.8000</td>\n",
       "      <td>-0.0479</td>\n",
       "    </tr>\n",
       "    <tr>\n",
       "      <th>1</th>\n",
       "      <td>AL</td>\n",
       "      <td>-3673735.4333</td>\n",
       "      <td>2930187.0000</td>\n",
       "      <td>14.3000</td>\n",
       "      <td>-1.2538</td>\n",
       "    </tr>\n",
       "    <tr>\n",
       "      <th>2</th>\n",
       "      <td>AM</td>\n",
       "      <td>-17771972.0698</td>\n",
       "      <td>2930450.0000</td>\n",
       "      <td>32.0000</td>\n",
       "      <td>-6.0646</td>\n",
       "    </tr>\n",
       "    <tr>\n",
       "      <th>3</th>\n",
       "      <td>AZ</td>\n",
       "      <td>-13388377.9230</td>\n",
       "      <td>9827589.0000</td>\n",
       "      <td>4.9000</td>\n",
       "      <td>-1.3623</td>\n",
       "    </tr>\n",
       "    <tr>\n",
       "      <th>4</th>\n",
       "      <td>BA</td>\n",
       "      <td>-399116.1689</td>\n",
       "      <td>3507017.0000</td>\n",
       "      <td>17.2000</td>\n",
       "      <td>-0.1138</td>\n",
       "    </tr>\n",
       "    <tr>\n",
       "      <th>...</th>\n",
       "      <td>...</td>\n",
       "      <td>...</td>\n",
       "      <td>...</td>\n",
       "      <td>...</td>\n",
       "      <td>...</td>\n",
       "    </tr>\n",
       "    <tr>\n",
       "      <th>89</th>\n",
       "      <td>YE</td>\n",
       "      <td>-2954850.6221</td>\n",
       "      <td>28250420.0000</td>\n",
       "      <td>54.0000</td>\n",
       "      <td>-0.1046</td>\n",
       "    </tr>\n",
       "    <tr>\n",
       "      <th>90</th>\n",
       "      <td>ZA</td>\n",
       "      <td>218146.5490</td>\n",
       "      <td>162742.0000</td>\n",
       "      <td>16.6000</td>\n",
       "      <td>1.3404</td>\n",
       "    </tr>\n",
       "    <tr>\n",
       "      <th>91</th>\n",
       "      <td>ZM</td>\n",
       "      <td>-1787948.3309</td>\n",
       "      <td>1850000.0000</td>\n",
       "      <td>60.5000</td>\n",
       "      <td>-0.9665</td>\n",
       "    </tr>\n",
       "    <tr>\n",
       "      <th>92</th>\n",
       "      <td>ZW</td>\n",
       "      <td>-5765116.2218</td>\n",
       "      <td>110211.0000</td>\n",
       "      <td>72.3000</td>\n",
       "      <td>-52.3098</td>\n",
       "    </tr>\n",
       "    <tr>\n",
       "      <th>93</th>\n",
       "      <td>NaN</td>\n",
       "      <td>nan</td>\n",
       "      <td>272459.0000</td>\n",
       "      <td>nan</td>\n",
       "      <td>nan</td>\n",
       "    </tr>\n",
       "  </tbody>\n",
       "</table>\n",
       "<p>94 rows × 5 columns</p>\n",
       "</div>"
      ],
      "text/plain": [
       "   country_code     difference    population  population_below_poverty_line  \\\n",
       "0            AF  -1701546.2773 35530081.0000                        35.8000   \n",
       "1            AL  -3673735.4333  2930187.0000                        14.3000   \n",
       "2            AM -17771972.0698  2930450.0000                        32.0000   \n",
       "3            AZ -13388377.9230  9827589.0000                         4.9000   \n",
       "4            BA   -399116.1689  3507017.0000                        17.2000   \n",
       "..          ...            ...           ...                            ...   \n",
       "89           YE  -2954850.6221 28250420.0000                        54.0000   \n",
       "90           ZA    218146.5490   162742.0000                        16.6000   \n",
       "91           ZM  -1787948.3309  1850000.0000                        60.5000   \n",
       "92           ZW  -5765116.2218   110211.0000                        72.3000   \n",
       "93          NaN            nan   272459.0000                            nan   \n",
       "\n",
       "      ratio  \n",
       "0   -0.0479  \n",
       "1   -1.2538  \n",
       "2   -6.0646  \n",
       "3   -1.3623  \n",
       "4   -0.1138  \n",
       "..      ...  \n",
       "89  -0.1046  \n",
       "90   1.3404  \n",
       "91  -0.9665  \n",
       "92 -52.3098  \n",
       "93      nan  \n",
       "\n",
       "[94 rows x 5 columns]"
      ]
     },
     "execution_count": 53,
     "metadata": {},
     "output_type": "execute_result"
    },
    {
     "name": "stdout",
     "output_type": "stream",
     "text": [
      "time: 16 ms\n"
     ]
    }
   ],
   "source": [
    "temp2.loc[90,'population'] = 162742\n",
    "temp2.loc[91,'population'] = 1850000\n",
    "temp2.loc[92,'population'] = 110211\n",
    "temp2.loc[93,'population'] = 272459\n",
    "temp2['ratio'] = temp2['difference']/temp2['population']\n",
    "temp2"
   ]
  },
  {
   "cell_type": "markdown",
   "metadata": {},
   "source": [
    "Se si considera il `ratio` con il segno, allora il paese con quello più alto è il Canada (CA). Se invece lo si considera in valore assoluto, la risposta è Samoa (WS)."
   ]
  },
  {
   "cell_type": "code",
   "execution_count": 54,
   "metadata": {
    "ExecuteTime": {
     "end_time": "2020-06-04T13:38:03.959043Z",
     "start_time": "2020-06-04T13:38:03.945044Z"
    }
   },
   "outputs": [
    {
     "data": {
      "text/html": [
       "<div>\n",
       "<style scoped>\n",
       "    .dataframe tbody tr th:only-of-type {\n",
       "        vertical-align: middle;\n",
       "    }\n",
       "\n",
       "    .dataframe tbody tr th {\n",
       "        vertical-align: top;\n",
       "    }\n",
       "\n",
       "    .dataframe thead th {\n",
       "        text-align: right;\n",
       "    }\n",
       "</style>\n",
       "<table border=\"1\" class=\"dataframe\">\n",
       "  <thead>\n",
       "    <tr style=\"text-align: right;\">\n",
       "      <th></th>\n",
       "      <th>country_code</th>\n",
       "      <th>difference</th>\n",
       "      <th>population</th>\n",
       "      <th>population_below_poverty_line</th>\n",
       "      <th>ratio</th>\n",
       "    </tr>\n",
       "  </thead>\n",
       "  <tbody>\n",
       "    <tr>\n",
       "      <th>14</th>\n",
       "      <td>CA</td>\n",
       "      <td>81897109.0366</td>\n",
       "      <td>36624199.0000</td>\n",
       "      <td>9.4000</td>\n",
       "      <td>2.2361</td>\n",
       "    </tr>\n",
       "    <tr>\n",
       "      <th>82</th>\n",
       "      <td>US</td>\n",
       "      <td>678219500.7544</td>\n",
       "      <td>324459463.0000</td>\n",
       "      <td>15.1000</td>\n",
       "      <td>2.0903</td>\n",
       "    </tr>\n",
       "    <tr>\n",
       "      <th>90</th>\n",
       "      <td>ZA</td>\n",
       "      <td>218146.5490</td>\n",
       "      <td>162742.0000</td>\n",
       "      <td>16.6000</td>\n",
       "      <td>1.3404</td>\n",
       "    </tr>\n",
       "    <tr>\n",
       "      <th>41</th>\n",
       "      <td>LA</td>\n",
       "      <td>1663047.3451</td>\n",
       "      <td>6858160.0000</td>\n",
       "      <td>22.0000</td>\n",
       "      <td>0.2425</td>\n",
       "    </tr>\n",
       "    <tr>\n",
       "      <th>6</th>\n",
       "      <td>BG</td>\n",
       "      <td>245748.9524</td>\n",
       "      <td>7084571.0000</td>\n",
       "      <td>22.0000</td>\n",
       "      <td>0.0347</td>\n",
       "    </tr>\n",
       "  </tbody>\n",
       "</table>\n",
       "</div>"
      ],
      "text/plain": [
       "   country_code     difference     population  population_below_poverty_line  \\\n",
       "14           CA  81897109.0366  36624199.0000                         9.4000   \n",
       "82           US 678219500.7544 324459463.0000                        15.1000   \n",
       "90           ZA    218146.5490    162742.0000                        16.6000   \n",
       "41           LA   1663047.3451   6858160.0000                        22.0000   \n",
       "6            BG    245748.9524   7084571.0000                        22.0000   \n",
       "\n",
       "    ratio  \n",
       "14 2.2361  \n",
       "82 2.0903  \n",
       "90 1.3404  \n",
       "41 0.2425  \n",
       "6  0.0347  "
      ]
     },
     "execution_count": 54,
     "metadata": {},
     "output_type": "execute_result"
    },
    {
     "name": "stdout",
     "output_type": "stream",
     "text": [
      "time: 15 ms\n"
     ]
    }
   ],
   "source": [
    "temp2.dropna(subset=['ratio']).sort_values(\"ratio\", ascending=False).head()"
   ]
  },
  {
   "cell_type": "code",
   "execution_count": 55,
   "metadata": {
    "ExecuteTime": {
     "end_time": "2020-06-04T13:38:03.979043Z",
     "start_time": "2020-06-04T13:38:03.960043Z"
    }
   },
   "outputs": [
    {
     "data": {
      "text/html": [
       "<div>\n",
       "<style scoped>\n",
       "    .dataframe tbody tr th:only-of-type {\n",
       "        vertical-align: middle;\n",
       "    }\n",
       "\n",
       "    .dataframe tbody tr th {\n",
       "        vertical-align: top;\n",
       "    }\n",
       "\n",
       "    .dataframe thead th {\n",
       "        text-align: right;\n",
       "    }\n",
       "</style>\n",
       "<table border=\"1\" class=\"dataframe\">\n",
       "  <thead>\n",
       "    <tr style=\"text-align: right;\">\n",
       "      <th></th>\n",
       "      <th>country_code</th>\n",
       "      <th>difference</th>\n",
       "      <th>population</th>\n",
       "      <th>population_below_poverty_line</th>\n",
       "      <th>ratio</th>\n",
       "    </tr>\n",
       "  </thead>\n",
       "  <tbody>\n",
       "    <tr>\n",
       "      <th>87</th>\n",
       "      <td>WS</td>\n",
       "      <td>-11015834.3230</td>\n",
       "      <td>196440.0000</td>\n",
       "      <td>nan</td>\n",
       "      <td>-56.0773</td>\n",
       "    </tr>\n",
       "    <tr>\n",
       "      <th>92</th>\n",
       "      <td>ZW</td>\n",
       "      <td>-5765116.2218</td>\n",
       "      <td>110211.0000</td>\n",
       "      <td>72.3000</td>\n",
       "      <td>-52.3098</td>\n",
       "    </tr>\n",
       "    <tr>\n",
       "      <th>65</th>\n",
       "      <td>PY</td>\n",
       "      <td>-53404341.8661</td>\n",
       "      <td>6811297.0000</td>\n",
       "      <td>22.2000</td>\n",
       "      <td>-7.8406</td>\n",
       "    </tr>\n",
       "    <tr>\n",
       "      <th>2</th>\n",
       "      <td>AM</td>\n",
       "      <td>-17771972.0698</td>\n",
       "      <td>2930450.0000</td>\n",
       "      <td>32.0000</td>\n",
       "      <td>-6.0646</td>\n",
       "    </tr>\n",
       "    <tr>\n",
       "      <th>73</th>\n",
       "      <td>SV</td>\n",
       "      <td>-34147299.2752</td>\n",
       "      <td>6377853.0000</td>\n",
       "      <td>34.9000</td>\n",
       "      <td>-5.3540</td>\n",
       "    </tr>\n",
       "  </tbody>\n",
       "</table>\n",
       "</div>"
      ],
      "text/plain": [
       "   country_code     difference   population  population_below_poverty_line  \\\n",
       "87           WS -11015834.3230  196440.0000                            nan   \n",
       "92           ZW  -5765116.2218  110211.0000                        72.3000   \n",
       "65           PY -53404341.8661 6811297.0000                        22.2000   \n",
       "2            AM -17771972.0698 2930450.0000                        32.0000   \n",
       "73           SV -34147299.2752 6377853.0000                        34.9000   \n",
       "\n",
       "      ratio  \n",
       "87 -56.0773  \n",
       "92 -52.3098  \n",
       "65  -7.8406  \n",
       "2   -6.0646  \n",
       "73  -5.3540  "
      ]
     },
     "execution_count": 55,
     "metadata": {},
     "output_type": "execute_result"
    },
    {
     "name": "stdout",
     "output_type": "stream",
     "text": [
      "time: 14.2 ms\n"
     ]
    }
   ],
   "source": [
    "temp2.dropna(subset=['ratio']).sort_values(\"ratio\", ascending=True).head()"
   ]
  },
  {
   "cell_type": "markdown",
   "metadata": {},
   "source": [
    "***"
   ]
  },
  {
   "cell_type": "markdown",
   "metadata": {},
   "source": [
    "###  <span style=\"color:#3282b8\"> 11. Which country has the highest ratio between the difference computed at point 9 and the population that is not below the poverty line?"
   ]
  },
  {
   "cell_type": "markdown",
   "metadata": {},
   "source": [
    "La colonna `population_below_poverty_line` esprime la percentuale della popolazione che è sotto la soglia di povertà. Dal momento che il quesito richiede quella che non è sotto la soglia, si considera la percentuale complementare:\n",
    "\n",
    "$\\text{ratio} = \\frac{\\text{diff}}{\\frac{(100-\\text{pop_below})}{100}\\text{pop}} $"
   ]
  },
  {
   "cell_type": "code",
   "execution_count": 56,
   "metadata": {
    "ExecuteTime": {
     "end_time": "2020-06-04T13:38:04.000042Z",
     "start_time": "2020-06-04T13:38:03.980042Z"
    }
   },
   "outputs": [
    {
     "data": {
      "text/html": [
       "<div>\n",
       "<style scoped>\n",
       "    .dataframe tbody tr th:only-of-type {\n",
       "        vertical-align: middle;\n",
       "    }\n",
       "\n",
       "    .dataframe tbody tr th {\n",
       "        vertical-align: top;\n",
       "    }\n",
       "\n",
       "    .dataframe thead th {\n",
       "        text-align: right;\n",
       "    }\n",
       "</style>\n",
       "<table border=\"1\" class=\"dataframe\">\n",
       "  <thead>\n",
       "    <tr style=\"text-align: right;\">\n",
       "      <th></th>\n",
       "      <th>country_code</th>\n",
       "      <th>difference</th>\n",
       "      <th>population</th>\n",
       "      <th>population_below_poverty_line</th>\n",
       "      <th>ratio</th>\n",
       "      <th>ratio_not_poverty</th>\n",
       "    </tr>\n",
       "  </thead>\n",
       "  <tbody>\n",
       "    <tr>\n",
       "      <th>0</th>\n",
       "      <td>AF</td>\n",
       "      <td>-1701546.2773</td>\n",
       "      <td>35530081.0000</td>\n",
       "      <td>35.8000</td>\n",
       "      <td>-0.0479</td>\n",
       "      <td>-0.0746</td>\n",
       "    </tr>\n",
       "    <tr>\n",
       "      <th>1</th>\n",
       "      <td>AL</td>\n",
       "      <td>-3673735.4333</td>\n",
       "      <td>2930187.0000</td>\n",
       "      <td>14.3000</td>\n",
       "      <td>-1.2538</td>\n",
       "      <td>-1.4630</td>\n",
       "    </tr>\n",
       "    <tr>\n",
       "      <th>2</th>\n",
       "      <td>AM</td>\n",
       "      <td>-17771972.0698</td>\n",
       "      <td>2930450.0000</td>\n",
       "      <td>32.0000</td>\n",
       "      <td>-6.0646</td>\n",
       "      <td>-8.9185</td>\n",
       "    </tr>\n",
       "    <tr>\n",
       "      <th>3</th>\n",
       "      <td>AZ</td>\n",
       "      <td>-13388377.9230</td>\n",
       "      <td>9827589.0000</td>\n",
       "      <td>4.9000</td>\n",
       "      <td>-1.3623</td>\n",
       "      <td>-1.4325</td>\n",
       "    </tr>\n",
       "    <tr>\n",
       "      <th>4</th>\n",
       "      <td>BA</td>\n",
       "      <td>-399116.1689</td>\n",
       "      <td>3507017.0000</td>\n",
       "      <td>17.2000</td>\n",
       "      <td>-0.1138</td>\n",
       "      <td>-0.1374</td>\n",
       "    </tr>\n",
       "    <tr>\n",
       "      <th>...</th>\n",
       "      <td>...</td>\n",
       "      <td>...</td>\n",
       "      <td>...</td>\n",
       "      <td>...</td>\n",
       "      <td>...</td>\n",
       "      <td>...</td>\n",
       "    </tr>\n",
       "    <tr>\n",
       "      <th>89</th>\n",
       "      <td>YE</td>\n",
       "      <td>-2954850.6221</td>\n",
       "      <td>28250420.0000</td>\n",
       "      <td>54.0000</td>\n",
       "      <td>-0.1046</td>\n",
       "      <td>-0.2274</td>\n",
       "    </tr>\n",
       "    <tr>\n",
       "      <th>90</th>\n",
       "      <td>ZA</td>\n",
       "      <td>218146.5490</td>\n",
       "      <td>162742.0000</td>\n",
       "      <td>16.6000</td>\n",
       "      <td>1.3404</td>\n",
       "      <td>1.6072</td>\n",
       "    </tr>\n",
       "    <tr>\n",
       "      <th>91</th>\n",
       "      <td>ZM</td>\n",
       "      <td>-1787948.3309</td>\n",
       "      <td>1850000.0000</td>\n",
       "      <td>60.5000</td>\n",
       "      <td>-0.9665</td>\n",
       "      <td>-2.4467</td>\n",
       "    </tr>\n",
       "    <tr>\n",
       "      <th>92</th>\n",
       "      <td>ZW</td>\n",
       "      <td>-5765116.2218</td>\n",
       "      <td>110211.0000</td>\n",
       "      <td>72.3000</td>\n",
       "      <td>-52.3098</td>\n",
       "      <td>-188.8441</td>\n",
       "    </tr>\n",
       "    <tr>\n",
       "      <th>93</th>\n",
       "      <td>NaN</td>\n",
       "      <td>nan</td>\n",
       "      <td>272459.0000</td>\n",
       "      <td>nan</td>\n",
       "      <td>nan</td>\n",
       "      <td>nan</td>\n",
       "    </tr>\n",
       "  </tbody>\n",
       "</table>\n",
       "<p>94 rows × 6 columns</p>\n",
       "</div>"
      ],
      "text/plain": [
       "   country_code     difference    population  population_below_poverty_line  \\\n",
       "0            AF  -1701546.2773 35530081.0000                        35.8000   \n",
       "1            AL  -3673735.4333  2930187.0000                        14.3000   \n",
       "2            AM -17771972.0698  2930450.0000                        32.0000   \n",
       "3            AZ -13388377.9230  9827589.0000                         4.9000   \n",
       "4            BA   -399116.1689  3507017.0000                        17.2000   \n",
       "..          ...            ...           ...                            ...   \n",
       "89           YE  -2954850.6221 28250420.0000                        54.0000   \n",
       "90           ZA    218146.5490   162742.0000                        16.6000   \n",
       "91           ZM  -1787948.3309  1850000.0000                        60.5000   \n",
       "92           ZW  -5765116.2218   110211.0000                        72.3000   \n",
       "93          NaN            nan   272459.0000                            nan   \n",
       "\n",
       "      ratio  ratio_not_poverty  \n",
       "0   -0.0479            -0.0746  \n",
       "1   -1.2538            -1.4630  \n",
       "2   -6.0646            -8.9185  \n",
       "3   -1.3623            -1.4325  \n",
       "4   -0.1138            -0.1374  \n",
       "..      ...                ...  \n",
       "89  -0.1046            -0.2274  \n",
       "90   1.3404             1.6072  \n",
       "91  -0.9665            -2.4467  \n",
       "92 -52.3098          -188.8441  \n",
       "93      nan                nan  \n",
       "\n",
       "[94 rows x 6 columns]"
      ]
     },
     "execution_count": 56,
     "metadata": {},
     "output_type": "execute_result"
    },
    {
     "name": "stdout",
     "output_type": "stream",
     "text": [
      "time: 19.5 ms\n"
     ]
    }
   ],
   "source": [
    "temp2['ratio_not_poverty'] = 100*temp2['difference']/((100-temp2['population_below_poverty_line'])*temp2['population'])\n",
    "temp2"
   ]
  },
  {
   "cell_type": "markdown",
   "metadata": {
    "ExecuteTime": {
     "end_time": "2020-06-02T19:05:34.417775Z",
     "start_time": "2020-06-02T19:05:34.413785Z"
    }
   },
   "source": [
    "Se si considera il `ratio_not_poverty` con il segno, allora il paese con quello più alto è il Canada (CA). Se invece lo si considera in valore assoluto, la risposta è lo Zimbabwe (ZW)."
   ]
  },
  {
   "cell_type": "code",
   "execution_count": 57,
   "metadata": {
    "ExecuteTime": {
     "end_time": "2020-06-04T13:38:04.016042Z",
     "start_time": "2020-06-04T13:38:04.001042Z"
    }
   },
   "outputs": [
    {
     "data": {
      "text/html": [
       "<div>\n",
       "<style scoped>\n",
       "    .dataframe tbody tr th:only-of-type {\n",
       "        vertical-align: middle;\n",
       "    }\n",
       "\n",
       "    .dataframe tbody tr th {\n",
       "        vertical-align: top;\n",
       "    }\n",
       "\n",
       "    .dataframe thead th {\n",
       "        text-align: right;\n",
       "    }\n",
       "</style>\n",
       "<table border=\"1\" class=\"dataframe\">\n",
       "  <thead>\n",
       "    <tr style=\"text-align: right;\">\n",
       "      <th></th>\n",
       "      <th>country_code</th>\n",
       "      <th>difference</th>\n",
       "      <th>population</th>\n",
       "      <th>population_below_poverty_line</th>\n",
       "      <th>ratio</th>\n",
       "      <th>ratio_not_poverty</th>\n",
       "    </tr>\n",
       "  </thead>\n",
       "  <tbody>\n",
       "    <tr>\n",
       "      <th>14</th>\n",
       "      <td>CA</td>\n",
       "      <td>81897109.0366</td>\n",
       "      <td>36624199.0000</td>\n",
       "      <td>9.4000</td>\n",
       "      <td>2.2361</td>\n",
       "      <td>2.4682</td>\n",
       "    </tr>\n",
       "    <tr>\n",
       "      <th>82</th>\n",
       "      <td>US</td>\n",
       "      <td>678219500.7544</td>\n",
       "      <td>324459463.0000</td>\n",
       "      <td>15.1000</td>\n",
       "      <td>2.0903</td>\n",
       "      <td>2.4621</td>\n",
       "    </tr>\n",
       "    <tr>\n",
       "      <th>90</th>\n",
       "      <td>ZA</td>\n",
       "      <td>218146.5490</td>\n",
       "      <td>162742.0000</td>\n",
       "      <td>16.6000</td>\n",
       "      <td>1.3404</td>\n",
       "      <td>1.6072</td>\n",
       "    </tr>\n",
       "    <tr>\n",
       "      <th>41</th>\n",
       "      <td>LA</td>\n",
       "      <td>1663047.3451</td>\n",
       "      <td>6858160.0000</td>\n",
       "      <td>22.0000</td>\n",
       "      <td>0.2425</td>\n",
       "      <td>0.3109</td>\n",
       "    </tr>\n",
       "    <tr>\n",
       "      <th>6</th>\n",
       "      <td>BG</td>\n",
       "      <td>245748.9524</td>\n",
       "      <td>7084571.0000</td>\n",
       "      <td>22.0000</td>\n",
       "      <td>0.0347</td>\n",
       "      <td>0.0445</td>\n",
       "    </tr>\n",
       "  </tbody>\n",
       "</table>\n",
       "</div>"
      ],
      "text/plain": [
       "   country_code     difference     population  population_below_poverty_line  \\\n",
       "14           CA  81897109.0366  36624199.0000                         9.4000   \n",
       "82           US 678219500.7544 324459463.0000                        15.1000   \n",
       "90           ZA    218146.5490    162742.0000                        16.6000   \n",
       "41           LA   1663047.3451   6858160.0000                        22.0000   \n",
       "6            BG    245748.9524   7084571.0000                        22.0000   \n",
       "\n",
       "    ratio  ratio_not_poverty  \n",
       "14 2.2361             2.4682  \n",
       "82 2.0903             2.4621  \n",
       "90 1.3404             1.6072  \n",
       "41 0.2425             0.3109  \n",
       "6  0.0347             0.0445  "
      ]
     },
     "execution_count": 57,
     "metadata": {},
     "output_type": "execute_result"
    },
    {
     "name": "stdout",
     "output_type": "stream",
     "text": [
      "time: 13.3 ms\n"
     ]
    }
   ],
   "source": [
    "temp2.dropna(subset=['ratio_not_poverty']).sort_values(\"ratio_not_poverty\", ascending=False).head()"
   ]
  },
  {
   "cell_type": "code",
   "execution_count": 58,
   "metadata": {
    "ExecuteTime": {
     "end_time": "2020-06-04T13:38:04.028041Z",
     "start_time": "2020-06-04T13:38:04.017042Z"
    }
   },
   "outputs": [
    {
     "data": {
      "text/html": [
       "<div>\n",
       "<style scoped>\n",
       "    .dataframe tbody tr th:only-of-type {\n",
       "        vertical-align: middle;\n",
       "    }\n",
       "\n",
       "    .dataframe tbody tr th {\n",
       "        vertical-align: top;\n",
       "    }\n",
       "\n",
       "    .dataframe thead th {\n",
       "        text-align: right;\n",
       "    }\n",
       "</style>\n",
       "<table border=\"1\" class=\"dataframe\">\n",
       "  <thead>\n",
       "    <tr style=\"text-align: right;\">\n",
       "      <th></th>\n",
       "      <th>country_code</th>\n",
       "      <th>difference</th>\n",
       "      <th>population</th>\n",
       "      <th>population_below_poverty_line</th>\n",
       "      <th>ratio</th>\n",
       "      <th>ratio_not_poverty</th>\n",
       "    </tr>\n",
       "  </thead>\n",
       "  <tbody>\n",
       "    <tr>\n",
       "      <th>92</th>\n",
       "      <td>ZW</td>\n",
       "      <td>-5765116.2218</td>\n",
       "      <td>110211.0000</td>\n",
       "      <td>72.3000</td>\n",
       "      <td>-52.3098</td>\n",
       "      <td>-188.8441</td>\n",
       "    </tr>\n",
       "    <tr>\n",
       "      <th>65</th>\n",
       "      <td>PY</td>\n",
       "      <td>-53404341.8661</td>\n",
       "      <td>6811297.0000</td>\n",
       "      <td>22.2000</td>\n",
       "      <td>-7.8406</td>\n",
       "      <td>-10.0778</td>\n",
       "    </tr>\n",
       "    <tr>\n",
       "      <th>2</th>\n",
       "      <td>AM</td>\n",
       "      <td>-17771972.0698</td>\n",
       "      <td>2930450.0000</td>\n",
       "      <td>32.0000</td>\n",
       "      <td>-6.0646</td>\n",
       "      <td>-8.9185</td>\n",
       "    </tr>\n",
       "    <tr>\n",
       "      <th>73</th>\n",
       "      <td>SV</td>\n",
       "      <td>-34147299.2752</td>\n",
       "      <td>6377853.0000</td>\n",
       "      <td>34.9000</td>\n",
       "      <td>-5.3540</td>\n",
       "      <td>-8.2243</td>\n",
       "    </tr>\n",
       "    <tr>\n",
       "      <th>56</th>\n",
       "      <td>NI</td>\n",
       "      <td>-27620847.0565</td>\n",
       "      <td>6217581.0000</td>\n",
       "      <td>29.6000</td>\n",
       "      <td>-4.4424</td>\n",
       "      <td>-6.3102</td>\n",
       "    </tr>\n",
       "  </tbody>\n",
       "</table>\n",
       "</div>"
      ],
      "text/plain": [
       "   country_code     difference   population  population_below_poverty_line  \\\n",
       "92           ZW  -5765116.2218  110211.0000                        72.3000   \n",
       "65           PY -53404341.8661 6811297.0000                        22.2000   \n",
       "2            AM -17771972.0698 2930450.0000                        32.0000   \n",
       "73           SV -34147299.2752 6377853.0000                        34.9000   \n",
       "56           NI -27620847.0565 6217581.0000                        29.6000   \n",
       "\n",
       "      ratio  ratio_not_poverty  \n",
       "92 -52.3098          -188.8441  \n",
       "65  -7.8406           -10.0778  \n",
       "2   -6.0646            -8.9185  \n",
       "73  -5.3540            -8.2243  \n",
       "56  -4.4424            -6.3102  "
      ]
     },
     "execution_count": 58,
     "metadata": {},
     "output_type": "execute_result"
    },
    {
     "name": "stdout",
     "output_type": "stream",
     "text": [
      "time: 15.5 ms\n"
     ]
    }
   ],
   "source": [
    "temp2.dropna(subset=['ratio_not_poverty']).sort_values(\"ratio_not_poverty\", ascending=True).head()"
   ]
  },
  {
   "cell_type": "markdown",
   "metadata": {},
   "source": [
    "***"
   ]
  },
  {
   "cell_type": "markdown",
   "metadata": {},
   "source": [
    "###  <span style=\"color:#3282b8\">12. For each year, compute the total amount of loans. Each loan that has planned expiration time and disburse time in different years must have its amount distributed proportionally to the number of days in each year. \n"
   ]
  },
  {
   "cell_type": "markdown",
   "metadata": {},
   "source": [
    "####  <span style=\"color:#0f4c75\"> For example, a loan with disburse time December 1st, 2016, planned expiration time January 30th 2018, and amount 5000USD has an amount of 5000USD * 31 / (31+365+30) = 363.85 for 2016, 5000USD * 365 / (31+365+30) = 4284.04 for 2017, and 5000USD * 30 / (31+365+30) = 352.11 for 2018."
   ]
  },
  {
   "cell_type": "markdown",
   "metadata": {},
   "source": [
    "Come è possibile osservare nell'esempio, per rispondere al quesito è necessario che `disburse_time` sia precedente al `planned_expiration_time`, ossia che `duration` sia < 0. Inoltre non deve essere NaN:"
   ]
  },
  {
   "cell_type": "code",
   "execution_count": 59,
   "metadata": {
    "ExecuteTime": {
     "end_time": "2020-06-04T13:38:07.726747Z",
     "start_time": "2020-06-04T13:38:04.029041Z"
    }
   },
   "outputs": [
    {
     "data": {
      "text/html": [
       "<div>\n",
       "<style scoped>\n",
       "    .dataframe tbody tr th:only-of-type {\n",
       "        vertical-align: middle;\n",
       "    }\n",
       "\n",
       "    .dataframe tbody tr th {\n",
       "        vertical-align: top;\n",
       "    }\n",
       "\n",
       "    .dataframe thead th {\n",
       "        text-align: right;\n",
       "    }\n",
       "</style>\n",
       "<table border=\"1\" class=\"dataframe\">\n",
       "  <thead>\n",
       "    <tr style=\"text-align: right;\">\n",
       "      <th></th>\n",
       "      <th>loan_amount</th>\n",
       "      <th>disburse_time</th>\n",
       "      <th>planned_expiration_time</th>\n",
       "      <th>disburse_year</th>\n",
       "      <th>planned_expiration_year</th>\n",
       "    </tr>\n",
       "  </thead>\n",
       "  <tbody>\n",
       "    <tr>\n",
       "      <th>0</th>\n",
       "      <td>125.0000</td>\n",
       "      <td>2013-12-22 08:00:00+00:00</td>\n",
       "      <td>2014-02-14 03:30:06+00:00</td>\n",
       "      <td>2013</td>\n",
       "      <td>2014</td>\n",
       "    </tr>\n",
       "    <tr>\n",
       "      <th>1</th>\n",
       "      <td>400.0000</td>\n",
       "      <td>2013-12-20 08:00:00+00:00</td>\n",
       "      <td>2014-03-26 22:25:07+00:00</td>\n",
       "      <td>2013</td>\n",
       "      <td>2014</td>\n",
       "    </tr>\n",
       "    <tr>\n",
       "      <th>2</th>\n",
       "      <td>400.0000</td>\n",
       "      <td>2014-01-09 08:00:00+00:00</td>\n",
       "      <td>2014-02-15 21:10:05+00:00</td>\n",
       "      <td>2014</td>\n",
       "      <td>2014</td>\n",
       "    </tr>\n",
       "    <tr>\n",
       "      <th>3</th>\n",
       "      <td>625.0000</td>\n",
       "      <td>2014-01-17 08:00:00+00:00</td>\n",
       "      <td>2014-02-21 03:10:02+00:00</td>\n",
       "      <td>2014</td>\n",
       "      <td>2014</td>\n",
       "    </tr>\n",
       "    <tr>\n",
       "      <th>4</th>\n",
       "      <td>425.0000</td>\n",
       "      <td>2013-12-17 08:00:00+00:00</td>\n",
       "      <td>2014-02-13 06:10:02+00:00</td>\n",
       "      <td>2013</td>\n",
       "      <td>2014</td>\n",
       "    </tr>\n",
       "  </tbody>\n",
       "</table>\n",
       "</div>"
      ],
      "text/plain": [
       "   loan_amount             disburse_time   planned_expiration_time  \\\n",
       "0     125.0000 2013-12-22 08:00:00+00:00 2014-02-14 03:30:06+00:00   \n",
       "1     400.0000 2013-12-20 08:00:00+00:00 2014-03-26 22:25:07+00:00   \n",
       "2     400.0000 2014-01-09 08:00:00+00:00 2014-02-15 21:10:05+00:00   \n",
       "3     625.0000 2014-01-17 08:00:00+00:00 2014-02-21 03:10:02+00:00   \n",
       "4     425.0000 2013-12-17 08:00:00+00:00 2014-02-13 06:10:02+00:00   \n",
       "\n",
       "   disburse_year  planned_expiration_year  \n",
       "0           2013                     2014  \n",
       "1           2013                     2014  \n",
       "2           2014                     2014  \n",
       "3           2014                     2014  \n",
       "4           2013                     2014  "
      ]
     },
     "execution_count": 59,
     "metadata": {},
     "output_type": "execute_result"
    },
    {
     "name": "stdout",
     "output_type": "stream",
     "text": [
      "time: 9.77 s\n"
     ]
    }
   ],
   "source": [
    "loans_reduced = loans[loans['duration'] < 0][['loan_amount','disburse_time','planned_expiration_time']].reset_index(drop=1)\n",
    "loans_reduced[['planned_expiration_time','disburse_time']] = loans_reduced[['planned_expiration_time','disburse_time']].apply(pd.to_datetime)\n",
    "loans_reduced['disburse_year'] = loans_reduced['disburse_time'].dt.year\n",
    "loans_reduced['planned_expiration_year'] = loans_reduced['planned_expiration_time'].dt.year\n",
    "loans_reduced.head()"
   ]
  },
  {
   "cell_type": "markdown",
   "metadata": {},
   "source": [
    "Bisogna però prestare attenzione alla colonna `duration` del dataframe `loans`. Questa infatti deve essere ricalcolata poiché intesa in modo diverso nel punto 2 rispetto a come riportato nell'esempio del punto 12.\n",
    "\n",
    "Se si considerano infatti le date 01/12/2016 (`disburse_time`) e 30/01/2018 (`planned_expiration_time`), i giorni che intercorrono sono 31+365+30=426, come riportato sopra.\n",
    "\n",
    "Se si facesse una semplice differenza con `pd.to_datetime`, questo sarebbe il risultato:"
   ]
  },
  {
   "cell_type": "code",
   "execution_count": 60,
   "metadata": {
    "ExecuteTime": {
     "end_time": "2020-06-04T13:38:07.735747Z",
     "start_time": "2020-06-04T13:38:07.728747Z"
    }
   },
   "outputs": [
    {
     "data": {
      "text/plain": [
       "Timedelta('425 days 00:00:00')"
      ]
     },
     "execution_count": 60,
     "metadata": {},
     "output_type": "execute_result"
    },
    {
     "name": "stdout",
     "output_type": "stream",
     "text": [
      "time: 12 ms\n"
     ]
    }
   ],
   "source": [
    "pd.to_datetime('2018-01-30')-pd.to_datetime('2016-12-01')"
   ]
  },
  {
   "cell_type": "markdown",
   "metadata": {},
   "source": [
    "Per risolvere il problema verrà si incrementerà semplicemente di 1 `duration`. \n",
    "\n",
    "Si calcola quindi `duration` come spiegato precedentemente, considerando solo le date e non le informazioni riguardanti le ore:"
   ]
  },
  {
   "cell_type": "code",
   "execution_count": 61,
   "metadata": {
    "ExecuteTime": {
     "end_time": "2020-06-04T13:38:11.718683Z",
     "start_time": "2020-06-04T13:38:07.736754Z"
    }
   },
   "outputs": [
    {
     "name": "stdout",
     "output_type": "stream",
     "text": [
      "time: 6.44 s\n"
     ]
    }
   ],
   "source": [
    "loans_reduced['duration'] = (loans_reduced['planned_expiration_time'].dt.date- loans_reduced['disburse_time'].dt.date).dt.days + 1"
   ]
  },
  {
   "cell_type": "code",
   "execution_count": 62,
   "metadata": {
    "ExecuteTime": {
     "end_time": "2020-06-04T13:38:11.729688Z",
     "start_time": "2020-06-04T13:38:11.719683Z"
    }
   },
   "outputs": [
    {
     "data": {
      "text/html": [
       "<div>\n",
       "<style scoped>\n",
       "    .dataframe tbody tr th:only-of-type {\n",
       "        vertical-align: middle;\n",
       "    }\n",
       "\n",
       "    .dataframe tbody tr th {\n",
       "        vertical-align: top;\n",
       "    }\n",
       "\n",
       "    .dataframe thead th {\n",
       "        text-align: right;\n",
       "    }\n",
       "</style>\n",
       "<table border=\"1\" class=\"dataframe\">\n",
       "  <thead>\n",
       "    <tr style=\"text-align: right;\">\n",
       "      <th></th>\n",
       "      <th>loan_amount</th>\n",
       "      <th>disburse_time</th>\n",
       "      <th>planned_expiration_time</th>\n",
       "      <th>disburse_year</th>\n",
       "      <th>planned_expiration_year</th>\n",
       "      <th>duration</th>\n",
       "    </tr>\n",
       "  </thead>\n",
       "  <tbody>\n",
       "    <tr>\n",
       "      <th>0</th>\n",
       "      <td>125.0000</td>\n",
       "      <td>2013-12-22 08:00:00+00:00</td>\n",
       "      <td>2014-02-14 03:30:06+00:00</td>\n",
       "      <td>2013</td>\n",
       "      <td>2014</td>\n",
       "      <td>55</td>\n",
       "    </tr>\n",
       "    <tr>\n",
       "      <th>1</th>\n",
       "      <td>400.0000</td>\n",
       "      <td>2013-12-20 08:00:00+00:00</td>\n",
       "      <td>2014-03-26 22:25:07+00:00</td>\n",
       "      <td>2013</td>\n",
       "      <td>2014</td>\n",
       "      <td>97</td>\n",
       "    </tr>\n",
       "    <tr>\n",
       "      <th>2</th>\n",
       "      <td>400.0000</td>\n",
       "      <td>2014-01-09 08:00:00+00:00</td>\n",
       "      <td>2014-02-15 21:10:05+00:00</td>\n",
       "      <td>2014</td>\n",
       "      <td>2014</td>\n",
       "      <td>38</td>\n",
       "    </tr>\n",
       "    <tr>\n",
       "      <th>3</th>\n",
       "      <td>625.0000</td>\n",
       "      <td>2014-01-17 08:00:00+00:00</td>\n",
       "      <td>2014-02-21 03:10:02+00:00</td>\n",
       "      <td>2014</td>\n",
       "      <td>2014</td>\n",
       "      <td>36</td>\n",
       "    </tr>\n",
       "    <tr>\n",
       "      <th>4</th>\n",
       "      <td>425.0000</td>\n",
       "      <td>2013-12-17 08:00:00+00:00</td>\n",
       "      <td>2014-02-13 06:10:02+00:00</td>\n",
       "      <td>2013</td>\n",
       "      <td>2014</td>\n",
       "      <td>59</td>\n",
       "    </tr>\n",
       "  </tbody>\n",
       "</table>\n",
       "</div>"
      ],
      "text/plain": [
       "   loan_amount             disburse_time   planned_expiration_time  \\\n",
       "0     125.0000 2013-12-22 08:00:00+00:00 2014-02-14 03:30:06+00:00   \n",
       "1     400.0000 2013-12-20 08:00:00+00:00 2014-03-26 22:25:07+00:00   \n",
       "2     400.0000 2014-01-09 08:00:00+00:00 2014-02-15 21:10:05+00:00   \n",
       "3     625.0000 2014-01-17 08:00:00+00:00 2014-02-21 03:10:02+00:00   \n",
       "4     425.0000 2013-12-17 08:00:00+00:00 2014-02-13 06:10:02+00:00   \n",
       "\n",
       "   disburse_year  planned_expiration_year  duration  \n",
       "0           2013                     2014        55  \n",
       "1           2013                     2014        97  \n",
       "2           2014                     2014        38  \n",
       "3           2014                     2014        36  \n",
       "4           2013                     2014        59  "
      ]
     },
     "execution_count": 62,
     "metadata": {},
     "output_type": "execute_result"
    },
    {
     "name": "stdout",
     "output_type": "stream",
     "text": [
      "time: 12.4 ms\n"
     ]
    }
   ],
   "source": [
    "loans_reduced.head()"
   ]
  },
  {
   "cell_type": "markdown",
   "metadata": {},
   "source": [
    "Ci si chiede inoltre quale siano il primo e l'ultimo anno che compaiono nelle date dei prestiti:"
   ]
  },
  {
   "cell_type": "code",
   "execution_count": 63,
   "metadata": {
    "ExecuteTime": {
     "end_time": "2020-06-04T13:38:12.060688Z",
     "start_time": "2020-06-04T13:38:11.730686Z"
    }
   },
   "outputs": [
    {
     "name": "stdout",
     "output_type": "stream",
     "text": [
      "2011\n",
      "2018\n",
      "time: 211 ms\n"
     ]
    }
   ],
   "source": [
    "print(loans_reduced['disburse_time'].dt.year.loc[loans_reduced['disburse_time'].dt.year.idxmin()])\n",
    "print(loans_reduced['planned_expiration_time'].dt.year.loc[loans_reduced['planned_expiration_time'].dt.year.idxmax()])"
   ]
  },
  {
   "cell_type": "markdown",
   "metadata": {},
   "source": [
    "Viene costruito quindi un dataframe vuoto che ha come indici i diversi anni, in modo da riempirlo successivamente:"
   ]
  },
  {
   "cell_type": "code",
   "execution_count": 64,
   "metadata": {
    "ExecuteTime": {
     "end_time": "2020-06-04T13:38:12.070688Z",
     "start_time": "2020-06-04T13:38:12.061696Z"
    }
   },
   "outputs": [
    {
     "data": {
      "text/html": [
       "<div>\n",
       "<style scoped>\n",
       "    .dataframe tbody tr th:only-of-type {\n",
       "        vertical-align: middle;\n",
       "    }\n",
       "\n",
       "    .dataframe tbody tr th {\n",
       "        vertical-align: top;\n",
       "    }\n",
       "\n",
       "    .dataframe thead th {\n",
       "        text-align: right;\n",
       "    }\n",
       "</style>\n",
       "<table border=\"1\" class=\"dataframe\">\n",
       "  <thead>\n",
       "    <tr style=\"text-align: right;\">\n",
       "      <th></th>\n",
       "      <th>amount</th>\n",
       "    </tr>\n",
       "    <tr>\n",
       "      <th>year</th>\n",
       "      <th></th>\n",
       "    </tr>\n",
       "  </thead>\n",
       "  <tbody>\n",
       "    <tr>\n",
       "      <th>2011</th>\n",
       "      <td>0</td>\n",
       "    </tr>\n",
       "    <tr>\n",
       "      <th>2012</th>\n",
       "      <td>0</td>\n",
       "    </tr>\n",
       "    <tr>\n",
       "      <th>2013</th>\n",
       "      <td>0</td>\n",
       "    </tr>\n",
       "    <tr>\n",
       "      <th>2014</th>\n",
       "      <td>0</td>\n",
       "    </tr>\n",
       "    <tr>\n",
       "      <th>2015</th>\n",
       "      <td>0</td>\n",
       "    </tr>\n",
       "    <tr>\n",
       "      <th>2016</th>\n",
       "      <td>0</td>\n",
       "    </tr>\n",
       "    <tr>\n",
       "      <th>2017</th>\n",
       "      <td>0</td>\n",
       "    </tr>\n",
       "    <tr>\n",
       "      <th>2018</th>\n",
       "      <td>0</td>\n",
       "    </tr>\n",
       "  </tbody>\n",
       "</table>\n",
       "</div>"
      ],
      "text/plain": [
       "      amount\n",
       "year        \n",
       "2011       0\n",
       "2012       0\n",
       "2013       0\n",
       "2014       0\n",
       "2015       0\n",
       "2016       0\n",
       "2017       0\n",
       "2018       0"
      ]
     },
     "execution_count": 64,
     "metadata": {},
     "output_type": "execute_result"
    },
    {
     "name": "stdout",
     "output_type": "stream",
     "text": [
      "time: 12.6 ms\n"
     ]
    }
   ],
   "source": [
    "total_amount = pd.DataFrame({\"year\":list(range(2011,2019)), \"amount\":np.zeros((8,), dtype=int)})\n",
    "total_amount = total_amount.set_index('year')\n",
    "total_amount"
   ]
  },
  {
   "cell_type": "markdown",
   "metadata": {},
   "source": [
    "Di seguito il codice che permette di svolgere quanto visto nell'esempio. Distinguiamo 3 casi:\n",
    "\n",
    "- `disburse_time` e `planned_expiration_time` sono nello stesso anno. Quindi basterà distribuire `loan_amount` nell'anno del prestito\n",
    "- `disburse_time` e `planned_expiration_time` sono a cavallo tra due anni diversi. In questo caso vengono calcolati i numeri di giorni tra `disburse_time` e la fine dell'anno e quelli tra la fine dell'anno e `planned_expiration_time`. Poi viene distribuito `loan_amount` in base a quanto calcolato.\n",
    "- `disburse_time` e `planned_expiration_time` sono a più di un anno di distanza. Essenzialmente il ragionamento rimane simile a quello del caso precedente, con l'aggiunta dei giorni trascorsi tra la fine dell'anno precedente e la fine di quello successivo. L'esempio iniziale ricade in questo caso.\n",
    "\n",
    "Utilizzando la differenza tra le date, Pandas gestisce automaticamente gli anni bisestili."
   ]
  },
  {
   "cell_type": "code",
   "execution_count": 65,
   "metadata": {
    "ExecuteTime": {
     "end_time": "2020-06-04T13:55:20.288817Z",
     "start_time": "2020-06-04T13:38:12.071673Z"
    }
   },
   "outputs": [
    {
     "name": "stdout",
     "output_type": "stream",
     "text": [
      "time: 34min 25s\n"
     ]
    }
   ],
   "source": [
    "for i in range(len(loans_reduced)):\n",
    "    \n",
    "    duration = loans_reduced['duration'][i]\n",
    "    amount = loans_reduced['loan_amount'][i]\n",
    "    date_range = pd.date_range(start=loans_reduced['disburse_time'][i], end=loans_reduced['planned_expiration_time'][i], freq='Y')\n",
    "\n",
    "    if len(date_range) == 0: #caso 1: il prestito è nello stesso anno\n",
    "        \n",
    "        total_amount.loc[loans_reduced['disburse_time'][i].year] += (((loans_reduced['planned_expiration_time'][i]-loans_reduced['disburse_time'][i]).days+1)/duration)*amount\n",
    "    \n",
    "    else: #caso 2: il prestito è inferiore ad un anno ed è a cavallo tra due anni\n",
    "        \n",
    "        total_amount.loc[loans_reduced['disburse_time'][i].year] += (((date_range[0]-loans_reduced['disburse_time'][i]).days+1)/duration)*amount\n",
    "        total_amount.loc[loans_reduced['planned_expiration_time'][i].year] += (((loans_reduced['planned_expiration_time'][i]-date_range[len(date_range)-1]).days+1)/duration)*amount\n",
    "        \n",
    "        if len(date_range) != 1: #caso 3: il prestito è superiore ad un anno\n",
    "            \n",
    "            for j in range(len(date_range)-1):\n",
    "                \n",
    "                total_amount.loc[date_range[j].year + 1] += ((date_range[j+1]-date_range[j]).days/duration)*amount"
   ]
  },
  {
   "cell_type": "code",
   "execution_count": 66,
   "metadata": {
    "ExecuteTime": {
     "end_time": "2020-06-04T13:55:20.297238Z",
     "start_time": "2020-06-04T13:55:20.290801Z"
    }
   },
   "outputs": [
    {
     "data": {
      "text/html": [
       "<div>\n",
       "<style scoped>\n",
       "    .dataframe tbody tr th:only-of-type {\n",
       "        vertical-align: middle;\n",
       "    }\n",
       "\n",
       "    .dataframe tbody tr th {\n",
       "        vertical-align: top;\n",
       "    }\n",
       "\n",
       "    .dataframe thead th {\n",
       "        text-align: right;\n",
       "    }\n",
       "</style>\n",
       "<table border=\"1\" class=\"dataframe\">\n",
       "  <thead>\n",
       "    <tr style=\"text-align: right;\">\n",
       "      <th></th>\n",
       "      <th>amount</th>\n",
       "    </tr>\n",
       "    <tr>\n",
       "      <th>year</th>\n",
       "      <th></th>\n",
       "    </tr>\n",
       "  </thead>\n",
       "  <tbody>\n",
       "    <tr>\n",
       "      <th>2011</th>\n",
       "      <td>663540.4855</td>\n",
       "    </tr>\n",
       "    <tr>\n",
       "      <th>2012</th>\n",
       "      <td>112728252.7243</td>\n",
       "    </tr>\n",
       "    <tr>\n",
       "      <th>2013</th>\n",
       "      <td>123367293.3813</td>\n",
       "    </tr>\n",
       "    <tr>\n",
       "      <th>2014</th>\n",
       "      <td>150147418.6267</td>\n",
       "    </tr>\n",
       "    <tr>\n",
       "      <th>2015</th>\n",
       "      <td>154721205.7295</td>\n",
       "    </tr>\n",
       "    <tr>\n",
       "      <th>2016</th>\n",
       "      <td>153335891.2628</td>\n",
       "    </tr>\n",
       "    <tr>\n",
       "      <th>2017</th>\n",
       "      <td>164516317.1824</td>\n",
       "    </tr>\n",
       "    <tr>\n",
       "      <th>2018</th>\n",
       "      <td>5188997.3768</td>\n",
       "    </tr>\n",
       "  </tbody>\n",
       "</table>\n",
       "</div>"
      ],
      "text/plain": [
       "             amount\n",
       "year               \n",
       "2011    663540.4855\n",
       "2012 112728252.7243\n",
       "2013 123367293.3813\n",
       "2014 150147418.6267\n",
       "2015 154721205.7295\n",
       "2016 153335891.2628\n",
       "2017 164516317.1824\n",
       "2018   5188997.3768"
      ]
     },
     "execution_count": 66,
     "metadata": {},
     "output_type": "execute_result"
    },
    {
     "name": "stdout",
     "output_type": "stream",
     "text": [
      "time: 5.84 ms\n"
     ]
    }
   ],
   "source": [
    "total_amount"
   ]
  },
  {
   "cell_type": "markdown",
   "metadata": {},
   "source": [
    "***"
   ]
  },
  {
   "cell_type": "markdown",
   "metadata": {},
   "source": [
    "###  <span style=\"color:#3282b8\"> 13. For each value of repayment_interval, add a new column to the lenders dataframe that contains the total amount of money corresponding to loans in such state"
   ]
  },
  {
   "cell_type": "code",
   "execution_count": 67,
   "metadata": {
    "ExecuteTime": {
     "end_time": "2020-06-04T13:55:20.313007Z",
     "start_time": "2020-06-04T13:55:20.298229Z"
    }
   },
   "outputs": [
    {
     "name": "stdout",
     "output_type": "stream",
     "text": [
      "time: 1.3 ms\n"
     ]
    }
   ],
   "source": [
    "pd.options.display.float_format = '{:.2f}'.format"
   ]
  },
  {
   "cell_type": "markdown",
   "metadata": {},
   "source": [
    "Innanzitutto si osservano i possibili valori che può assumere la variabile `repayment_interval`."
   ]
  },
  {
   "cell_type": "code",
   "execution_count": 68,
   "metadata": {
    "ExecuteTime": {
     "end_time": "2020-06-04T13:55:20.455412Z",
     "start_time": "2020-06-04T13:55:20.318022Z"
    }
   },
   "outputs": [
    {
     "data": {
      "text/plain": [
       "monthly      777971\n",
       "irregular    529446\n",
       "bullet       111568\n",
       "weekly          622\n",
       "Name: repayment_interval, dtype: int64"
      ]
     },
     "execution_count": 68,
     "metadata": {},
     "output_type": "execute_result"
    },
    {
     "name": "stdout",
     "output_type": "stream",
     "text": [
      "time: 129 ms\n"
     ]
    }
   ],
   "source": [
    "loans['repayment_interval'].value_counts()"
   ]
  },
  {
   "cell_type": "markdown",
   "metadata": {
    "ExecuteTime": {
     "end_time": "2020-06-04T11:14:09.893583Z",
     "start_time": "2020-06-04T11:14:09.888583Z"
    }
   },
   "source": [
    "Si considera il dataframe `loan_lent` del punto 8 e si effettua un left join con `loans`, che contiene la colonna di interesse `repayment_interval`."
   ]
  },
  {
   "cell_type": "code",
   "execution_count": 69,
   "metadata": {
    "ExecuteTime": {
     "end_time": "2020-06-04T13:55:31.348029Z",
     "start_time": "2020-06-04T13:55:20.457415Z"
    }
   },
   "outputs": [
    {
     "name": "stdout",
     "output_type": "stream",
     "text": [
      "time: 20.1 s\n"
     ]
    }
   ],
   "source": [
    "repay = pd.merge(loans[['loan_id','repayment_interval']], loan_lent[['loan_id','lenders','ind_share']], how='left', on='loan_id')"
   ]
  },
  {
   "cell_type": "markdown",
   "metadata": {
    "ExecuteTime": {
     "end_time": "2020-06-04T11:15:21.493337Z",
     "start_time": "2020-06-04T11:15:21.488347Z"
    }
   },
   "source": [
    "Si raggruppano i lenders in base al valore della variabile `repayment_interval` e si utilizza il comando unstack per ottenere una nuova colonna per ogni suo valore. Si rinominano le colonne, si resettano gli indici e si ottiene il dataframe `repay`."
   ]
  },
  {
   "cell_type": "code",
   "execution_count": 70,
   "metadata": {
    "ExecuteTime": {
     "end_time": "2020-06-04T13:56:00.983155Z",
     "start_time": "2020-06-04T13:55:31.349014Z"
    }
   },
   "outputs": [
    {
     "data": {
      "text/html": [
       "<div>\n",
       "<style scoped>\n",
       "    .dataframe tbody tr th:only-of-type {\n",
       "        vertical-align: middle;\n",
       "    }\n",
       "\n",
       "    .dataframe tbody tr th {\n",
       "        vertical-align: top;\n",
       "    }\n",
       "\n",
       "    .dataframe thead th {\n",
       "        text-align: right;\n",
       "    }\n",
       "</style>\n",
       "<table border=\"1\" class=\"dataframe\">\n",
       "  <thead>\n",
       "    <tr style=\"text-align: right;\">\n",
       "      <th></th>\n",
       "      <th>lenders</th>\n",
       "      <th>bullet</th>\n",
       "      <th>irregular</th>\n",
       "      <th>monthly</th>\n",
       "      <th>weekly</th>\n",
       "    </tr>\n",
       "  </thead>\n",
       "  <tbody>\n",
       "    <tr>\n",
       "      <th>0</th>\n",
       "      <td>000</td>\n",
       "      <td>143.34</td>\n",
       "      <td>306.65</td>\n",
       "      <td>1222.63</td>\n",
       "      <td>0.00</td>\n",
       "    </tr>\n",
       "    <tr>\n",
       "      <th>1</th>\n",
       "      <td>00000</td>\n",
       "      <td>106.51</td>\n",
       "      <td>550.24</td>\n",
       "      <td>723.00</td>\n",
       "      <td>0.00</td>\n",
       "    </tr>\n",
       "    <tr>\n",
       "      <th>2</th>\n",
       "      <td>0002</td>\n",
       "      <td>209.41</td>\n",
       "      <td>1165.27</td>\n",
       "      <td>1097.88</td>\n",
       "      <td>0.00</td>\n",
       "    </tr>\n",
       "    <tr>\n",
       "      <th>3</th>\n",
       "      <td>00mike00</td>\n",
       "      <td>0.00</td>\n",
       "      <td>0.00</td>\n",
       "      <td>52.63</td>\n",
       "      <td>0.00</td>\n",
       "    </tr>\n",
       "    <tr>\n",
       "      <th>4</th>\n",
       "      <td>0101craign0101</td>\n",
       "      <td>126.16</td>\n",
       "      <td>531.02</td>\n",
       "      <td>1966.39</td>\n",
       "      <td>0.00</td>\n",
       "    </tr>\n",
       "  </tbody>\n",
       "</table>\n",
       "</div>"
      ],
      "text/plain": [
       "           lenders  bullet  irregular  monthly  weekly\n",
       "0              000  143.34     306.65  1222.63    0.00\n",
       "1            00000  106.51     550.24   723.00    0.00\n",
       "2             0002  209.41    1165.27  1097.88    0.00\n",
       "3         00mike00    0.00       0.00    52.63    0.00\n",
       "4   0101craign0101  126.16     531.02  1966.39    0.00"
      ]
     },
     "execution_count": 70,
     "metadata": {},
     "output_type": "execute_result"
    },
    {
     "name": "stdout",
     "output_type": "stream",
     "text": [
      "time: 29.6 s\n"
     ]
    }
   ],
   "source": [
    "repay = repay.groupby(['lenders','repayment_interval']).sum()['ind_share'].unstack(fill_value=0, level=\"repayment_interval\")\n",
    "repay.columns=[\"bullet\",\"irregular\",\"monthly\",\"weekly\"]\n",
    "repay = repay.reset_index()\n",
    "repay.head()"
   ]
  },
  {
   "cell_type": "markdown",
   "metadata": {},
   "source": [
    "Si unisce tramite un left join il dataframe `repay` al dataframe `lenders` e si visualizzano quelli che non assumono valori NaN."
   ]
  },
  {
   "cell_type": "code",
   "execution_count": 71,
   "metadata": {
    "ExecuteTime": {
     "end_time": "2020-06-04T13:56:05.331334Z",
     "start_time": "2020-06-04T13:56:00.984156Z"
    }
   },
   "outputs": [
    {
     "name": "stdout",
     "output_type": "stream",
     "text": [
      "time: 5.69 s\n"
     ]
    }
   ],
   "source": [
    "lenders = pd.merge(lenders,repay,how='left',left_on=['permanent_name'],right_on=['lenders'])"
   ]
  },
  {
   "cell_type": "code",
   "execution_count": 72,
   "metadata": {
    "ExecuteTime": {
     "end_time": "2020-06-04T13:56:06.019461Z",
     "start_time": "2020-06-04T13:56:05.332334Z"
    }
   },
   "outputs": [
    {
     "data": {
      "text/html": [
       "<div>\n",
       "<style scoped>\n",
       "    .dataframe tbody tr th:only-of-type {\n",
       "        vertical-align: middle;\n",
       "    }\n",
       "\n",
       "    .dataframe tbody tr th {\n",
       "        vertical-align: top;\n",
       "    }\n",
       "\n",
       "    .dataframe thead th {\n",
       "        text-align: right;\n",
       "    }\n",
       "</style>\n",
       "<table border=\"1\" class=\"dataframe\">\n",
       "  <thead>\n",
       "    <tr style=\"text-align: right;\">\n",
       "      <th></th>\n",
       "      <th>permanent_name</th>\n",
       "      <th>display_name</th>\n",
       "      <th>city</th>\n",
       "      <th>state</th>\n",
       "      <th>country_code</th>\n",
       "      <th>member_since</th>\n",
       "      <th>occupation</th>\n",
       "      <th>loan_because</th>\n",
       "      <th>loan_purchase_num</th>\n",
       "      <th>invited_by</th>\n",
       "      <th>num_invited</th>\n",
       "      <th>lenders</th>\n",
       "      <th>bullet</th>\n",
       "      <th>irregular</th>\n",
       "      <th>monthly</th>\n",
       "      <th>weekly</th>\n",
       "    </tr>\n",
       "  </thead>\n",
       "  <tbody>\n",
       "    <tr>\n",
       "      <th>16</th>\n",
       "      <td>naresh2074</td>\n",
       "      <td>Naresh</td>\n",
       "      <td>NaN</td>\n",
       "      <td>NaN</td>\n",
       "      <td>US</td>\n",
       "      <td>1461303119</td>\n",
       "      <td>NaN</td>\n",
       "      <td>NaN</td>\n",
       "      <td>3.00</td>\n",
       "      <td>NaN</td>\n",
       "      <td>0</td>\n",
       "      <td>naresh2074</td>\n",
       "      <td>26.92</td>\n",
       "      <td>36.76</td>\n",
       "      <td>0.00</td>\n",
       "      <td>0.00</td>\n",
       "    </tr>\n",
       "    <tr>\n",
       "      <th>47</th>\n",
       "      <td>jinxian2217</td>\n",
       "      <td>jinxian</td>\n",
       "      <td>NaN</td>\n",
       "      <td>NaN</td>\n",
       "      <td>NaN</td>\n",
       "      <td>1461302938</td>\n",
       "      <td>NaN</td>\n",
       "      <td>NaN</td>\n",
       "      <td>5.00</td>\n",
       "      <td>NaN</td>\n",
       "      <td>0</td>\n",
       "      <td>jinxian2217</td>\n",
       "      <td>0.00</td>\n",
       "      <td>0.00</td>\n",
       "      <td>77.78</td>\n",
       "      <td>0.00</td>\n",
       "    </tr>\n",
       "    <tr>\n",
       "      <th>48</th>\n",
       "      <td>sreedevi9583</td>\n",
       "      <td>Sreedevi</td>\n",
       "      <td>NaN</td>\n",
       "      <td>NaN</td>\n",
       "      <td>NaN</td>\n",
       "      <td>1461303004</td>\n",
       "      <td>NaN</td>\n",
       "      <td>NaN</td>\n",
       "      <td>3.00</td>\n",
       "      <td>NaN</td>\n",
       "      <td>0</td>\n",
       "      <td>sreedevi9583</td>\n",
       "      <td>0.00</td>\n",
       "      <td>0.00</td>\n",
       "      <td>32.50</td>\n",
       "      <td>0.00</td>\n",
       "    </tr>\n",
       "    <tr>\n",
       "      <th>51</th>\n",
       "      <td>nicole98153893</td>\n",
       "      <td>Nicole</td>\n",
       "      <td>NaN</td>\n",
       "      <td>NaN</td>\n",
       "      <td>NaN</td>\n",
       "      <td>1461303247</td>\n",
       "      <td>NaN</td>\n",
       "      <td>NaN</td>\n",
       "      <td>3.00</td>\n",
       "      <td>NaN</td>\n",
       "      <td>0</td>\n",
       "      <td>nicole98153893</td>\n",
       "      <td>0.00</td>\n",
       "      <td>0.00</td>\n",
       "      <td>50.00</td>\n",
       "      <td>0.00</td>\n",
       "    </tr>\n",
       "    <tr>\n",
       "      <th>54</th>\n",
       "      <td>prashankpradeep8456</td>\n",
       "      <td>Prashank Pradeep</td>\n",
       "      <td>NaN</td>\n",
       "      <td>NaN</td>\n",
       "      <td>US</td>\n",
       "      <td>1461300411</td>\n",
       "      <td>NaN</td>\n",
       "      <td>NaN</td>\n",
       "      <td>2.00</td>\n",
       "      <td>NaN</td>\n",
       "      <td>1</td>\n",
       "      <td>prashankpradeep8456</td>\n",
       "      <td>0.00</td>\n",
       "      <td>0.00</td>\n",
       "      <td>30.00</td>\n",
       "      <td>0.00</td>\n",
       "    </tr>\n",
       "    <tr>\n",
       "      <th>...</th>\n",
       "      <td>...</td>\n",
       "      <td>...</td>\n",
       "      <td>...</td>\n",
       "      <td>...</td>\n",
       "      <td>...</td>\n",
       "      <td>...</td>\n",
       "      <td>...</td>\n",
       "      <td>...</td>\n",
       "      <td>...</td>\n",
       "      <td>...</td>\n",
       "      <td>...</td>\n",
       "      <td>...</td>\n",
       "      <td>...</td>\n",
       "      <td>...</td>\n",
       "      <td>...</td>\n",
       "      <td>...</td>\n",
       "    </tr>\n",
       "    <tr>\n",
       "      <th>2349140</th>\n",
       "      <td>lacey4240</td>\n",
       "      <td>Lacey</td>\n",
       "      <td>Austin</td>\n",
       "      <td>Tx</td>\n",
       "      <td>US</td>\n",
       "      <td>1342098694</td>\n",
       "      <td>NaN</td>\n",
       "      <td>NaN</td>\n",
       "      <td>1.00</td>\n",
       "      <td>Dana</td>\n",
       "      <td>0</td>\n",
       "      <td>lacey4240</td>\n",
       "      <td>0.00</td>\n",
       "      <td>28.17</td>\n",
       "      <td>0.00</td>\n",
       "      <td>0.00</td>\n",
       "    </tr>\n",
       "    <tr>\n",
       "      <th>2349151</th>\n",
       "      <td>barry6472</td>\n",
       "      <td>Barry</td>\n",
       "      <td>Ferndale</td>\n",
       "      <td>WA</td>\n",
       "      <td>US</td>\n",
       "      <td>1342100739</td>\n",
       "      <td>NaN</td>\n",
       "      <td>NaN</td>\n",
       "      <td>52.00</td>\n",
       "      <td>NaN</td>\n",
       "      <td>0</td>\n",
       "      <td>barry6472</td>\n",
       "      <td>80.36</td>\n",
       "      <td>71.88</td>\n",
       "      <td>31.25</td>\n",
       "      <td>0.00</td>\n",
       "    </tr>\n",
       "    <tr>\n",
       "      <th>2349153</th>\n",
       "      <td>bonnie9739</td>\n",
       "      <td>Bonnie</td>\n",
       "      <td>Ft. Lauderdale</td>\n",
       "      <td>Florida</td>\n",
       "      <td>US</td>\n",
       "      <td>1342101126</td>\n",
       "      <td>Elementary School Teacher</td>\n",
       "      <td>it is a direct way for me to make a difference...</td>\n",
       "      <td>549.00</td>\n",
       "      <td>NaN</td>\n",
       "      <td>1</td>\n",
       "      <td>bonnie9739</td>\n",
       "      <td>58.33</td>\n",
       "      <td>57.54</td>\n",
       "      <td>416.45</td>\n",
       "      <td>0.00</td>\n",
       "    </tr>\n",
       "    <tr>\n",
       "      <th>2349155</th>\n",
       "      <td>cody7091</td>\n",
       "      <td>Cody</td>\n",
       "      <td>Taylorsville</td>\n",
       "      <td>Utah</td>\n",
       "      <td>US</td>\n",
       "      <td>1342098780</td>\n",
       "      <td>NaN</td>\n",
       "      <td>NaN</td>\n",
       "      <td>1.00</td>\n",
       "      <td>Jeannie</td>\n",
       "      <td>0</td>\n",
       "      <td>cody7091</td>\n",
       "      <td>0.00</td>\n",
       "      <td>26.56</td>\n",
       "      <td>0.00</td>\n",
       "      <td>0.00</td>\n",
       "    </tr>\n",
       "    <tr>\n",
       "      <th>2349158</th>\n",
       "      <td>rakhi</td>\n",
       "      <td>Rakhi</td>\n",
       "      <td>New York</td>\n",
       "      <td>New York</td>\n",
       "      <td>US</td>\n",
       "      <td>1342100607</td>\n",
       "      <td>Student</td>\n",
       "      <td>I care.</td>\n",
       "      <td>4.00</td>\n",
       "      <td>NaN</td>\n",
       "      <td>0</td>\n",
       "      <td>rakhi</td>\n",
       "      <td>50.00</td>\n",
       "      <td>0.00</td>\n",
       "      <td>0.00</td>\n",
       "      <td>0.00</td>\n",
       "    </tr>\n",
       "  </tbody>\n",
       "</table>\n",
       "<p>287569 rows × 16 columns</p>\n",
       "</div>"
      ],
      "text/plain": [
       "              permanent_name      display_name            city     state  \\\n",
       "16                naresh2074            Naresh             NaN       NaN   \n",
       "47               jinxian2217           jinxian             NaN       NaN   \n",
       "48              sreedevi9583          Sreedevi             NaN       NaN   \n",
       "51            nicole98153893            Nicole             NaN       NaN   \n",
       "54       prashankpradeep8456  Prashank Pradeep             NaN       NaN   \n",
       "...                      ...               ...             ...       ...   \n",
       "2349140            lacey4240             Lacey          Austin        Tx   \n",
       "2349151            barry6472             Barry        Ferndale        WA   \n",
       "2349153           bonnie9739            Bonnie  Ft. Lauderdale   Florida   \n",
       "2349155             cody7091              Cody    Taylorsville      Utah   \n",
       "2349158                rakhi             Rakhi        New York  New York   \n",
       "\n",
       "        country_code  member_since                 occupation  \\\n",
       "16                US    1461303119                        NaN   \n",
       "47               NaN    1461302938                        NaN   \n",
       "48               NaN    1461303004                        NaN   \n",
       "51               NaN    1461303247                        NaN   \n",
       "54                US    1461300411                        NaN   \n",
       "...              ...           ...                        ...   \n",
       "2349140           US    1342098694                        NaN   \n",
       "2349151           US    1342100739                        NaN   \n",
       "2349153           US    1342101126  Elementary School Teacher   \n",
       "2349155           US    1342098780                        NaN   \n",
       "2349158           US    1342100607                    Student   \n",
       "\n",
       "                                              loan_because  loan_purchase_num  \\\n",
       "16                                                     NaN               3.00   \n",
       "47                                                     NaN               5.00   \n",
       "48                                                     NaN               3.00   \n",
       "51                                                     NaN               3.00   \n",
       "54                                                     NaN               2.00   \n",
       "...                                                    ...                ...   \n",
       "2349140                                                NaN               1.00   \n",
       "2349151                                                NaN              52.00   \n",
       "2349153  it is a direct way for me to make a difference...             549.00   \n",
       "2349155                                                NaN               1.00   \n",
       "2349158                                            I care.               4.00   \n",
       "\n",
       "        invited_by  num_invited              lenders  bullet  irregular  \\\n",
       "16             NaN            0           naresh2074   26.92      36.76   \n",
       "47             NaN            0          jinxian2217    0.00       0.00   \n",
       "48             NaN            0         sreedevi9583    0.00       0.00   \n",
       "51             NaN            0       nicole98153893    0.00       0.00   \n",
       "54             NaN            1  prashankpradeep8456    0.00       0.00   \n",
       "...            ...          ...                  ...     ...        ...   \n",
       "2349140       Dana            0            lacey4240    0.00      28.17   \n",
       "2349151        NaN            0            barry6472   80.36      71.88   \n",
       "2349153        NaN            1           bonnie9739   58.33      57.54   \n",
       "2349155    Jeannie            0             cody7091    0.00      26.56   \n",
       "2349158        NaN            0                rakhi   50.00       0.00   \n",
       "\n",
       "         monthly  weekly  \n",
       "16          0.00    0.00  \n",
       "47         77.78    0.00  \n",
       "48         32.50    0.00  \n",
       "51         50.00    0.00  \n",
       "54         30.00    0.00  \n",
       "...          ...     ...  \n",
       "2349140     0.00    0.00  \n",
       "2349151    31.25    0.00  \n",
       "2349153   416.45    0.00  \n",
       "2349155     0.00    0.00  \n",
       "2349158     0.00    0.00  \n",
       "\n",
       "[287569 rows x 16 columns]"
      ]
     },
     "execution_count": 72,
     "metadata": {},
     "output_type": "execute_result"
    },
    {
     "name": "stdout",
     "output_type": "stream",
     "text": [
      "time: 822 ms\n"
     ]
    }
   ],
   "source": [
    "lenders[~lenders.bullet.isna()]"
   ]
  },
  {
   "cell_type": "markdown",
   "metadata": {},
   "source": [
    "***"
   ]
  },
  {
   "cell_type": "markdown",
   "metadata": {},
   "source": [
    "###  <span style=\"color:#3282b8\"> 14. What is the occupation with the highest average amount of money lent (the average must be computed over all lenders with a given occupation)?"
   ]
  },
  {
   "cell_type": "markdown",
   "metadata": {},
   "source": [
    "La colonna `occupation` del dataset `lenders` viene inizialmente ripulita, poichè presenta numerosi valori privi di significato, come punti interrrogativi, smile, spazi vuoti, punti. \n",
    "\n",
    "In primo luogo si esegue un join tra il dataframe `money_lent`, contenente i soldi prestati da ogni lender, e `lenders` , nel quale è presente la colonna `occupation`."
   ]
  },
  {
   "cell_type": "code",
   "execution_count": 73,
   "metadata": {
    "ExecuteTime": {
     "end_time": "2020-06-04T13:56:09.637322Z",
     "start_time": "2020-06-04T13:56:06.021445Z"
    }
   },
   "outputs": [
    {
     "name": "stdout",
     "output_type": "stream",
     "text": [
      "time: 3.85 s\n"
     ]
    }
   ],
   "source": [
    "temp4 = pd.merge(money_lent, lenders[['permanent_name','occupation']], left_on=\"lenders\", right_on=\"permanent_name\")"
   ]
  },
  {
   "cell_type": "markdown",
   "metadata": {},
   "source": [
    "Si inizia ora a pulire la colonna di interesse:"
   ]
  },
  {
   "cell_type": "code",
   "execution_count": 74,
   "metadata": {
    "ExecuteTime": {
     "end_time": "2020-06-04T13:56:09.643338Z",
     "start_time": "2020-06-04T13:56:09.638325Z"
    }
   },
   "outputs": [
    {
     "name": "stdout",
     "output_type": "stream",
     "text": [
      "time: 2.48 ms\n"
     ]
    }
   ],
   "source": [
    "#funzione per rimuovere caratteri speciali\n",
    "def rm_special_char(string):\n",
    "    return string.encode('ascii', 'ignore').decode('ascii')"
   ]
  },
  {
   "cell_type": "code",
   "execution_count": 75,
   "metadata": {
    "ExecuteTime": {
     "end_time": "2020-06-04T13:56:10.197729Z",
     "start_time": "2020-06-04T13:56:09.644323Z"
    }
   },
   "outputs": [
    {
     "name": "stderr",
     "output_type": "stream",
     "text": [
      "/opt/anaconda3/lib/python3.7/site-packages/pandas/core/strings.py:1843: UserWarning: This pattern has match groups. To actually get the groups, use str.extract.\n",
      "  return func(self, *args, **kwargs)\n"
     ]
    },
    {
     "data": {
      "text/html": [
       "<div>\n",
       "<style scoped>\n",
       "    .dataframe tbody tr th:only-of-type {\n",
       "        vertical-align: middle;\n",
       "    }\n",
       "\n",
       "    .dataframe tbody tr th {\n",
       "        vertical-align: top;\n",
       "    }\n",
       "\n",
       "    .dataframe thead th {\n",
       "        text-align: right;\n",
       "    }\n",
       "</style>\n",
       "<table border=\"1\" class=\"dataframe\">\n",
       "  <thead>\n",
       "    <tr style=\"text-align: right;\">\n",
       "      <th></th>\n",
       "      <th>lenders</th>\n",
       "      <th>ind_share</th>\n",
       "      <th>occupation</th>\n",
       "    </tr>\n",
       "  </thead>\n",
       "  <tbody>\n",
       "    <tr>\n",
       "      <th>57</th>\n",
       "      <td>0819212</td>\n",
       "      <td>1947.68</td>\n",
       "      <td>Banker</td>\n",
       "    </tr>\n",
       "    <tr>\n",
       "      <th>69</th>\n",
       "      <td>0lauramelania9158</td>\n",
       "      <td>56.78</td>\n",
       "      <td>Business Analyst</td>\n",
       "    </tr>\n",
       "    <tr>\n",
       "      <th>71</th>\n",
       "      <td>0x04b1d</td>\n",
       "      <td>34.38</td>\n",
       "      <td>Software And Systems Engineer</td>\n",
       "    </tr>\n",
       "    <tr>\n",
       "      <th>77</th>\n",
       "      <td>101cookbooks</td>\n",
       "      <td>143.27</td>\n",
       "      <td>Publisher</td>\n",
       "    </tr>\n",
       "    <tr>\n",
       "      <th>82</th>\n",
       "      <td>10yearitch</td>\n",
       "      <td>710.74</td>\n",
       "      <td>India Travel Company</td>\n",
       "    </tr>\n",
       "    <tr>\n",
       "      <th>...</th>\n",
       "      <td>...</td>\n",
       "      <td>...</td>\n",
       "      <td>...</td>\n",
       "    </tr>\n",
       "    <tr>\n",
       "      <th>287561</th>\n",
       "      <td>zyrorl</td>\n",
       "      <td>111.70</td>\n",
       "      <td>Software Developer</td>\n",
       "    </tr>\n",
       "    <tr>\n",
       "      <th>287562</th>\n",
       "      <td>zzaba</td>\n",
       "      <td>28.12</td>\n",
       "      <td>Student</td>\n",
       "    </tr>\n",
       "    <tr>\n",
       "      <th>287563</th>\n",
       "      <td>zzaman</td>\n",
       "      <td>329.80</td>\n",
       "      <td>Software Engineer</td>\n",
       "    </tr>\n",
       "    <tr>\n",
       "      <th>287566</th>\n",
       "      <td>zzinnia</td>\n",
       "      <td>38.00</td>\n",
       "      <td>I Make Books</td>\n",
       "    </tr>\n",
       "    <tr>\n",
       "      <th>287567</th>\n",
       "      <td>zzmcfate</td>\n",
       "      <td>2041.68</td>\n",
       "      <td>Photographer</td>\n",
       "    </tr>\n",
       "  </tbody>\n",
       "</table>\n",
       "<p>97645 rows × 3 columns</p>\n",
       "</div>"
      ],
      "text/plain": [
       "                  lenders  ind_share                     occupation\n",
       "57                0819212    1947.68                         Banker\n",
       "69      0lauramelania9158      56.78               Business Analyst\n",
       "71                0x04b1d      34.38  Software And Systems Engineer\n",
       "77           101cookbooks     143.27                      Publisher\n",
       "82             10yearitch     710.74           India Travel Company\n",
       "...                   ...        ...                            ...\n",
       "287561             zyrorl     111.70             Software Developer\n",
       "287562              zzaba      28.12                        Student\n",
       "287563             zzaman     329.80              Software Engineer\n",
       "287566            zzinnia      38.00                   I Make Books\n",
       "287567           zzmcfate    2041.68                   Photographer\n",
       "\n",
       "[97645 rows x 3 columns]"
      ]
     },
     "execution_count": 75,
     "metadata": {},
     "output_type": "execute_result"
    },
    {
     "name": "stdout",
     "output_type": "stream",
     "text": [
      "time: 539 ms\n"
     ]
    }
   ],
   "source": [
    "#faccio una prima pulizia della colonna occupation\n",
    "temp4 = temp4.drop(columns=['permanent_name']).dropna(subset = ['occupation']) #cancello NaN\n",
    "temp4['occupation'] = temp4['occupation'].apply(rm_special_char) #cancello emoji e caratteri speciali\n",
    "temp4['occupation'] = temp4['occupation'].str.strip() #tolgo spazi davanti e dopo le parole\n",
    "temp4['occupation'] = temp4['occupation'].str.title() #metto tutto con prima lettera maiuscola\n",
    "#elimino smile nelle occupazioni\n",
    "temp4 = temp4[~temp4['occupation'].str.contains('(\\:\\w+\\:|\\<[\\/\\\\]?3|[\\(\\)\\\\\\D|\\*\\$][\\-\\^]?[\\:\\;\\=]|[\\:\\;\\=B8][\\-\\^]?[3DOPp\\@\\$\\*\\\\\\)\\(\\/\\|])(?=\\s|[\\!\\.\\?]|$)', regex=True)]\n",
    "temp4 = temp4[temp4['occupation'] != ''] #rimuovo lavoro vuoto\n",
    "\n",
    "temp4"
   ]
  },
  {
   "cell_type": "markdown",
   "metadata": {},
   "source": [
    "Si nota che molto spesso una stessa tipologia di occupazione viene riportata in modi diversi. Per questo motivo si cerca di uniformare lavori dello stesso tipo, andando ad individuare quelle occupazioni che contengono parole maggiormente indicative. Ovviamente, questo viene eseguito solo per le professioni più comuni, a causa della notevole diversità dei valori assunti da questa variabile."
   ]
  },
  {
   "cell_type": "code",
   "execution_count": 76,
   "metadata": {
    "ExecuteTime": {
     "end_time": "2020-06-04T13:56:11.044558Z",
     "start_time": "2020-06-04T13:56:10.198730Z"
    }
   },
   "outputs": [
    {
     "data": {
      "text/html": [
       "<div>\n",
       "<style scoped>\n",
       "    .dataframe tbody tr th:only-of-type {\n",
       "        vertical-align: middle;\n",
       "    }\n",
       "\n",
       "    .dataframe tbody tr th {\n",
       "        vertical-align: top;\n",
       "    }\n",
       "\n",
       "    .dataframe thead th {\n",
       "        text-align: right;\n",
       "    }\n",
       "</style>\n",
       "<table border=\"1\" class=\"dataframe\">\n",
       "  <thead>\n",
       "    <tr style=\"text-align: right;\">\n",
       "      <th></th>\n",
       "      <th>lenders</th>\n",
       "      <th>ind_share</th>\n",
       "      <th>occupation</th>\n",
       "    </tr>\n",
       "  </thead>\n",
       "  <tbody>\n",
       "    <tr>\n",
       "      <th>57</th>\n",
       "      <td>0819212</td>\n",
       "      <td>1947.68</td>\n",
       "      <td>Banker</td>\n",
       "    </tr>\n",
       "    <tr>\n",
       "      <th>69</th>\n",
       "      <td>0lauramelania9158</td>\n",
       "      <td>56.78</td>\n",
       "      <td>Business Analyst</td>\n",
       "    </tr>\n",
       "    <tr>\n",
       "      <th>71</th>\n",
       "      <td>0x04b1d</td>\n",
       "      <td>34.38</td>\n",
       "      <td>Engineer</td>\n",
       "    </tr>\n",
       "    <tr>\n",
       "      <th>77</th>\n",
       "      <td>101cookbooks</td>\n",
       "      <td>143.27</td>\n",
       "      <td>Publisher</td>\n",
       "    </tr>\n",
       "    <tr>\n",
       "      <th>82</th>\n",
       "      <td>10yearitch</td>\n",
       "      <td>710.74</td>\n",
       "      <td>India Travel Company</td>\n",
       "    </tr>\n",
       "    <tr>\n",
       "      <th>...</th>\n",
       "      <td>...</td>\n",
       "      <td>...</td>\n",
       "      <td>...</td>\n",
       "    </tr>\n",
       "    <tr>\n",
       "      <th>287561</th>\n",
       "      <td>zyrorl</td>\n",
       "      <td>111.70</td>\n",
       "      <td>Software Developer</td>\n",
       "    </tr>\n",
       "    <tr>\n",
       "      <th>287562</th>\n",
       "      <td>zzaba</td>\n",
       "      <td>28.12</td>\n",
       "      <td>Student</td>\n",
       "    </tr>\n",
       "    <tr>\n",
       "      <th>287563</th>\n",
       "      <td>zzaman</td>\n",
       "      <td>329.80</td>\n",
       "      <td>Engineer</td>\n",
       "    </tr>\n",
       "    <tr>\n",
       "      <th>287566</th>\n",
       "      <td>zzinnia</td>\n",
       "      <td>38.00</td>\n",
       "      <td>I Make Books</td>\n",
       "    </tr>\n",
       "    <tr>\n",
       "      <th>287567</th>\n",
       "      <td>zzmcfate</td>\n",
       "      <td>2041.68</td>\n",
       "      <td>Photographer</td>\n",
       "    </tr>\n",
       "  </tbody>\n",
       "</table>\n",
       "<p>97645 rows × 3 columns</p>\n",
       "</div>"
      ],
      "text/plain": [
       "                  lenders  ind_share            occupation\n",
       "57                0819212    1947.68                Banker\n",
       "69      0lauramelania9158      56.78      Business Analyst\n",
       "71                0x04b1d      34.38              Engineer\n",
       "77           101cookbooks     143.27             Publisher\n",
       "82             10yearitch     710.74  India Travel Company\n",
       "...                   ...        ...                   ...\n",
       "287561             zyrorl     111.70    Software Developer\n",
       "287562              zzaba      28.12               Student\n",
       "287563             zzaman     329.80              Engineer\n",
       "287566            zzinnia      38.00          I Make Books\n",
       "287567           zzmcfate    2041.68          Photographer\n",
       "\n",
       "[97645 rows x 3 columns]"
      ]
     },
     "execution_count": 76,
     "metadata": {},
     "output_type": "execute_result"
    },
    {
     "name": "stdout",
     "output_type": "stream",
     "text": [
      "time: 782 ms\n"
     ]
    }
   ],
   "source": [
    "#creo lista con lavori\n",
    "jobs = ['Student','Teacher','Engineer','Retired','Doctor','Artist','Manager','Consultant','Banker','Entrepreneur','Actor']\n",
    "\n",
    "for job in jobs:\n",
    "    temp4.loc[temp4['occupation'].str.contains(job), 'occupation'] = job\n",
    "\n",
    "temp4.loc[temp4['occupation'].str.contains('Grade'), 'occupation'] = 'Student'\n",
    "\n",
    "temp4"
   ]
  },
  {
   "cell_type": "markdown",
   "metadata": {},
   "source": [
    "Si esegue ora un raggruppamento per occupazione e si calcola la media sulla quantità di soldi prestati. Inoltre, si conta quante volte un'occupazione compare nel dataframe, registrando il valore nella nuova variabile `num`."
   ]
  },
  {
   "cell_type": "code",
   "execution_count": 77,
   "metadata": {
    "ExecuteTime": {
     "end_time": "2020-06-04T13:56:11.160769Z",
     "start_time": "2020-06-04T13:56:11.045552Z"
    }
   },
   "outputs": [
    {
     "data": {
      "text/html": [
       "<div>\n",
       "<style scoped>\n",
       "    .dataframe tbody tr th:only-of-type {\n",
       "        vertical-align: middle;\n",
       "    }\n",
       "\n",
       "    .dataframe tbody tr th {\n",
       "        vertical-align: top;\n",
       "    }\n",
       "\n",
       "    .dataframe thead th {\n",
       "        text-align: right;\n",
       "    }\n",
       "</style>\n",
       "<table border=\"1\" class=\"dataframe\">\n",
       "  <thead>\n",
       "    <tr style=\"text-align: right;\">\n",
       "      <th></th>\n",
       "      <th>occupation</th>\n",
       "      <th>mean_ind_share</th>\n",
       "      <th>num</th>\n",
       "    </tr>\n",
       "  </thead>\n",
       "  <tbody>\n",
       "    <tr>\n",
       "      <th>0</th>\n",
       "      <td>\"Citizen Diplomat\"</td>\n",
       "      <td>31.67</td>\n",
       "      <td>1</td>\n",
       "    </tr>\n",
       "    <tr>\n",
       "      <th>1</th>\n",
       "      <td>\"Grandmother\"</td>\n",
       "      <td>339.09</td>\n",
       "      <td>1</td>\n",
       "    </tr>\n",
       "    <tr>\n",
       "      <th>2</th>\n",
       "      <td>#6</td>\n",
       "      <td>126.58</td>\n",
       "      <td>1</td>\n",
       "    </tr>\n",
       "    <tr>\n",
       "      <th>3</th>\n",
       "      <td>#Librotax</td>\n",
       "      <td>196.14</td>\n",
       "      <td>1</td>\n",
       "    </tr>\n",
       "    <tr>\n",
       "      <th>4</th>\n",
       "      <td>(Web)Designer And Energy Therapist</td>\n",
       "      <td>37.50</td>\n",
       "      <td>1</td>\n",
       "    </tr>\n",
       "    <tr>\n",
       "      <th>...</th>\n",
       "      <td>...</td>\n",
       "      <td>...</td>\n",
       "      <td>...</td>\n",
       "    </tr>\n",
       "    <tr>\n",
       "      <th>19412</th>\n",
       "      <td>Zumba Fitness Instructor</td>\n",
       "      <td>243.22</td>\n",
       "      <td>1</td>\n",
       "    </tr>\n",
       "    <tr>\n",
       "      <th>19413</th>\n",
       "      <td>\\\\\"Parkie\\\\\"</td>\n",
       "      <td>41.18</td>\n",
       "      <td>1</td>\n",
       "    </tr>\n",
       "    <tr>\n",
       "      <th>19414</th>\n",
       "      <td>\\\\\"Small Business\\\\\" Owner</td>\n",
       "      <td>25.00</td>\n",
       "      <td>1</td>\n",
       "    </tr>\n",
       "    <tr>\n",
       "      <th>19415</th>\n",
       "      <td>~ Holistic Creative</td>\n",
       "      <td>50.00</td>\n",
       "      <td>1</td>\n",
       "    </tr>\n",
       "    <tr>\n",
       "      <th>19416</th>\n",
       "      <td>~ Making Our World A Better Place ~</td>\n",
       "      <td>97.05</td>\n",
       "      <td>1</td>\n",
       "    </tr>\n",
       "  </tbody>\n",
       "</table>\n",
       "<p>19417 rows × 3 columns</p>\n",
       "</div>"
      ],
      "text/plain": [
       "                                occupation  mean_ind_share  num\n",
       "0                       \"Citizen Diplomat\"           31.67    1\n",
       "1                            \"Grandmother\"          339.09    1\n",
       "2                                       #6          126.58    1\n",
       "3                                #Librotax          196.14    1\n",
       "4       (Web)Designer And Energy Therapist           37.50    1\n",
       "...                                    ...             ...  ...\n",
       "19412             Zumba Fitness Instructor          243.22    1\n",
       "19413                         \\\\\"Parkie\\\\\"           41.18    1\n",
       "19414           \\\\\"Small Business\\\\\" Owner           25.00    1\n",
       "19415                  ~ Holistic Creative           50.00    1\n",
       "19416  ~ Making Our World A Better Place ~           97.05    1\n",
       "\n",
       "[19417 rows x 3 columns]"
      ]
     },
     "execution_count": 77,
     "metadata": {},
     "output_type": "execute_result"
    },
    {
     "name": "stdout",
     "output_type": "stream",
     "text": [
      "time: 133 ms\n"
     ]
    }
   ],
   "source": [
    "temp5 = temp4.groupby('occupation')['ind_share'].mean().reset_index()\n",
    "temp5.columns = ['occupation','mean_ind_share']\n",
    "temp5['num'] = temp4.groupby('occupation').count().reset_index().ind_share\n",
    "temp5"
   ]
  },
  {
   "cell_type": "markdown",
   "metadata": {},
   "source": [
    "Si trova l'occupazione con la più alta quantità media di soldi prestati. Tuttavia, come si può notare dal risultato ottenuto (Www.Linkedin.Com/In/Peacekeeper), si tratta di una professione non ben specificata. Per questo motivo, si decide di eliminare tutte quelle occupazioni che sono presenti meno di 10 volte nel dataset, in modo da escludere alcuni valori che potrebbero essere nomi di aziende o descrizioni uniche e non significative di un lavoro. Si calcola quindi nuovamente la professione con la più alta quantita media di soldi prestati. Il risultato questa volta è 'Life Coach'."
   ]
  },
  {
   "cell_type": "code",
   "execution_count": 78,
   "metadata": {
    "ExecuteTime": {
     "end_time": "2020-06-04T13:56:11.166769Z",
     "start_time": "2020-06-04T13:56:11.161769Z"
    }
   },
   "outputs": [
    {
     "data": {
      "text/plain": [
       "'Www.Linkedin.Com/In/Peacekeeper'"
      ]
     },
     "execution_count": 78,
     "metadata": {},
     "output_type": "execute_result"
    },
    {
     "name": "stdout",
     "output_type": "stream",
     "text": [
      "time: 5.98 ms\n"
     ]
    }
   ],
   "source": [
    "temp5.occupation.loc[temp5.mean_ind_share.idxmax()]"
   ]
  },
  {
   "cell_type": "code",
   "execution_count": 79,
   "metadata": {
    "ExecuteTime": {
     "end_time": "2020-06-04T13:56:11.184768Z",
     "start_time": "2020-06-04T13:56:11.167768Z"
    }
   },
   "outputs": [
    {
     "data": {
      "text/html": [
       "<div>\n",
       "<style scoped>\n",
       "    .dataframe tbody tr th:only-of-type {\n",
       "        vertical-align: middle;\n",
       "    }\n",
       "\n",
       "    .dataframe tbody tr th {\n",
       "        vertical-align: top;\n",
       "    }\n",
       "\n",
       "    .dataframe thead th {\n",
       "        text-align: right;\n",
       "    }\n",
       "</style>\n",
       "<table border=\"1\" class=\"dataframe\">\n",
       "  <thead>\n",
       "    <tr style=\"text-align: right;\">\n",
       "      <th></th>\n",
       "      <th>occupation</th>\n",
       "      <th>mean_ind_share</th>\n",
       "      <th>num</th>\n",
       "    </tr>\n",
       "  </thead>\n",
       "  <tbody>\n",
       "    <tr>\n",
       "      <th>10125</th>\n",
       "      <td>Life Coach</td>\n",
       "      <td>44149.74</td>\n",
       "      <td>42</td>\n",
       "    </tr>\n",
       "    <tr>\n",
       "      <th>7683</th>\n",
       "      <td>Healer</td>\n",
       "      <td>5511.18</td>\n",
       "      <td>13</td>\n",
       "    </tr>\n",
       "    <tr>\n",
       "      <th>4240</th>\n",
       "      <td>Dad</td>\n",
       "      <td>2386.36</td>\n",
       "      <td>10</td>\n",
       "    </tr>\n",
       "    <tr>\n",
       "      <th>14517</th>\n",
       "      <td>Real Estate Developer</td>\n",
       "      <td>2383.72</td>\n",
       "      <td>22</td>\n",
       "    </tr>\n",
       "    <tr>\n",
       "      <th>3992</th>\n",
       "      <td>Cpa</td>\n",
       "      <td>2155.84</td>\n",
       "      <td>101</td>\n",
       "    </tr>\n",
       "    <tr>\n",
       "      <th>33</th>\n",
       "      <td>501(C)3 Non Profit Corporation</td>\n",
       "      <td>2146.29</td>\n",
       "      <td>12</td>\n",
       "    </tr>\n",
       "    <tr>\n",
       "      <th>13954</th>\n",
       "      <td>Programmer/Analyst</td>\n",
       "      <td>2042.79</td>\n",
       "      <td>12</td>\n",
       "    </tr>\n",
       "    <tr>\n",
       "      <th>8751</th>\n",
       "      <td>Information Technology</td>\n",
       "      <td>1891.87</td>\n",
       "      <td>138</td>\n",
       "    </tr>\n",
       "    <tr>\n",
       "      <th>1423</th>\n",
       "      <td>Banking</td>\n",
       "      <td>1748.40</td>\n",
       "      <td>73</td>\n",
       "    </tr>\n",
       "    <tr>\n",
       "      <th>2413</th>\n",
       "      <td>Catholic Priest</td>\n",
       "      <td>1662.53</td>\n",
       "      <td>10</td>\n",
       "    </tr>\n",
       "    <tr>\n",
       "      <th>17994</th>\n",
       "      <td>Unemployed</td>\n",
       "      <td>1620.72</td>\n",
       "      <td>63</td>\n",
       "    </tr>\n",
       "    <tr>\n",
       "      <th>10483</th>\n",
       "      <td>Managing Director</td>\n",
       "      <td>1575.46</td>\n",
       "      <td>44</td>\n",
       "    </tr>\n",
       "    <tr>\n",
       "      <th>2792</th>\n",
       "      <td>Church</td>\n",
       "      <td>1460.29</td>\n",
       "      <td>35</td>\n",
       "    </tr>\n",
       "    <tr>\n",
       "      <th>9176</th>\n",
       "      <td>Investments</td>\n",
       "      <td>1271.53</td>\n",
       "      <td>17</td>\n",
       "    </tr>\n",
       "    <tr>\n",
       "      <th>1411</th>\n",
       "      <td>Bank Employee</td>\n",
       "      <td>1217.77</td>\n",
       "      <td>11</td>\n",
       "    </tr>\n",
       "    <tr>\n",
       "      <th>10518</th>\n",
       "      <td>Manufacturing</td>\n",
       "      <td>1093.78</td>\n",
       "      <td>21</td>\n",
       "    </tr>\n",
       "    <tr>\n",
       "      <th>17650</th>\n",
       "      <td>Trader</td>\n",
       "      <td>1081.93</td>\n",
       "      <td>50</td>\n",
       "    </tr>\n",
       "    <tr>\n",
       "      <th>9224</th>\n",
       "      <td>It</td>\n",
       "      <td>1077.64</td>\n",
       "      <td>322</td>\n",
       "    </tr>\n",
       "    <tr>\n",
       "      <th>3722</th>\n",
       "      <td>Consulting</td>\n",
       "      <td>1071.30</td>\n",
       "      <td>28</td>\n",
       "    </tr>\n",
       "    <tr>\n",
       "      <th>17992</th>\n",
       "      <td>Underwriter</td>\n",
       "      <td>1035.74</td>\n",
       "      <td>14</td>\n",
       "    </tr>\n",
       "  </tbody>\n",
       "</table>\n",
       "</div>"
      ],
      "text/plain": [
       "                           occupation  mean_ind_share  num\n",
       "10125                      Life Coach        44149.74   42\n",
       "7683                           Healer         5511.18   13\n",
       "4240                              Dad         2386.36   10\n",
       "14517           Real Estate Developer         2383.72   22\n",
       "3992                              Cpa         2155.84  101\n",
       "33     501(C)3 Non Profit Corporation         2146.29   12\n",
       "13954              Programmer/Analyst         2042.79   12\n",
       "8751           Information Technology         1891.87  138\n",
       "1423                          Banking         1748.40   73\n",
       "2413                  Catholic Priest         1662.53   10\n",
       "17994                      Unemployed         1620.72   63\n",
       "10483               Managing Director         1575.46   44\n",
       "2792                           Church         1460.29   35\n",
       "9176                      Investments         1271.53   17\n",
       "1411                    Bank Employee         1217.77   11\n",
       "10518                   Manufacturing         1093.78   21\n",
       "17650                          Trader         1081.93   50\n",
       "9224                               It         1077.64  322\n",
       "3722                       Consulting         1071.30   28\n",
       "17992                     Underwriter         1035.74   14"
      ]
     },
     "execution_count": 79,
     "metadata": {},
     "output_type": "execute_result"
    },
    {
     "name": "stdout",
     "output_type": "stream",
     "text": [
      "time: 27.5 ms\n"
     ]
    }
   ],
   "source": [
    "temp5 = temp5.drop(index = temp5[temp5['num']<10].index)\n",
    "temp5 = temp5.sort_values(by=['mean_ind_share'], ascending = False)\n",
    "temp5.head(20)"
   ]
  },
  {
   "cell_type": "code",
   "execution_count": 80,
   "metadata": {
    "ExecuteTime": {
     "end_time": "2020-06-04T13:56:11.190781Z",
     "start_time": "2020-06-04T13:56:11.185768Z"
    }
   },
   "outputs": [
    {
     "data": {
      "text/plain": [
       "'Life Coach'"
      ]
     },
     "execution_count": 80,
     "metadata": {},
     "output_type": "execute_result"
    },
    {
     "name": "stdout",
     "output_type": "stream",
     "text": [
      "time: 5.38 ms\n"
     ]
    }
   ],
   "source": [
    "temp5.occupation.loc[temp5.mean_ind_share.idxmax()]"
   ]
  },
  {
   "cell_type": "markdown",
   "metadata": {},
   "source": [
    "***"
   ]
  },
  {
   "cell_type": "markdown",
   "metadata": {},
   "source": [
    "###  <span style=\"color:#3282b8\"> 15. Cluster the loans according to the year-month of disburse time."
   ]
  },
  {
   "cell_type": "code",
   "execution_count": 81,
   "metadata": {
    "ExecuteTime": {
     "end_time": "2020-06-04T13:56:11.199768Z",
     "start_time": "2020-06-04T13:56:11.191784Z"
    }
   },
   "outputs": [
    {
     "name": "stdout",
     "output_type": "stream",
     "text": [
      "time: 1.02 ms\n"
     ]
    }
   ],
   "source": [
    "pd.options.display.float_format = '{:.0f}'.format"
   ]
  },
  {
   "cell_type": "markdown",
   "metadata": {},
   "source": [
    "Si ricava il mese dalla colonna `disburse_time` del dataframe `loans`. La colonna relativa all'anno è stata già precedentemente costruita al punto 7."
   ]
  },
  {
   "cell_type": "code",
   "execution_count": 82,
   "metadata": {
    "ExecuteTime": {
     "end_time": "2020-06-04T13:56:11.771752Z",
     "start_time": "2020-06-04T13:56:11.200767Z"
    }
   },
   "outputs": [
    {
     "data": {
      "text/html": [
       "<div>\n",
       "<style scoped>\n",
       "    .dataframe tbody tr th:only-of-type {\n",
       "        vertical-align: middle;\n",
       "    }\n",
       "\n",
       "    .dataframe tbody tr th {\n",
       "        vertical-align: top;\n",
       "    }\n",
       "\n",
       "    .dataframe thead th {\n",
       "        text-align: right;\n",
       "    }\n",
       "</style>\n",
       "<table border=\"1\" class=\"dataframe\">\n",
       "  <thead>\n",
       "    <tr style=\"text-align: right;\">\n",
       "      <th></th>\n",
       "      <th>loan_id</th>\n",
       "      <th>disburse_year</th>\n",
       "      <th>disburse_month</th>\n",
       "    </tr>\n",
       "  </thead>\n",
       "  <tbody>\n",
       "    <tr>\n",
       "      <th>0</th>\n",
       "      <td>657307</td>\n",
       "      <td>2013</td>\n",
       "      <td>12</td>\n",
       "    </tr>\n",
       "    <tr>\n",
       "      <th>1</th>\n",
       "      <td>657259</td>\n",
       "      <td>2013</td>\n",
       "      <td>12</td>\n",
       "    </tr>\n",
       "    <tr>\n",
       "      <th>2</th>\n",
       "      <td>658010</td>\n",
       "      <td>2014</td>\n",
       "      <td>1</td>\n",
       "    </tr>\n",
       "    <tr>\n",
       "      <th>3</th>\n",
       "      <td>659347</td>\n",
       "      <td>2014</td>\n",
       "      <td>1</td>\n",
       "    </tr>\n",
       "    <tr>\n",
       "      <th>4</th>\n",
       "      <td>656933</td>\n",
       "      <td>2013</td>\n",
       "      <td>12</td>\n",
       "    </tr>\n",
       "    <tr>\n",
       "      <th>...</th>\n",
       "      <td>...</td>\n",
       "      <td>...</td>\n",
       "      <td>...</td>\n",
       "    </tr>\n",
       "    <tr>\n",
       "      <th>1419602</th>\n",
       "      <td>988180</td>\n",
       "      <td>2015</td>\n",
       "      <td>11</td>\n",
       "    </tr>\n",
       "    <tr>\n",
       "      <th>1419603</th>\n",
       "      <td>988213</td>\n",
       "      <td>2015</td>\n",
       "      <td>11</td>\n",
       "    </tr>\n",
       "    <tr>\n",
       "      <th>1419604</th>\n",
       "      <td>989109</td>\n",
       "      <td>2015</td>\n",
       "      <td>11</td>\n",
       "    </tr>\n",
       "    <tr>\n",
       "      <th>1419605</th>\n",
       "      <td>989143</td>\n",
       "      <td>2015</td>\n",
       "      <td>11</td>\n",
       "    </tr>\n",
       "    <tr>\n",
       "      <th>1419606</th>\n",
       "      <td>989240</td>\n",
       "      <td>2015</td>\n",
       "      <td>11</td>\n",
       "    </tr>\n",
       "  </tbody>\n",
       "</table>\n",
       "<p>1419607 rows × 3 columns</p>\n",
       "</div>"
      ],
      "text/plain": [
       "         loan_id  disburse_year  disburse_month\n",
       "0         657307           2013              12\n",
       "1         657259           2013              12\n",
       "2         658010           2014               1\n",
       "3         659347           2014               1\n",
       "4         656933           2013              12\n",
       "...          ...            ...             ...\n",
       "1419602   988180           2015              11\n",
       "1419603   988213           2015              11\n",
       "1419604   989109           2015              11\n",
       "1419605   989143           2015              11\n",
       "1419606   989240           2015              11\n",
       "\n",
       "[1419607 rows x 3 columns]"
      ]
     },
     "execution_count": 82,
     "metadata": {},
     "output_type": "execute_result"
    },
    {
     "name": "stdout",
     "output_type": "stream",
     "text": [
      "time: 798 ms\n"
     ]
    }
   ],
   "source": [
    "loans['disburse_month'] = pd.to_datetime(loans.disburse_time).dt.month\n",
    "loans_disb_time = loans[['loan_id','disburse_year','disburse_month']]\n",
    "loans_disb_time"
   ]
  },
  {
   "cell_type": "markdown",
   "metadata": {},
   "source": [
    "Si raggruppano i prestiti in base all'anno e al mese."
   ]
  },
  {
   "cell_type": "code",
   "execution_count": 83,
   "metadata": {
    "ExecuteTime": {
     "end_time": "2020-06-04T13:56:12.135741Z",
     "start_time": "2020-06-04T13:56:11.772752Z"
    }
   },
   "outputs": [
    {
     "data": {
      "text/html": [
       "<div>\n",
       "<style scoped>\n",
       "    .dataframe tbody tr th:only-of-type {\n",
       "        vertical-align: middle;\n",
       "    }\n",
       "\n",
       "    .dataframe tbody tr th {\n",
       "        vertical-align: top;\n",
       "    }\n",
       "\n",
       "    .dataframe thead th {\n",
       "        text-align: right;\n",
       "    }\n",
       "</style>\n",
       "<table border=\"1\" class=\"dataframe\">\n",
       "  <thead>\n",
       "    <tr style=\"text-align: right;\">\n",
       "      <th></th>\n",
       "      <th></th>\n",
       "      <th>loan_id</th>\n",
       "    </tr>\n",
       "    <tr>\n",
       "      <th>disburse_year</th>\n",
       "      <th>disburse_month</th>\n",
       "      <th></th>\n",
       "    </tr>\n",
       "  </thead>\n",
       "  <tbody>\n",
       "    <tr>\n",
       "      <th>2005</th>\n",
       "      <th>4</th>\n",
       "      <td>[89, 241, 143, 231, 173, 171, 133, 108, 155, 2...</td>\n",
       "    </tr>\n",
       "    <tr>\n",
       "      <th rowspan=\"4\" valign=\"top\">2006</th>\n",
       "      <th>3</th>\n",
       "      <td>[147]</td>\n",
       "    </tr>\n",
       "    <tr>\n",
       "      <th>5</th>\n",
       "      <td>[406, 350, 399, 377, 349, 313, 347, 317, 312, ...</td>\n",
       "    </tr>\n",
       "    <tr>\n",
       "      <th>6</th>\n",
       "      <td>[457, 439, 436, 470, 438, 372, 477, 393, 448, ...</td>\n",
       "    </tr>\n",
       "    <tr>\n",
       "      <th>7</th>\n",
       "      <td>[480, 514, 532, 497, 527, 390, 494, 548, 559, ...</td>\n",
       "    </tr>\n",
       "    <tr>\n",
       "      <th>...</th>\n",
       "      <th>...</th>\n",
       "      <td>...</td>\n",
       "    </tr>\n",
       "    <tr>\n",
       "      <th rowspan=\"2\" valign=\"top\">2017</th>\n",
       "      <th>11</th>\n",
       "      <td>[1427320, 1429865, 1432025, 1433781, 1435004, ...</td>\n",
       "    </tr>\n",
       "    <tr>\n",
       "      <th>12</th>\n",
       "      <td>[1433150, 1435040, 1441153, 1441165, 1436592, ...</td>\n",
       "    </tr>\n",
       "    <tr>\n",
       "      <th rowspan=\"3\" valign=\"top\">2018</th>\n",
       "      <th>1</th>\n",
       "      <td>[1444070, 1432653, 1432432, 1432647, 1402001, ...</td>\n",
       "    </tr>\n",
       "    <tr>\n",
       "      <th>2</th>\n",
       "      <td>[1418468, 1411544, 1431631, 1431467, 1435193, ...</td>\n",
       "    </tr>\n",
       "    <tr>\n",
       "      <th>3</th>\n",
       "      <td>[1429907, 1429527, 1429565, 1429195, 1429510, ...</td>\n",
       "    </tr>\n",
       "  </tbody>\n",
       "</table>\n",
       "<p>145 rows × 1 columns</p>\n",
       "</div>"
      ],
      "text/plain": [
       "                                                                        loan_id\n",
       "disburse_year disburse_month                                                   \n",
       "2005          4               [89, 241, 143, 231, 173, 171, 133, 108, 155, 2...\n",
       "2006          3                                                           [147]\n",
       "              5               [406, 350, 399, 377, 349, 313, 347, 317, 312, ...\n",
       "              6               [457, 439, 436, 470, 438, 372, 477, 393, 448, ...\n",
       "              7               [480, 514, 532, 497, 527, 390, 494, 548, 559, ...\n",
       "...                                                                         ...\n",
       "2017          11              [1427320, 1429865, 1432025, 1433781, 1435004, ...\n",
       "              12              [1433150, 1435040, 1441153, 1441165, 1436592, ...\n",
       "2018          1               [1444070, 1432653, 1432432, 1432647, 1402001, ...\n",
       "              2               [1418468, 1411544, 1431631, 1431467, 1435193, ...\n",
       "              3               [1429907, 1429527, 1429565, 1429195, 1429510, ...\n",
       "\n",
       "[145 rows x 1 columns]"
      ]
     },
     "execution_count": 83,
     "metadata": {},
     "output_type": "execute_result"
    },
    {
     "name": "stdout",
     "output_type": "stream",
     "text": [
      "time: 446 ms\n"
     ]
    }
   ],
   "source": [
    "loans_disb_time = loans_disb_time.groupby(['disburse_year','disburse_month'])['loan_id'].apply(list)\n",
    "loans_disb_time = pd.DataFrame(loans_disb_time)\n",
    "loans_disb_time"
   ]
  },
  {
   "cell_type": "markdown",
   "metadata": {},
   "source": [
    "***"
   ]
  },
  {
   "cell_type": "markdown",
   "metadata": {},
   "source": [
    "###  <span style=\"color:#3282b8\"> 16. For each country, compute its overall GNI, by multiplying the per capita GNI with its population.\n"
   ]
  },
  {
   "cell_type": "code",
   "execution_count": 84,
   "metadata": {
    "ExecuteTime": {
     "end_time": "2020-06-04T13:56:12.141742Z",
     "start_time": "2020-06-04T13:56:12.138742Z"
    }
   },
   "outputs": [
    {
     "name": "stdout",
     "output_type": "stream",
     "text": [
      "time: 838 µs\n"
     ]
    }
   ],
   "source": [
    "pd.options.display.float_format = '{:.2f}'.format"
   ]
  },
  {
   "cell_type": "markdown",
   "metadata": {},
   "source": [
    "Si considera il dataframe `country_stats`, che include la colonna `gni`. Quest'ultima viene moltiplicata per la colonna `population`, presente sempre nello stesso dataframe, ottendendo in questo modo il GNI totale per ogni paese. "
   ]
  },
  {
   "cell_type": "code",
   "execution_count": 85,
   "metadata": {
    "ExecuteTime": {
     "end_time": "2020-06-04T13:56:12.157740Z",
     "start_time": "2020-06-04T13:56:12.143741Z"
    }
   },
   "outputs": [
    {
     "data": {
      "text/html": [
       "<div>\n",
       "<style scoped>\n",
       "    .dataframe tbody tr th:only-of-type {\n",
       "        vertical-align: middle;\n",
       "    }\n",
       "\n",
       "    .dataframe tbody tr th {\n",
       "        vertical-align: top;\n",
       "    }\n",
       "\n",
       "    .dataframe thead th {\n",
       "        text-align: right;\n",
       "    }\n",
       "</style>\n",
       "<table border=\"1\" class=\"dataframe\">\n",
       "  <thead>\n",
       "    <tr style=\"text-align: right;\">\n",
       "      <th></th>\n",
       "      <th>country_name</th>\n",
       "      <th>country_code</th>\n",
       "      <th>country_GNI</th>\n",
       "    </tr>\n",
       "  </thead>\n",
       "  <tbody>\n",
       "    <tr>\n",
       "      <th>0</th>\n",
       "      <td>India</td>\n",
       "      <td>IN</td>\n",
       "      <td>7584412900586.12</td>\n",
       "    </tr>\n",
       "    <tr>\n",
       "      <th>1</th>\n",
       "      <td>Nigeria</td>\n",
       "      <td>NG</td>\n",
       "      <td>1038975343422.20</td>\n",
       "    </tr>\n",
       "    <tr>\n",
       "      <th>2</th>\n",
       "      <td>Mexico</td>\n",
       "      <td>MX</td>\n",
       "      <td>2116095729846.28</td>\n",
       "    </tr>\n",
       "    <tr>\n",
       "      <th>3</th>\n",
       "      <td>Pakistan</td>\n",
       "      <td>PK</td>\n",
       "      <td>991221367944.40</td>\n",
       "    </tr>\n",
       "    <tr>\n",
       "      <th>4</th>\n",
       "      <td>Bangladesh</td>\n",
       "      <td>BD</td>\n",
       "      <td>550242445160.55</td>\n",
       "    </tr>\n",
       "    <tr>\n",
       "      <th>...</th>\n",
       "      <td>...</td>\n",
       "      <td>...</td>\n",
       "      <td>...</td>\n",
       "    </tr>\n",
       "    <tr>\n",
       "      <th>169</th>\n",
       "      <td>Somalia</td>\n",
       "      <td>SO</td>\n",
       "      <td>nan</td>\n",
       "    </tr>\n",
       "    <tr>\n",
       "      <th>170</th>\n",
       "      <td>Central African Republic</td>\n",
       "      <td>CF</td>\n",
       "      <td>2737088180.82</td>\n",
       "    </tr>\n",
       "    <tr>\n",
       "      <th>171</th>\n",
       "      <td>Samoa</td>\n",
       "      <td>WS</td>\n",
       "      <td>nan</td>\n",
       "    </tr>\n",
       "    <tr>\n",
       "      <th>172</th>\n",
       "      <td>Palestine</td>\n",
       "      <td>PS</td>\n",
       "      <td>nan</td>\n",
       "    </tr>\n",
       "    <tr>\n",
       "      <th>173</th>\n",
       "      <td>Kosovo</td>\n",
       "      <td>XK</td>\n",
       "      <td>nan</td>\n",
       "    </tr>\n",
       "  </tbody>\n",
       "</table>\n",
       "<p>174 rows × 3 columns</p>\n",
       "</div>"
      ],
      "text/plain": [
       "                 country_name country_code      country_GNI\n",
       "0                       India           IN 7584412900586.12\n",
       "1                     Nigeria           NG 1038975343422.20\n",
       "2                      Mexico           MX 2116095729846.28\n",
       "3                    Pakistan           PK  991221367944.40\n",
       "4                  Bangladesh           BD  550242445160.55\n",
       "..                        ...          ...              ...\n",
       "169                   Somalia           SO              nan\n",
       "170  Central African Republic           CF    2737088180.82\n",
       "171                     Samoa           WS              nan\n",
       "172                 Palestine           PS              nan\n",
       "173                    Kosovo           XK              nan\n",
       "\n",
       "[174 rows x 3 columns]"
      ]
     },
     "execution_count": 85,
     "metadata": {},
     "output_type": "execute_result"
    },
    {
     "name": "stdout",
     "output_type": "stream",
     "text": [
      "time: 17.5 ms\n"
     ]
    }
   ],
   "source": [
    "country_stats['country_GNI'] = country_stats['gni']*country_stats['population']\n",
    "country_stats[['country_name','country_code','country_GNI']]"
   ]
  },
  {
   "cell_type": "markdown",
   "metadata": {},
   "source": [
    "È possibile anche ordinare il dataframe in base al valore della nuova variabile `country_GNI`:"
   ]
  },
  {
   "cell_type": "code",
   "execution_count": 86,
   "metadata": {
    "ExecuteTime": {
     "end_time": "2020-06-04T13:56:12.178740Z",
     "start_time": "2020-06-04T13:56:12.158740Z"
    }
   },
   "outputs": [
    {
     "data": {
      "text/html": [
       "<div>\n",
       "<style scoped>\n",
       "    .dataframe tbody tr th:only-of-type {\n",
       "        vertical-align: middle;\n",
       "    }\n",
       "\n",
       "    .dataframe tbody tr th {\n",
       "        vertical-align: top;\n",
       "    }\n",
       "\n",
       "    .dataframe thead th {\n",
       "        text-align: right;\n",
       "    }\n",
       "</style>\n",
       "<table border=\"1\" class=\"dataframe\">\n",
       "  <thead>\n",
       "    <tr style=\"text-align: right;\">\n",
       "      <th></th>\n",
       "      <th>country_name</th>\n",
       "      <th>country_code</th>\n",
       "      <th>country_GNI</th>\n",
       "    </tr>\n",
       "  </thead>\n",
       "  <tbody>\n",
       "    <tr>\n",
       "      <th>7</th>\n",
       "      <td>China</td>\n",
       "      <td>CN</td>\n",
       "      <td>18810682651141.37</td>\n",
       "    </tr>\n",
       "    <tr>\n",
       "      <th>6</th>\n",
       "      <td>United States</td>\n",
       "      <td>US</td>\n",
       "      <td>17275869077835.28</td>\n",
       "    </tr>\n",
       "    <tr>\n",
       "      <th>0</th>\n",
       "      <td>India</td>\n",
       "      <td>IN</td>\n",
       "      <td>7584412900586.12</td>\n",
       "    </tr>\n",
       "    <tr>\n",
       "      <th>13</th>\n",
       "      <td>Japan</td>\n",
       "      <td>JP</td>\n",
       "      <td>4751085902083.71</td>\n",
       "    </tr>\n",
       "    <tr>\n",
       "      <th>23</th>\n",
       "      <td>Germany</td>\n",
       "      <td>DE</td>\n",
       "      <td>3695111105174.92</td>\n",
       "    </tr>\n",
       "    <tr>\n",
       "      <th>14</th>\n",
       "      <td>Russia</td>\n",
       "      <td>RU</td>\n",
       "      <td>3352957024417.66</td>\n",
       "    </tr>\n",
       "    <tr>\n",
       "      <th>45</th>\n",
       "      <td>Brazil</td>\n",
       "      <td>BR</td>\n",
       "      <td>2960411438054.98</td>\n",
       "    </tr>\n",
       "    <tr>\n",
       "      <th>9</th>\n",
       "      <td>Indonesia</td>\n",
       "      <td>ID</td>\n",
       "      <td>2653994482975.69</td>\n",
       "    </tr>\n",
       "    <tr>\n",
       "      <th>36</th>\n",
       "      <td>United Kingdom</td>\n",
       "      <td>GB</td>\n",
       "      <td>2510322251882.61</td>\n",
       "    </tr>\n",
       "    <tr>\n",
       "      <th>42</th>\n",
       "      <td>France</td>\n",
       "      <td>FR</td>\n",
       "      <td>2474772098842.45</td>\n",
       "    </tr>\n",
       "  </tbody>\n",
       "</table>\n",
       "</div>"
      ],
      "text/plain": [
       "      country_name country_code       country_GNI\n",
       "7            China           CN 18810682651141.37\n",
       "6    United States           US 17275869077835.28\n",
       "0            India           IN  7584412900586.12\n",
       "13           Japan           JP  4751085902083.71\n",
       "23         Germany           DE  3695111105174.92\n",
       "14          Russia           RU  3352957024417.66\n",
       "45          Brazil           BR  2960411438054.98\n",
       "9        Indonesia           ID  2653994482975.69\n",
       "36  United Kingdom           GB  2510322251882.61\n",
       "42          France           FR  2474772098842.45"
      ]
     },
     "execution_count": 86,
     "metadata": {},
     "output_type": "execute_result"
    },
    {
     "name": "stdout",
     "output_type": "stream",
     "text": [
      "time: 16 ms\n"
     ]
    }
   ],
   "source": [
    "country_stats[['country_name','country_code','country_GNI']].sort_values('country_GNI', ascending=False).head(10)"
   ]
  },
  {
   "cell_type": "code",
   "execution_count": 87,
   "metadata": {
    "ExecuteTime": {
     "end_time": "2020-06-04T13:56:12.185741Z",
     "start_time": "2020-06-04T13:56:12.179740Z"
    }
   },
   "outputs": [
    {
     "name": "stdout",
     "output_type": "stream",
     "text": [
      "0:37:59.919555\n",
      "time: 2.81 ms\n"
     ]
    }
   ],
   "source": [
    "end = dt.datetime.now()\n",
    "print(end-start)"
   ]
  }
 ],
 "metadata": {
  "kernelspec": {
   "display_name": "Python 3",
   "language": "python",
   "name": "python3"
  },
  "language_info": {
   "codemirror_mode": {
    "name": "ipython",
    "version": 3
   },
   "file_extension": ".py",
   "mimetype": "text/x-python",
   "name": "python",
   "nbconvert_exporter": "python",
   "pygments_lexer": "ipython3",
   "version": "3.7.4"
  }
 },
 "nbformat": 4,
 "nbformat_minor": 2
}
